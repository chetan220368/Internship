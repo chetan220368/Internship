{
 "cells": [
  {
   "cell_type": "code",
   "execution_count": 6,
   "id": "d58eebd7",
   "metadata": {},
   "outputs": [
    {
     "name": "stdout",
     "output_type": "stream",
     "text": [
      "Factorial of 21 is 51090942171709440000\n"
     ]
    }
   ],
   "source": [
    "# python program to find the factorial of a number\n",
    "def factorial(n):  \n",
    "\treturn 1 if (n==1 or n==0) else n * factorial(n - 1);\n",
    "\n",
    "num = 21;  \n",
    "print(\"Factorial of\",num,\"is\",  \n",
    "factorial(num))"
   ]
  },
  {
   "cell_type": "code",
   "execution_count": null,
   "id": "bc7b7d42",
   "metadata": {},
   "outputs": [],
   "source": []
  }
 ],
 "metadata": {
  "kernelspec": {
   "display_name": "Python 3",
   "language": "python",
   "name": "python3"
  },
  "language_info": {
   "codemirror_mode": {
    "name": "ipython",
    "version": 3
   },
   "file_extension": ".py",
   "mimetype": "text/x-python",
   "name": "python",
   "nbconvert_exporter": "python",
   "pygments_lexer": "ipython3",
   "version": "3.8.8"
  }
 },
 "nbformat": 4,
 "nbformat_minor": 5
}

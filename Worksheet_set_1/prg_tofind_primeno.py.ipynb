{
 "cells": [
  {
   "cell_type": "code",
   "execution_count": null,
   "id": "dea896cd",
   "metadata": {},
   "outputs": [],
   "source": [
    "# python program to find whether a number is prime or composite\n",
    "number = int(input(\"Enter The Number\"))\n",
    "\n",
    "if number > 1:\n",
    "    for i in range(2,int(number/2)+1):\n",
    "        if (number % i == 0):\n",
    "            print(number, \"is not a Prime Number\")\n",
    "            break\n",
    "    else:\n",
    "        print(number,\"is a Prime number\")\n",
    "# If the number is less than 1 it can't be Prime    \n",
    "else:\n",
    "    print(number,\"is not a Prime number\")"
   ]
  },
  {
   "cell_type": "code",
   "execution_count": null,
   "id": "e6d18a88",
   "metadata": {},
   "outputs": [],
   "source": []
  },
  {
   "cell_type": "code",
   "execution_count": null,
   "id": "1c71c2a6",
   "metadata": {},
   "outputs": [],
   "source": []
  }
 ],
 "metadata": {
  "kernelspec": {
   "display_name": "Python 3",
   "language": "python",
   "name": "python3"
  },
  "language_info": {
   "codemirror_mode": {
    "name": "ipython",
    "version": 3
   },
   "file_extension": ".py",
   "mimetype": "text/x-python",
   "name": "python",
   "nbconvert_exporter": "python",
   "pygments_lexer": "ipython3",
   "version": "3.8.8"
  }
 },
 "nbformat": 4,
 "nbformat_minor": 5
}

{
 "cells": [
  {
   "cell_type": "code",
   "execution_count": 1,
   "id": "5c9e6644",
   "metadata": {},
   "outputs": [
    {
     "name": "stdout",
     "output_type": "stream",
     "text": [
      "welcome to the program to calculate characters in a string, follow instructions\n",
      "enter the stringAllisWell\n",
      "enter the character to be scannedl\n",
      "word= AllisWell\n",
      "character to count= l\n",
      "recurssion =4\n"
     ]
    }
   ],
   "source": [
    "# python program to print the frequency of each of the characters present in a given string\n",
    "print(\"welcome to the program to calculate characters in a string, follow instructions\")\n",
    "\n",
    "def counter(word,character,number=0):\n",
    "\n",
    "    print(\"word=\",word)\n",
    "\n",
    "    print(\"character to count=\",character)\n",
    "\n",
    "    print(\"recurssion =\",end=\"\")\n",
    "\n",
    "    for i in word:\n",
    "\n",
    "        if(i==character):\n",
    "\n",
    "            number=number+1\n",
    "\n",
    "    print(number)\n",
    "\n",
    "word=input(\"enter the string\")\n",
    "\n",
    "character=input(\"enter the character to be scanned\")\n",
    "\n",
    "counter(word,character)"
   ]
  },
  {
   "cell_type": "code",
   "execution_count": 8,
   "id": "15be5570",
   "metadata": {},
   "outputs": [
    {
     "name": "stdout",
     "output_type": "stream",
     "text": [
      "Count of all characters in AllisWell is : \n",
      "{'A': 1, 'l': 4, 'i': 1, 's': 1, 'W': 1, 'e': 1}\n"
     ]
    }
   ],
   "source": [
    "# Another Method to solve this program\n",
    "test_str = \"AllisWell\"\n",
    "  \n",
    "# using dict.get() to get count \n",
    "# of each element in string \n",
    "res = {}\n",
    "  \n",
    "for keys in test_str:\n",
    "    res[keys] = res.get(keys, 0) + 1\n",
    "  \n",
    "\n",
    "# printing result \n",
    "print (\"Count of all characters in AllisWell is : \\n\"\n",
    "                                             +  str(res))"
   ]
  },
  {
   "cell_type": "code",
   "execution_count": null,
   "id": "673bf21e",
   "metadata": {},
   "outputs": [],
   "source": []
  },
  {
   "cell_type": "code",
   "execution_count": null,
   "id": "82dafcc1",
   "metadata": {},
   "outputs": [],
   "source": []
  }
 ],
 "metadata": {
  "kernelspec": {
   "display_name": "Python 3",
   "language": "python",
   "name": "python3"
  },
  "language_info": {
   "codemirror_mode": {
    "name": "ipython",
    "version": 3
   },
   "file_extension": ".py",
   "mimetype": "text/x-python",
   "name": "python",
   "nbconvert_exporter": "python",
   "pygments_lexer": "ipython3",
   "version": "3.8.8"
  }
 },
 "nbformat": 4,
 "nbformat_minor": 5
}

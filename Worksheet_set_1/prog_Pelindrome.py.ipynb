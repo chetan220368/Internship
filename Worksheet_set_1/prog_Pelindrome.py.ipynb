{
 "cells": [
  {
   "cell_type": "code",
   "execution_count": null,
   "id": "bd5f25b6",
   "metadata": {},
   "outputs": [],
   "source": [
    "# python program to check whether a given string is palindrome or not\n",
    "def reverse(s):\n",
    "\n",
    "    return s[::-1]\n",
    "\n",
    "x=input(\"enter the string\")\n",
    "\n",
    "print(\"reversed string is  \", reverse(x))"
   ]
  },
  {
   "cell_type": "code",
   "execution_count": null,
   "id": "d42de973",
   "metadata": {},
   "outputs": [],
   "source": []
  }
 ],
 "metadata": {
  "kernelspec": {
   "display_name": "Python 3",
   "language": "python",
   "name": "python3"
  },
  "language_info": {
   "codemirror_mode": {
    "name": "ipython",
    "version": 3
   },
   "file_extension": ".py",
   "mimetype": "text/x-python",
   "name": "python",
   "nbconvert_exporter": "python",
   "pygments_lexer": "ipython3",
   "version": "3.8.8"
  }
 },
 "nbformat": 4,
 "nbformat_minor": 5
}

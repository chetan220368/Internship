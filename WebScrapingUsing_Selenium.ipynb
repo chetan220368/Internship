{
 "cells": [
  {
   "cell_type": "markdown",
   "id": "c3c4fcc7",
   "metadata": {},
   "source": [
    "# Web Scraping Assignment-2\n"
   ]
  },
  {
   "cell_type": "markdown",
   "id": "305fc158",
   "metadata": {},
   "source": [
    "# Question1"
   ]
  },
  {
   "cell_type": "code",
   "execution_count": 1,
   "id": "8a11bd4e",
   "metadata": {},
   "outputs": [],
   "source": [
    "#  scrape data for “Data Analyst” Job position in “Bangalore” location."
   ]
  },
  {
   "cell_type": "code",
   "execution_count": 2,
   "id": "77f384cd",
   "metadata": {},
   "outputs": [],
   "source": [
    "# Let's first Install Selenium Library"
   ]
  },
  {
   "cell_type": "code",
   "execution_count": 3,
   "id": "e529122a",
   "metadata": {},
   "outputs": [
    {
     "name": "stdout",
     "output_type": "stream",
     "text": [
      "Requirement already satisfied: selenium in c:\\users\\k k sharma\\anaconda3\\lib\\site-packages (4.1.0)\n",
      "Requirement already satisfied: trio-websocket~=0.9 in c:\\users\\k k sharma\\anaconda3\\lib\\site-packages (from selenium) (0.9.2)\n",
      "Requirement already satisfied: urllib3[secure]~=1.26 in c:\\users\\k k sharma\\anaconda3\\lib\\site-packages (from selenium) (1.26.4)\n",
      "Requirement already satisfied: trio~=0.17 in c:\\users\\k k sharma\\anaconda3\\lib\\site-packages (from selenium) (0.19.0)\n",
      "Requirement already satisfied: attrs>=19.2.0 in c:\\users\\k k sharma\\anaconda3\\lib\\site-packages (from trio~=0.17->selenium) (20.3.0)\n",
      "Requirement already satisfied: idna in c:\\users\\k k sharma\\anaconda3\\lib\\site-packages (from trio~=0.17->selenium) (2.10)\n",
      "Requirement already satisfied: outcome in c:\\users\\k k sharma\\anaconda3\\lib\\site-packages (from trio~=0.17->selenium) (1.1.0)\n",
      "Requirement already satisfied: async-generator>=1.9 in c:\\users\\k k sharma\\anaconda3\\lib\\site-packages (from trio~=0.17->selenium) (1.10)\n",
      "Requirement already satisfied: sniffio in c:\\users\\k k sharma\\anaconda3\\lib\\site-packages (from trio~=0.17->selenium) (1.2.0)\n",
      "Requirement already satisfied: sortedcontainers in c:\\users\\k k sharma\\anaconda3\\lib\\site-packages (from trio~=0.17->selenium) (2.3.0)\n",
      "Requirement already satisfied: cffi>=1.14 in c:\\users\\k k sharma\\anaconda3\\lib\\site-packages (from trio~=0.17->selenium) (1.14.5)\n",
      "Requirement already satisfied: pycparser in c:\\users\\k k sharma\\anaconda3\\lib\\site-packages (from cffi>=1.14->trio~=0.17->selenium) (2.20)\n",
      "Requirement already satisfied: wsproto>=0.14 in c:\\users\\k k sharma\\anaconda3\\lib\\site-packages (from trio-websocket~=0.9->selenium) (1.0.0)\n",
      "Requirement already satisfied: certifi in c:\\users\\k k sharma\\anaconda3\\lib\\site-packages (from urllib3[secure]~=1.26->selenium) (2020.12.5)\n",
      "Requirement already satisfied: cryptography>=1.3.4 in c:\\users\\k k sharma\\anaconda3\\lib\\site-packages (from urllib3[secure]~=1.26->selenium) (3.4.7)\n",
      "Requirement already satisfied: pyOpenSSL>=0.14 in c:\\users\\k k sharma\\anaconda3\\lib\\site-packages (from urllib3[secure]~=1.26->selenium) (20.0.1)\n",
      "Requirement already satisfied: six>=1.5.2 in c:\\users\\k k sharma\\anaconda3\\lib\\site-packages (from pyOpenSSL>=0.14->urllib3[secure]~=1.26->selenium) (1.15.0)\n",
      "Requirement already satisfied: h11<1,>=0.9.0 in c:\\users\\k k sharma\\anaconda3\\lib\\site-packages (from wsproto>=0.14->trio-websocket~=0.9->selenium) (0.12.0)\n"
     ]
    }
   ],
   "source": [
    "!pip install selenium"
   ]
  },
  {
   "cell_type": "code",
   "execution_count": 4,
   "id": "d12cd2cb",
   "metadata": {},
   "outputs": [],
   "source": [
    " # Let's import all required Libraries"
   ]
  },
  {
   "cell_type": "code",
   "execution_count": 5,
   "id": "c77697c3",
   "metadata": {},
   "outputs": [],
   "source": [
    "import selenium\n",
    "from selenium import webdriver\n",
    "import pandas as pd\n",
    "import warnings\n",
    "warnings.filterwarnings(\"ignore\")"
   ]
  },
  {
   "cell_type": "code",
   "execution_count": 43,
   "id": "834a22e2",
   "metadata": {},
   "outputs": [],
   "source": [
    "# Let's first connect to webdriver\n",
    "driver = webdriver.Chrome(r'C:\\Users\\K K SHARMA\\Downloads\\Chromedriver_win32\\Chromedriver')"
   ]
  },
  {
   "cell_type": "code",
   "execution_count": 44,
   "id": "e543b8d9",
   "metadata": {},
   "outputs": [],
   "source": [
    "url ='https://www.naukri.com/'\n",
    "driver.get(url)"
   ]
  },
  {
   "cell_type": "code",
   "execution_count": 46,
   "id": "eb143f7e",
   "metadata": {},
   "outputs": [
    {
     "data": {
      "text/plain": [
       "<selenium.webdriver.remote.webelement.WebElement (session=\"d0012e8b465f2d1e2314d7f7f8268e33\", element=\"bfc82f02-c4a9-4d3b-8ce0-6f1a4a9ab913\")>"
      ]
     },
     "execution_count": 46,
     "metadata": {},
     "output_type": "execute_result"
    }
   ],
   "source": [
    "# Finding web element for search job bar using id\n",
    "search_job = driver.find_element_by_id(\"qsb-keyword-sugg\")\n",
    "search_job"
   ]
  },
  {
   "cell_type": "code",
   "execution_count": 50,
   "id": "1be2f93c",
   "metadata": {},
   "outputs": [],
   "source": [
    "# write on Search bar\n",
    "search_job.send_keys(\"Data Analyst\")"
   ]
  },
  {
   "cell_type": "code",
   "execution_count": 53,
   "id": "a409abeb",
   "metadata": {},
   "outputs": [
    {
     "data": {
      "text/plain": [
       "<selenium.webdriver.remote.webelement.WebElement (session=\"d0012e8b465f2d1e2314d7f7f8268e33\", element=\"e1cf4a4f-b7b9-4038-8625-051d6819ef7a\")>"
      ]
     },
     "execution_count": 53,
     "metadata": {},
     "output_type": "execute_result"
    }
   ],
   "source": [
    "# Finding Web Element for search locn bar using Absolute X Path\n",
    "search_locn = driver.find_element_by_xpath('/html/body/div[1]/div[3]/div[2]/section/div/form/div[2]/div/div/div/div[1]/div[2]/input')\n",
    "search_locn"
   ]
  },
  {
   "cell_type": "code",
   "execution_count": 54,
   "id": "621256d1",
   "metadata": {},
   "outputs": [],
   "source": [
    "# find web element for job location bar\n",
    "search_locn.send_keys(\"Bangalore\")"
   ]
  },
  {
   "cell_type": "code",
   "execution_count": 55,
   "id": "6b4f2041",
   "metadata": {},
   "outputs": [
    {
     "data": {
      "text/plain": [
       "<selenium.webdriver.remote.webelement.WebElement (session=\"d0012e8b465f2d1e2314d7f7f8268e33\", element=\"0d724e85-9b13-4cb0-8cdc-e025bf1987fb\")>"
      ]
     },
     "execution_count": 55,
     "metadata": {},
     "output_type": "execute_result"
    }
   ],
   "source": [
    "# Clicking using absolute X Path function \n",
    "search_btn = driver.find_element_by_xpath('/html/body/div[1]/div[3]/div[2]/section/div/form/div[3]/button')\n",
    "search_btn"
   ]
  },
  {
   "cell_type": "code",
   "execution_count": 56,
   "id": "052d3910",
   "metadata": {},
   "outputs": [],
   "source": [
    "search_btn.click()"
   ]
  },
  {
   "cell_type": "code",
   "execution_count": 57,
   "id": "bc317430",
   "metadata": {},
   "outputs": [],
   "source": [
    "salary_check = driver.find_element_by_xpath('/html/body/div[1]/div[3]/div[2]/section[2]/div[2]/article[1]/div[1]/div/ul/li[1]')\n",
    "salary_check.click()"
   ]
  },
  {
   "cell_type": "code",
   "execution_count": 58,
   "id": "dc7495f0",
   "metadata": {},
   "outputs": [
    {
     "data": {
      "text/plain": [
       "20"
      ]
     },
     "execution_count": 58,
     "metadata": {},
     "output_type": "execute_result"
    }
   ],
   "source": [
    "# SCRAPING JOB TITLES\n",
    "\n",
    "title_tags = driver.find_elements_by_xpath('//a[@class=\"title fw500 ellipsis\"]')\n",
    "len(title_tags)"
   ]
  },
  {
   "cell_type": "code",
   "execution_count": 59,
   "id": "c2ae3b67",
   "metadata": {},
   "outputs": [
    {
     "data": {
      "text/plain": [
       "[<selenium.webdriver.remote.webelement.WebElement (session=\"d0012e8b465f2d1e2314d7f7f8268e33\", element=\"0a8b8d9f-2e83-4a3f-adaf-ae9ea6de5274\")>,\n",
       " <selenium.webdriver.remote.webelement.WebElement (session=\"d0012e8b465f2d1e2314d7f7f8268e33\", element=\"1d523ae6-8e37-4268-81b9-28abc2b88e52\")>,\n",
       " <selenium.webdriver.remote.webelement.WebElement (session=\"d0012e8b465f2d1e2314d7f7f8268e33\", element=\"992ac0fd-f253-4edc-9b16-3554b5ccefee\")>,\n",
       " <selenium.webdriver.remote.webelement.WebElement (session=\"d0012e8b465f2d1e2314d7f7f8268e33\", element=\"9d3ec6fa-4319-4af7-9f35-dd96d01e3b61\")>,\n",
       " <selenium.webdriver.remote.webelement.WebElement (session=\"d0012e8b465f2d1e2314d7f7f8268e33\", element=\"a62e8f17-5889-4c51-8dfd-09d90c09c8e5\")>,\n",
       " <selenium.webdriver.remote.webelement.WebElement (session=\"d0012e8b465f2d1e2314d7f7f8268e33\", element=\"a4041679-c3e1-4722-8deb-8b2b86eb69e9\")>,\n",
       " <selenium.webdriver.remote.webelement.WebElement (session=\"d0012e8b465f2d1e2314d7f7f8268e33\", element=\"afe91f77-aadb-40f7-ad4d-d91740edde70\")>,\n",
       " <selenium.webdriver.remote.webelement.WebElement (session=\"d0012e8b465f2d1e2314d7f7f8268e33\", element=\"1131c8f3-3c29-4a60-8e44-2d098d0345d1\")>,\n",
       " <selenium.webdriver.remote.webelement.WebElement (session=\"d0012e8b465f2d1e2314d7f7f8268e33\", element=\"199dcf92-80da-457e-94d7-23e94ac67bc1\")>,\n",
       " <selenium.webdriver.remote.webelement.WebElement (session=\"d0012e8b465f2d1e2314d7f7f8268e33\", element=\"0935ca78-a161-44a5-bcea-1dd196fc878e\")>]"
      ]
     },
     "execution_count": 59,
     "metadata": {},
     "output_type": "execute_result"
    }
   ],
   "source": [
    "title_tags[0:10]"
   ]
  },
  {
   "cell_type": "code",
   "execution_count": 60,
   "id": "f40435b4",
   "metadata": {},
   "outputs": [
    {
     "data": {
      "text/plain": [
       "['Data Analyst',\n",
       " 'Lead - Data Analyst / Scientist',\n",
       " 'Senior Data Analyst - KPO',\n",
       " 'Data Science Analyst',\n",
       " 'Data Analyst - EdTech',\n",
       " 'Data Analyst',\n",
       " 'Data Management Analyst(Python SaaS) (Contractual)',\n",
       " 'Assistant Manager / Lead / Manager - Data Analyst - KPO',\n",
       " 'Senior Data Analyst - KPO',\n",
       " 'Assistant Manager / Lead / Manager - Data Analyst - KPO']"
      ]
     },
     "execution_count": 60,
     "metadata": {},
     "output_type": "execute_result"
    }
   ],
   "source": [
    "job_titles = []\n",
    "\n",
    "for i in title_tags:\n",
    "    job_titles.append(i.text)\n",
    "len(job_titles)\n",
    "job_titles[0:10]"
   ]
  },
  {
   "cell_type": "code",
   "execution_count": 61,
   "id": "5ea433e1",
   "metadata": {},
   "outputs": [
    {
     "data": {
      "text/plain": [
       "20"
      ]
     },
     "execution_count": 61,
     "metadata": {},
     "output_type": "execute_result"
    }
   ],
   "source": [
    "# Extracting Company Names\n",
    "\n",
    "company_tags = driver.find_elements_by_xpath('//a[@class=\"subTitle ellipsis fleft\"]')\n",
    "len(company_tags)"
   ]
  },
  {
   "cell_type": "code",
   "execution_count": 62,
   "id": "604120f3",
   "metadata": {},
   "outputs": [
    {
     "data": {
      "text/plain": [
       "[<selenium.webdriver.remote.webelement.WebElement (session=\"d0012e8b465f2d1e2314d7f7f8268e33\", element=\"cea5db3d-4b4f-45cc-8991-1467b0204794\")>,\n",
       " <selenium.webdriver.remote.webelement.WebElement (session=\"d0012e8b465f2d1e2314d7f7f8268e33\", element=\"42590197-3a04-4efb-8db4-43c2f4e859a6\")>,\n",
       " <selenium.webdriver.remote.webelement.WebElement (session=\"d0012e8b465f2d1e2314d7f7f8268e33\", element=\"55ebc2ea-e181-4a71-b1a2-29c1e91a0acb\")>,\n",
       " <selenium.webdriver.remote.webelement.WebElement (session=\"d0012e8b465f2d1e2314d7f7f8268e33\", element=\"59cc776a-ca51-4fd2-904c-629885de093e\")>,\n",
       " <selenium.webdriver.remote.webelement.WebElement (session=\"d0012e8b465f2d1e2314d7f7f8268e33\", element=\"7ce7e17e-e9fc-4971-aa58-8864e6269522\")>,\n",
       " <selenium.webdriver.remote.webelement.WebElement (session=\"d0012e8b465f2d1e2314d7f7f8268e33\", element=\"d3acc3e9-bf13-499d-8890-b0dd6de73b70\")>,\n",
       " <selenium.webdriver.remote.webelement.WebElement (session=\"d0012e8b465f2d1e2314d7f7f8268e33\", element=\"6d1c4c96-d654-4508-ad8e-5e6af3c5628b\")>,\n",
       " <selenium.webdriver.remote.webelement.WebElement (session=\"d0012e8b465f2d1e2314d7f7f8268e33\", element=\"f8751951-a5be-4e69-a900-0807d4c8ab8b\")>,\n",
       " <selenium.webdriver.remote.webelement.WebElement (session=\"d0012e8b465f2d1e2314d7f7f8268e33\", element=\"1e6ba486-fdb9-4ef2-9c10-c40ef0e5d158\")>,\n",
       " <selenium.webdriver.remote.webelement.WebElement (session=\"d0012e8b465f2d1e2314d7f7f8268e33\", element=\"3c5175fe-afe3-4075-997d-e7b0512211ea\")>]"
      ]
     },
     "execution_count": 62,
     "metadata": {},
     "output_type": "execute_result"
    }
   ],
   "source": [
    "company_tags[0:10]"
   ]
  },
  {
   "cell_type": "code",
   "execution_count": 63,
   "id": "b156192b",
   "metadata": {},
   "outputs": [
    {
     "data": {
      "text/plain": [
       "20"
      ]
     },
     "execution_count": 63,
     "metadata": {},
     "output_type": "execute_result"
    }
   ],
   "source": [
    "company_names = []\n",
    "\n",
    "for i in company_tags:\n",
    "    company_names.append(i.text)\n",
    "len(company_names)"
   ]
  },
  {
   "cell_type": "code",
   "execution_count": 72,
   "id": "220b4417",
   "metadata": {},
   "outputs": [
    {
     "data": {
      "text/plain": [
       "['Jeeva Organic',\n",
       " 'Axim Technologies',\n",
       " 'Huquo Consulting Pvt. Ltd',\n",
       " 'Perfect Day',\n",
       " 'TalentStack',\n",
       " 'WEIWO Communication Pvt. Ltd.',\n",
       " 'Orcapod Consulting Services Private Limited',\n",
       " 'Huquo Consulting Pvt. Ltd',\n",
       " 'Huquo Consulting Pvt. Ltd',\n",
       " 'Huquo Consulting Pvt. Ltd']"
      ]
     },
     "execution_count": 72,
     "metadata": {},
     "output_type": "execute_result"
    }
   ],
   "source": [
    "company_names[0:10]"
   ]
  },
  {
   "cell_type": "code",
   "execution_count": 65,
   "id": "0352ef90",
   "metadata": {},
   "outputs": [
    {
     "data": {
      "text/plain": [
       "20"
      ]
     },
     "execution_count": 65,
     "metadata": {},
     "output_type": "execute_result"
    }
   ],
   "source": [
    "# Extracting Experiance\n",
    "\n",
    "exp_tags = driver.find_elements_by_xpath('//li[@class=\"fleft grey-text br2 placeHolderLi experience\"]')\n",
    "len(exp_tags)"
   ]
  },
  {
   "cell_type": "code",
   "execution_count": 71,
   "id": "f0e49499",
   "metadata": {},
   "outputs": [
    {
     "data": {
      "text/plain": [
       "['3-8 Yrs',\n",
       " '12-14 Yrs',\n",
       " '7-12 Yrs',\n",
       " '5-7 Yrs',\n",
       " '2-6 Yrs',\n",
       " '2-7 Yrs',\n",
       " '2-6 Yrs',\n",
       " '2-6 Yrs',\n",
       " '7-12 Yrs',\n",
       " '2-6 Yrs']"
      ]
     },
     "execution_count": 71,
     "metadata": {},
     "output_type": "execute_result"
    }
   ],
   "source": [
    "experiance = []\n",
    "\n",
    "for i in exp_tags:\n",
    "    experiance.append(i.text)\n",
    "experiance[0:10]"
   ]
  },
  {
   "cell_type": "code",
   "execution_count": 73,
   "id": "3d21f686",
   "metadata": {},
   "outputs": [
    {
     "data": {
      "text/plain": [
       "20"
      ]
     },
     "execution_count": 73,
     "metadata": {},
     "output_type": "execute_result"
    }
   ],
   "source": [
    "# Extracting Location\n",
    "\n",
    "locn_tags = driver.find_elements_by_xpath('//li[@class=\"fleft grey-text br2 placeHolderLi location\"]')\n",
    "len(locn_tags)"
   ]
  },
  {
   "cell_type": "code",
   "execution_count": 74,
   "id": "2b53bdfb",
   "metadata": {},
   "outputs": [
    {
     "data": {
      "text/plain": [
       "[<selenium.webdriver.remote.webelement.WebElement (session=\"d0012e8b465f2d1e2314d7f7f8268e33\", element=\"f8a8f752-a6c6-4ff2-acc4-66d3988b7958\")>,\n",
       " <selenium.webdriver.remote.webelement.WebElement (session=\"d0012e8b465f2d1e2314d7f7f8268e33\", element=\"bee527db-7139-4d7d-b682-dab722d06e02\")>,\n",
       " <selenium.webdriver.remote.webelement.WebElement (session=\"d0012e8b465f2d1e2314d7f7f8268e33\", element=\"0527483f-4163-4234-a437-31d20cef68cc\")>,\n",
       " <selenium.webdriver.remote.webelement.WebElement (session=\"d0012e8b465f2d1e2314d7f7f8268e33\", element=\"aec1ea23-3c52-4a9c-97ac-c18cdf14339a\")>,\n",
       " <selenium.webdriver.remote.webelement.WebElement (session=\"d0012e8b465f2d1e2314d7f7f8268e33\", element=\"0a166636-2684-4afb-b89a-577e2a9683cc\")>,\n",
       " <selenium.webdriver.remote.webelement.WebElement (session=\"d0012e8b465f2d1e2314d7f7f8268e33\", element=\"5a79cdc2-cab0-4d8f-9709-1addf39f5fb1\")>,\n",
       " <selenium.webdriver.remote.webelement.WebElement (session=\"d0012e8b465f2d1e2314d7f7f8268e33\", element=\"1b5901d1-6149-4e8f-a8d8-077ee81250c1\")>,\n",
       " <selenium.webdriver.remote.webelement.WebElement (session=\"d0012e8b465f2d1e2314d7f7f8268e33\", element=\"431ea2f0-61f7-4b85-a299-c702bd620025\")>,\n",
       " <selenium.webdriver.remote.webelement.WebElement (session=\"d0012e8b465f2d1e2314d7f7f8268e33\", element=\"3932c233-d543-4608-b0c9-e46adab8ca78\")>,\n",
       " <selenium.webdriver.remote.webelement.WebElement (session=\"d0012e8b465f2d1e2314d7f7f8268e33\", element=\"87ea8785-639b-42f3-8a48-2f6ced3838a2\")>]"
      ]
     },
     "execution_count": 74,
     "metadata": {},
     "output_type": "execute_result"
    }
   ],
   "source": [
    "locn_tags[0:10]"
   ]
  },
  {
   "cell_type": "code",
   "execution_count": 75,
   "id": "3fb84313",
   "metadata": {},
   "outputs": [
    {
     "data": {
      "text/plain": [
       "20"
      ]
     },
     "execution_count": 75,
     "metadata": {},
     "output_type": "execute_result"
    }
   ],
   "source": [
    "location = []\n",
    "\n",
    "for i in locn_tags:\n",
    "    location.append(i.text)\n",
    "len(location)"
   ]
  },
  {
   "cell_type": "code",
   "execution_count": 76,
   "id": "88be3b03",
   "metadata": {},
   "outputs": [
    {
     "data": {
      "text/plain": [
       "(20, 20, 20, 20)"
      ]
     },
     "execution_count": 76,
     "metadata": {},
     "output_type": "execute_result"
    }
   ],
   "source": [
    "len(job_titles), len(company_names), len(experiance), len(location)"
   ]
  },
  {
   "cell_type": "code",
   "execution_count": 79,
   "id": "ad225a05",
   "metadata": {},
   "outputs": [
    {
     "data": {
      "text/html": [
       "<div>\n",
       "<style scoped>\n",
       "    .dataframe tbody tr th:only-of-type {\n",
       "        vertical-align: middle;\n",
       "    }\n",
       "\n",
       "    .dataframe tbody tr th {\n",
       "        vertical-align: top;\n",
       "    }\n",
       "\n",
       "    .dataframe thead th {\n",
       "        text-align: right;\n",
       "    }\n",
       "</style>\n",
       "<table border=\"1\" class=\"dataframe\">\n",
       "  <thead>\n",
       "    <tr style=\"text-align: right;\">\n",
       "      <th></th>\n",
       "      <th>Job Title</th>\n",
       "      <th>Company</th>\n",
       "      <th>experiance</th>\n",
       "      <th>Location</th>\n",
       "    </tr>\n",
       "  </thead>\n",
       "  <tbody>\n",
       "    <tr>\n",
       "      <th>0</th>\n",
       "      <td>Data Analyst</td>\n",
       "      <td>Jeeva Organic</td>\n",
       "      <td>3-8 Yrs</td>\n",
       "      <td>Bangalore/Bengaluru</td>\n",
       "    </tr>\n",
       "    <tr>\n",
       "      <th>1</th>\n",
       "      <td>Lead - Data Analyst / Scientist</td>\n",
       "      <td>Axim Technologies</td>\n",
       "      <td>12-14 Yrs</td>\n",
       "      <td>Bangalore/Bengaluru</td>\n",
       "    </tr>\n",
       "    <tr>\n",
       "      <th>2</th>\n",
       "      <td>Senior Data Analyst - KPO</td>\n",
       "      <td>Huquo Consulting Pvt. Ltd</td>\n",
       "      <td>7-12 Yrs</td>\n",
       "      <td>Gurgaon/Gurugram, Bangalore/Bengaluru</td>\n",
       "    </tr>\n",
       "    <tr>\n",
       "      <th>3</th>\n",
       "      <td>Data Science Analyst</td>\n",
       "      <td>Perfect Day</td>\n",
       "      <td>5-7 Yrs</td>\n",
       "      <td>Bangalore/Bengaluru</td>\n",
       "    </tr>\n",
       "    <tr>\n",
       "      <th>4</th>\n",
       "      <td>Data Analyst - EdTech</td>\n",
       "      <td>TalentStack</td>\n",
       "      <td>2-6 Yrs</td>\n",
       "      <td>Bangalore/Bengaluru</td>\n",
       "    </tr>\n",
       "    <tr>\n",
       "      <th>5</th>\n",
       "      <td>Data Analyst</td>\n",
       "      <td>WEIWO Communication Pvt. Ltd.</td>\n",
       "      <td>2-7 Yrs</td>\n",
       "      <td>Bangalore/Bengaluru(Ulsoor)</td>\n",
       "    </tr>\n",
       "    <tr>\n",
       "      <th>6</th>\n",
       "      <td>Data Management Analyst(Python SaaS) (Contract...</td>\n",
       "      <td>Orcapod Consulting Services Private Limited</td>\n",
       "      <td>2-6 Yrs</td>\n",
       "      <td>Remote</td>\n",
       "    </tr>\n",
       "    <tr>\n",
       "      <th>7</th>\n",
       "      <td>Assistant Manager / Lead / Manager - Data Anal...</td>\n",
       "      <td>Huquo Consulting Pvt. Ltd</td>\n",
       "      <td>2-6 Yrs</td>\n",
       "      <td>Gurgaon/Gurugram, Bangalore/Bengaluru</td>\n",
       "    </tr>\n",
       "    <tr>\n",
       "      <th>8</th>\n",
       "      <td>Senior Data Analyst - KPO</td>\n",
       "      <td>Huquo Consulting Pvt. Ltd</td>\n",
       "      <td>7-12 Yrs</td>\n",
       "      <td>Gurgaon/Gurugram, Bangalore/Bengaluru</td>\n",
       "    </tr>\n",
       "    <tr>\n",
       "      <th>9</th>\n",
       "      <td>Assistant Manager / Lead / Manager - Data Anal...</td>\n",
       "      <td>Huquo Consulting Pvt. Ltd</td>\n",
       "      <td>2-6 Yrs</td>\n",
       "      <td>Gurgaon/Gurugram, Bangalore/Bengaluru</td>\n",
       "    </tr>\n",
       "    <tr>\n",
       "      <th>10</th>\n",
       "      <td>Assistant Manager/Lead/Manager - Data Analyst ...</td>\n",
       "      <td>Huquo Consulting Pvt. Ltd</td>\n",
       "      <td>2-6 Yrs</td>\n",
       "      <td>Gurgaon/Gurugram, Bangalore/Bengaluru</td>\n",
       "    </tr>\n",
       "    <tr>\n",
       "      <th>11</th>\n",
       "      <td>Data Analyst</td>\n",
       "      <td>ACZ Global Private Limited</td>\n",
       "      <td>2-6 Yrs</td>\n",
       "      <td>Kolkata, Hyderabad/Secunderabad, Bangalore/Ben...</td>\n",
       "    </tr>\n",
       "    <tr>\n",
       "      <th>12</th>\n",
       "      <td>HR Data Analyst</td>\n",
       "      <td>WEIWO Communication Pvt. Ltd.</td>\n",
       "      <td>3-6 Yrs</td>\n",
       "      <td>Bangalore/Bengaluru(Ulsoor)</td>\n",
       "    </tr>\n",
       "    <tr>\n",
       "      <th>13</th>\n",
       "      <td>Lead Data Analyst</td>\n",
       "      <td>Nike India</td>\n",
       "      <td>1-6 Yrs</td>\n",
       "      <td>Bangalore/Bengaluru</td>\n",
       "    </tr>\n",
       "    <tr>\n",
       "      <th>14</th>\n",
       "      <td>Data Analyst</td>\n",
       "      <td>Snaphunt</td>\n",
       "      <td>0-2 Yrs</td>\n",
       "      <td>Bangalore/Bengaluru</td>\n",
       "    </tr>\n",
       "    <tr>\n",
       "      <th>15</th>\n",
       "      <td>Data Visualization Analyst - PowerBI/ Tableau</td>\n",
       "      <td>Pharmaceutical Product Development</td>\n",
       "      <td>4-6 Yrs</td>\n",
       "      <td>Bangalore/Bengaluru</td>\n",
       "    </tr>\n",
       "    <tr>\n",
       "      <th>16</th>\n",
       "      <td>Data Analyst</td>\n",
       "      <td>Flipkart</td>\n",
       "      <td>1-2 Yrs</td>\n",
       "      <td>Bengaluru/Bangalore</td>\n",
       "    </tr>\n",
       "    <tr>\n",
       "      <th>17</th>\n",
       "      <td>Data Analyst</td>\n",
       "      <td>Venuestring Events Management Pvt Ltd</td>\n",
       "      <td>1-2 Yrs</td>\n",
       "      <td>Bangalore/Bengaluru, Delhi / NCR, Mumbai (All ...</td>\n",
       "    </tr>\n",
       "    <tr>\n",
       "      <th>18</th>\n",
       "      <td>Senior Data Analyst</td>\n",
       "      <td>Glance</td>\n",
       "      <td>1-6 Yrs</td>\n",
       "      <td>Bangalore/Bengaluru</td>\n",
       "    </tr>\n",
       "    <tr>\n",
       "      <th>19</th>\n",
       "      <td>Senior Data Analyst</td>\n",
       "      <td>Glance IT Solution</td>\n",
       "      <td>1-6 Yrs</td>\n",
       "      <td>Bangalore/Bengaluru</td>\n",
       "    </tr>\n",
       "  </tbody>\n",
       "</table>\n",
       "</div>"
      ],
      "text/plain": [
       "                                            Job Title  \\\n",
       "0                                        Data Analyst   \n",
       "1                     Lead - Data Analyst / Scientist   \n",
       "2                           Senior Data Analyst - KPO   \n",
       "3                                Data Science Analyst   \n",
       "4                               Data Analyst - EdTech   \n",
       "5                                        Data Analyst   \n",
       "6   Data Management Analyst(Python SaaS) (Contract...   \n",
       "7   Assistant Manager / Lead / Manager - Data Anal...   \n",
       "8                           Senior Data Analyst - KPO   \n",
       "9   Assistant Manager / Lead / Manager - Data Anal...   \n",
       "10  Assistant Manager/Lead/Manager - Data Analyst ...   \n",
       "11                                       Data Analyst   \n",
       "12                                    HR Data Analyst   \n",
       "13                                  Lead Data Analyst   \n",
       "14                                       Data Analyst   \n",
       "15      Data Visualization Analyst - PowerBI/ Tableau   \n",
       "16                                       Data Analyst   \n",
       "17                                       Data Analyst   \n",
       "18                                Senior Data Analyst   \n",
       "19                                Senior Data Analyst   \n",
       "\n",
       "                                        Company experiance  \\\n",
       "0                                 Jeeva Organic    3-8 Yrs   \n",
       "1                             Axim Technologies  12-14 Yrs   \n",
       "2                     Huquo Consulting Pvt. Ltd   7-12 Yrs   \n",
       "3                                   Perfect Day    5-7 Yrs   \n",
       "4                                   TalentStack    2-6 Yrs   \n",
       "5                 WEIWO Communication Pvt. Ltd.    2-7 Yrs   \n",
       "6   Orcapod Consulting Services Private Limited    2-6 Yrs   \n",
       "7                     Huquo Consulting Pvt. Ltd    2-6 Yrs   \n",
       "8                     Huquo Consulting Pvt. Ltd   7-12 Yrs   \n",
       "9                     Huquo Consulting Pvt. Ltd    2-6 Yrs   \n",
       "10                    Huquo Consulting Pvt. Ltd    2-6 Yrs   \n",
       "11                   ACZ Global Private Limited    2-6 Yrs   \n",
       "12                WEIWO Communication Pvt. Ltd.    3-6 Yrs   \n",
       "13                                   Nike India    1-6 Yrs   \n",
       "14                                     Snaphunt    0-2 Yrs   \n",
       "15           Pharmaceutical Product Development    4-6 Yrs   \n",
       "16                                     Flipkart    1-2 Yrs   \n",
       "17        Venuestring Events Management Pvt Ltd    1-2 Yrs   \n",
       "18                                       Glance    1-6 Yrs   \n",
       "19                           Glance IT Solution    1-6 Yrs   \n",
       "\n",
       "                                             Location  \n",
       "0                                 Bangalore/Bengaluru  \n",
       "1                                 Bangalore/Bengaluru  \n",
       "2               Gurgaon/Gurugram, Bangalore/Bengaluru  \n",
       "3                                 Bangalore/Bengaluru  \n",
       "4                                 Bangalore/Bengaluru  \n",
       "5                         Bangalore/Bengaluru(Ulsoor)  \n",
       "6                                              Remote  \n",
       "7               Gurgaon/Gurugram, Bangalore/Bengaluru  \n",
       "8               Gurgaon/Gurugram, Bangalore/Bengaluru  \n",
       "9               Gurgaon/Gurugram, Bangalore/Bengaluru  \n",
       "10              Gurgaon/Gurugram, Bangalore/Bengaluru  \n",
       "11  Kolkata, Hyderabad/Secunderabad, Bangalore/Ben...  \n",
       "12                        Bangalore/Bengaluru(Ulsoor)  \n",
       "13                                Bangalore/Bengaluru  \n",
       "14                                Bangalore/Bengaluru  \n",
       "15                                Bangalore/Bengaluru  \n",
       "16                                Bengaluru/Bangalore  \n",
       "17  Bangalore/Bengaluru, Delhi / NCR, Mumbai (All ...  \n",
       "18                                Bangalore/Bengaluru  \n",
       "19                                Bangalore/Bengaluru  "
      ]
     },
     "execution_count": 79,
     "metadata": {},
     "output_type": "execute_result"
    }
   ],
   "source": [
    "jobs = pd.DataFrame()\n",
    "jobs['Job Title'] = job_titles\n",
    "jobs['Company'] = company_names\n",
    "jobs['experiance'] = experiance\n",
    "jobs['Location'] = location\n",
    "jobs"
   ]
  },
  {
   "cell_type": "markdown",
   "id": "d95a8404",
   "metadata": {},
   "source": [
    "# Question2"
   ]
  },
  {
   "cell_type": "code",
   "execution_count": 80,
   "id": "c01831db",
   "metadata": {},
   "outputs": [],
   "source": [
    "# scrape data for “Data Scientist” Job position in “Bangalore” location."
   ]
  },
  {
   "cell_type": "code",
   "execution_count": 81,
   "id": "fb079b8c",
   "metadata": {},
   "outputs": [],
   "source": [
    "# Let's import all required Libraries"
   ]
  },
  {
   "cell_type": "code",
   "execution_count": 82,
   "id": "bd521083",
   "metadata": {},
   "outputs": [],
   "source": [
    "import selenium\n",
    "from selenium import webdriver\n",
    "import pandas as pd\n",
    "import warnings\n",
    "warnings.filterwarnings(\"ignore\")"
   ]
  },
  {
   "cell_type": "code",
   "execution_count": 92,
   "id": "26e5b4e6",
   "metadata": {},
   "outputs": [],
   "source": [
    "# Let's first connect to webdriver\n",
    "driver = webdriver.Chrome(r'C:\\Users\\K K SHARMA\\Downloads\\Chromedriver_win32\\Chromedriver')"
   ]
  },
  {
   "cell_type": "code",
   "execution_count": 93,
   "id": "159544bf",
   "metadata": {},
   "outputs": [],
   "source": [
    "url ='https://www.naukri.com/'\n",
    "driver.get(url)"
   ]
  },
  {
   "cell_type": "code",
   "execution_count": 94,
   "id": "b6f45a10",
   "metadata": {},
   "outputs": [
    {
     "data": {
      "text/plain": [
       "<selenium.webdriver.remote.webelement.WebElement (session=\"ab78f599fd2dd6a09d907edf761cb2ac\", element=\"21074fc3-54cb-4d26-ad93-69e5d69d68fa\")>"
      ]
     },
     "execution_count": 94,
     "metadata": {},
     "output_type": "execute_result"
    }
   ],
   "source": [
    "# Finding web element for search job bar using id\n",
    "search_job = driver.find_element_by_id(\"qsb-keyword-sugg\")\n",
    "search_job"
   ]
  },
  {
   "cell_type": "code",
   "execution_count": 95,
   "id": "47a3b453",
   "metadata": {},
   "outputs": [],
   "source": [
    "# write on Search bar\n",
    "search_job.send_keys(\"Data Scientist\")"
   ]
  },
  {
   "cell_type": "code",
   "execution_count": 96,
   "id": "168a76c2",
   "metadata": {},
   "outputs": [
    {
     "data": {
      "text/plain": [
       "<selenium.webdriver.remote.webelement.WebElement (session=\"ab78f599fd2dd6a09d907edf761cb2ac\", element=\"666b17fb-341e-4eb8-b18c-8aa4f870c429\")>"
      ]
     },
     "execution_count": 96,
     "metadata": {},
     "output_type": "execute_result"
    }
   ],
   "source": [
    "# Finding Web Element for search locn bar using Absolute X Path\n",
    "search_locn = driver.find_element_by_xpath('/html/body/div[1]/div[3]/div[2]/section/div/form/div[2]/div/div/div/div[1]/div[2]/input')\n",
    "search_locn"
   ]
  },
  {
   "cell_type": "code",
   "execution_count": 97,
   "id": "118c82b2",
   "metadata": {},
   "outputs": [],
   "source": [
    "# find web element for job location bar\n",
    "search_locn.send_keys(\"Bangalore\")"
   ]
  },
  {
   "cell_type": "code",
   "execution_count": 98,
   "id": "a8905cee",
   "metadata": {},
   "outputs": [
    {
     "data": {
      "text/plain": [
       "<selenium.webdriver.remote.webelement.WebElement (session=\"ab78f599fd2dd6a09d907edf761cb2ac\", element=\"2231dde5-a7c3-4e4e-9d23-6d4a05f2b63e\")>"
      ]
     },
     "execution_count": 98,
     "metadata": {},
     "output_type": "execute_result"
    }
   ],
   "source": [
    "# Clicking using absolute X Path function \n",
    "search_btn = driver.find_element_by_xpath('/html/body/div[1]/div[3]/div[2]/section/div/form/div[3]/button')\n",
    "search_btn"
   ]
  },
  {
   "cell_type": "code",
   "execution_count": 99,
   "id": "d77eddba",
   "metadata": {},
   "outputs": [],
   "source": [
    "search_btn.click()"
   ]
  },
  {
   "cell_type": "code",
   "execution_count": 100,
   "id": "4747c1cd",
   "metadata": {},
   "outputs": [],
   "source": [
    "salary_check = driver.find_element_by_xpath('/html/body/div[1]/div[3]/div[2]/section[2]/div[2]/article[1]/div[1]/div[1]/ul/li[2]')\n",
    "salary_check.click()"
   ]
  },
  {
   "cell_type": "code",
   "execution_count": 101,
   "id": "b6550448",
   "metadata": {},
   "outputs": [
    {
     "data": {
      "text/plain": [
       "20"
      ]
     },
     "execution_count": 101,
     "metadata": {},
     "output_type": "execute_result"
    }
   ],
   "source": [
    "# SCRAPING JOB TITLES\n",
    "\n",
    "title_tags = driver.find_elements_by_xpath('//a[@class=\"title fw500 ellipsis\"]')\n",
    "len(title_tags)"
   ]
  },
  {
   "cell_type": "code",
   "execution_count": 102,
   "id": "2a85b72f",
   "metadata": {},
   "outputs": [
    {
     "data": {
      "text/plain": [
       "[<selenium.webdriver.remote.webelement.WebElement (session=\"ab78f599fd2dd6a09d907edf761cb2ac\", element=\"9269e471-51af-4a6d-979a-de52d021fc40\")>,\n",
       " <selenium.webdriver.remote.webelement.WebElement (session=\"ab78f599fd2dd6a09d907edf761cb2ac\", element=\"e6da206f-60b5-4626-a5ed-bc350673a9b3\")>,\n",
       " <selenium.webdriver.remote.webelement.WebElement (session=\"ab78f599fd2dd6a09d907edf761cb2ac\", element=\"9621b9b7-5d13-419b-a835-f784a7aa030a\")>,\n",
       " <selenium.webdriver.remote.webelement.WebElement (session=\"ab78f599fd2dd6a09d907edf761cb2ac\", element=\"5b2efa92-bd44-4757-9839-26106ea28608\")>,\n",
       " <selenium.webdriver.remote.webelement.WebElement (session=\"ab78f599fd2dd6a09d907edf761cb2ac\", element=\"d569479e-a7f1-41aa-828f-880d9ec446ee\")>,\n",
       " <selenium.webdriver.remote.webelement.WebElement (session=\"ab78f599fd2dd6a09d907edf761cb2ac\", element=\"5a3cb2c0-9183-47f6-a74f-f8a62dc37ff7\")>,\n",
       " <selenium.webdriver.remote.webelement.WebElement (session=\"ab78f599fd2dd6a09d907edf761cb2ac\", element=\"fcc3c68c-ee8d-4f94-a332-c12a56ba829d\")>,\n",
       " <selenium.webdriver.remote.webelement.WebElement (session=\"ab78f599fd2dd6a09d907edf761cb2ac\", element=\"9c77f57a-e712-47fd-bfaf-0b55e291c786\")>,\n",
       " <selenium.webdriver.remote.webelement.WebElement (session=\"ab78f599fd2dd6a09d907edf761cb2ac\", element=\"48fe387f-ea3f-4f2a-9e5f-7acd49255384\")>,\n",
       " <selenium.webdriver.remote.webelement.WebElement (session=\"ab78f599fd2dd6a09d907edf761cb2ac\", element=\"9cf2f6db-faad-45e0-ad08-c99bf71f204f\")>]"
      ]
     },
     "execution_count": 102,
     "metadata": {},
     "output_type": "execute_result"
    }
   ],
   "source": [
    "title_tags[0:10]"
   ]
  },
  {
   "cell_type": "code",
   "execution_count": 103,
   "id": "282ef47a",
   "metadata": {},
   "outputs": [
    {
     "data": {
      "text/plain": [
       "['Global Tax Automation & Operations | Data Scientist Senior Analyst',\n",
       " 'Job opening with Wipro For Data Scientist',\n",
       " 'Azure ML Data Scientist',\n",
       " 'Senior Data Scientist',\n",
       " 'Senior Risk Data Scientist',\n",
       " 'Data Scientist - Enterprise Platforms',\n",
       " 'Senior Data Scientist',\n",
       " 'Openings For Jr/mid/Sr level data Scientists',\n",
       " 'Data Scientist',\n",
       " 'Senior Data Scientist']"
      ]
     },
     "execution_count": 103,
     "metadata": {},
     "output_type": "execute_result"
    }
   ],
   "source": [
    "job_titles = []\n",
    "\n",
    "for i in title_tags:\n",
    "    job_titles.append(i.text)\n",
    "len(job_titles)\n",
    "job_titles[0:10]"
   ]
  },
  {
   "cell_type": "code",
   "execution_count": 104,
   "id": "ebc77fab",
   "metadata": {},
   "outputs": [
    {
     "data": {
      "text/plain": [
       "20"
      ]
     },
     "execution_count": 104,
     "metadata": {},
     "output_type": "execute_result"
    }
   ],
   "source": [
    "# Extracting Company Names\n",
    "\n",
    "company_tags = driver.find_elements_by_xpath('//a[@class=\"subTitle ellipsis fleft\"]')\n",
    "len(company_tags)"
   ]
  },
  {
   "cell_type": "code",
   "execution_count": 105,
   "id": "3ffa31b5",
   "metadata": {},
   "outputs": [
    {
     "data": {
      "text/plain": [
       "[<selenium.webdriver.remote.webelement.WebElement (session=\"ab78f599fd2dd6a09d907edf761cb2ac\", element=\"5c6fb656-be65-47e3-9ec0-f6579ea6a613\")>,\n",
       " <selenium.webdriver.remote.webelement.WebElement (session=\"ab78f599fd2dd6a09d907edf761cb2ac\", element=\"7e14b353-5722-441d-90e1-c07d1033b8cc\")>,\n",
       " <selenium.webdriver.remote.webelement.WebElement (session=\"ab78f599fd2dd6a09d907edf761cb2ac\", element=\"7244f629-d0d6-4771-9015-cceebbb5e9d2\")>,\n",
       " <selenium.webdriver.remote.webelement.WebElement (session=\"ab78f599fd2dd6a09d907edf761cb2ac\", element=\"0736b5ac-71e9-4a88-8f9e-8ea0f132ece8\")>,\n",
       " <selenium.webdriver.remote.webelement.WebElement (session=\"ab78f599fd2dd6a09d907edf761cb2ac\", element=\"2760bd42-a199-40e1-87b9-1b2a59fc99be\")>,\n",
       " <selenium.webdriver.remote.webelement.WebElement (session=\"ab78f599fd2dd6a09d907edf761cb2ac\", element=\"b8804d0d-12da-4c4d-a087-789453c91a2a\")>,\n",
       " <selenium.webdriver.remote.webelement.WebElement (session=\"ab78f599fd2dd6a09d907edf761cb2ac\", element=\"3321bc51-e055-44bd-8f75-79a76937ddfa\")>,\n",
       " <selenium.webdriver.remote.webelement.WebElement (session=\"ab78f599fd2dd6a09d907edf761cb2ac\", element=\"822da173-0de9-4853-aa48-86a4f6da5ef1\")>,\n",
       " <selenium.webdriver.remote.webelement.WebElement (session=\"ab78f599fd2dd6a09d907edf761cb2ac\", element=\"2c2a28b1-f2d0-4bc8-bace-5f72261f8f05\")>,\n",
       " <selenium.webdriver.remote.webelement.WebElement (session=\"ab78f599fd2dd6a09d907edf761cb2ac\", element=\"93227c40-8223-4fae-b856-77eb7c570b07\")>]"
      ]
     },
     "execution_count": 105,
     "metadata": {},
     "output_type": "execute_result"
    }
   ],
   "source": [
    "company_tags[0:10]"
   ]
  },
  {
   "cell_type": "code",
   "execution_count": 106,
   "id": "98a5f3d7",
   "metadata": {},
   "outputs": [
    {
     "data": {
      "text/plain": [
       "20"
      ]
     },
     "execution_count": 106,
     "metadata": {},
     "output_type": "execute_result"
    }
   ],
   "source": [
    "company_names = []\n",
    "\n",
    "for i in company_tags:\n",
    "    company_names.append(i.text)\n",
    "len(company_names)"
   ]
  },
  {
   "cell_type": "code",
   "execution_count": 107,
   "id": "194e3067",
   "metadata": {},
   "outputs": [
    {
     "data": {
      "text/plain": [
       "['Dell',\n",
       " 'Wipro',\n",
       " 'TCS',\n",
       " 'Greenizon Agritech Consultancy',\n",
       " 'GSK India',\n",
       " 'Kyndryl',\n",
       " 'SIBIA Analytics and Consulting Services Pvt Ltd',\n",
       " 'Pluto seven business solutions (p) limited',\n",
       " 'RPA Labs',\n",
       " 'Eclinicalworks India Pvt Ltd']"
      ]
     },
     "execution_count": 107,
     "metadata": {},
     "output_type": "execute_result"
    }
   ],
   "source": [
    "company_names[0:10]"
   ]
  },
  {
   "cell_type": "code",
   "execution_count": 108,
   "id": "fc847c77",
   "metadata": {},
   "outputs": [
    {
     "data": {
      "text/plain": [
       "20"
      ]
     },
     "execution_count": 108,
     "metadata": {},
     "output_type": "execute_result"
    }
   ],
   "source": [
    "# Extracting Location\n",
    "\n",
    "locn_tags = driver.find_elements_by_xpath('//li[@class=\"fleft grey-text br2 placeHolderLi location\"]')\n",
    "len(locn_tags)"
   ]
  },
  {
   "cell_type": "code",
   "execution_count": 109,
   "id": "3c31bbbe",
   "metadata": {},
   "outputs": [
    {
     "data": {
      "text/plain": [
       "[<selenium.webdriver.remote.webelement.WebElement (session=\"ab78f599fd2dd6a09d907edf761cb2ac\", element=\"6323c57e-2103-4623-a238-93473625163e\")>,\n",
       " <selenium.webdriver.remote.webelement.WebElement (session=\"ab78f599fd2dd6a09d907edf761cb2ac\", element=\"f939841a-59f3-416c-a489-6c0eadbd1c2c\")>,\n",
       " <selenium.webdriver.remote.webelement.WebElement (session=\"ab78f599fd2dd6a09d907edf761cb2ac\", element=\"10164c75-14fe-4357-9738-4d82ade4aa1c\")>,\n",
       " <selenium.webdriver.remote.webelement.WebElement (session=\"ab78f599fd2dd6a09d907edf761cb2ac\", element=\"fe185284-f414-4394-a519-0b98a6e31102\")>,\n",
       " <selenium.webdriver.remote.webelement.WebElement (session=\"ab78f599fd2dd6a09d907edf761cb2ac\", element=\"cc7ee52e-e8e4-4b42-b48f-b98d0ba46a08\")>,\n",
       " <selenium.webdriver.remote.webelement.WebElement (session=\"ab78f599fd2dd6a09d907edf761cb2ac\", element=\"391c2bdc-eb60-4413-aed2-8f172ee7a619\")>,\n",
       " <selenium.webdriver.remote.webelement.WebElement (session=\"ab78f599fd2dd6a09d907edf761cb2ac\", element=\"8f972a76-41b1-4577-b4e4-53eff301d77e\")>,\n",
       " <selenium.webdriver.remote.webelement.WebElement (session=\"ab78f599fd2dd6a09d907edf761cb2ac\", element=\"68546d77-5e5d-4b1d-8a47-92c8d4568649\")>,\n",
       " <selenium.webdriver.remote.webelement.WebElement (session=\"ab78f599fd2dd6a09d907edf761cb2ac\", element=\"c0d839d9-e56c-45dc-8332-168f7a33655a\")>,\n",
       " <selenium.webdriver.remote.webelement.WebElement (session=\"ab78f599fd2dd6a09d907edf761cb2ac\", element=\"fc0f50e0-1696-4684-ad82-75db21f94be4\")>]"
      ]
     },
     "execution_count": 109,
     "metadata": {},
     "output_type": "execute_result"
    }
   ],
   "source": [
    "locn_tags[0:10]"
   ]
  },
  {
   "cell_type": "code",
   "execution_count": 110,
   "id": "63cdfd55",
   "metadata": {},
   "outputs": [
    {
     "data": {
      "text/plain": [
       "20"
      ]
     },
     "execution_count": 110,
     "metadata": {},
     "output_type": "execute_result"
    }
   ],
   "source": [
    "location = []\n",
    "\n",
    "for i in locn_tags:\n",
    "    location.append(i.text)\n",
    "len(location)"
   ]
  },
  {
   "cell_type": "code",
   "execution_count": 111,
   "id": "616a641f",
   "metadata": {},
   "outputs": [
    {
     "data": {
      "text/plain": [
       "(20, 20, 20)"
      ]
     },
     "execution_count": 111,
     "metadata": {},
     "output_type": "execute_result"
    }
   ],
   "source": [
    "len(job_titles), len(company_names), len(location)"
   ]
  },
  {
   "cell_type": "code",
   "execution_count": 112,
   "id": "9954f2aa",
   "metadata": {},
   "outputs": [
    {
     "data": {
      "text/html": [
       "<div>\n",
       "<style scoped>\n",
       "    .dataframe tbody tr th:only-of-type {\n",
       "        vertical-align: middle;\n",
       "    }\n",
       "\n",
       "    .dataframe tbody tr th {\n",
       "        vertical-align: top;\n",
       "    }\n",
       "\n",
       "    .dataframe thead th {\n",
       "        text-align: right;\n",
       "    }\n",
       "</style>\n",
       "<table border=\"1\" class=\"dataframe\">\n",
       "  <thead>\n",
       "    <tr style=\"text-align: right;\">\n",
       "      <th></th>\n",
       "      <th>Job Title</th>\n",
       "      <th>Company</th>\n",
       "      <th>experiance</th>\n",
       "      <th>Location</th>\n",
       "    </tr>\n",
       "  </thead>\n",
       "  <tbody>\n",
       "    <tr>\n",
       "      <th>0</th>\n",
       "      <td>Global Tax Automation &amp; Operations | Data Scie...</td>\n",
       "      <td>Dell</td>\n",
       "      <td>3-8 Yrs</td>\n",
       "      <td>Bangalore/Bengaluru</td>\n",
       "    </tr>\n",
       "    <tr>\n",
       "      <th>1</th>\n",
       "      <td>Job opening with Wipro For Data Scientist</td>\n",
       "      <td>Wipro</td>\n",
       "      <td>12-14 Yrs</td>\n",
       "      <td>Hyderabad/Secunderabad, Pune, Chennai, Bangalo...</td>\n",
       "    </tr>\n",
       "    <tr>\n",
       "      <th>2</th>\n",
       "      <td>Azure ML Data Scientist</td>\n",
       "      <td>TCS</td>\n",
       "      <td>7-12 Yrs</td>\n",
       "      <td>Hyderabad/Secunderabad, Bangalore/Bengaluru</td>\n",
       "    </tr>\n",
       "    <tr>\n",
       "      <th>3</th>\n",
       "      <td>Senior Data Scientist</td>\n",
       "      <td>Greenizon Agritech Consultancy</td>\n",
       "      <td>5-7 Yrs</td>\n",
       "      <td>Bangalore/Bengaluru</td>\n",
       "    </tr>\n",
       "    <tr>\n",
       "      <th>4</th>\n",
       "      <td>Senior Risk Data Scientist</td>\n",
       "      <td>GSK India</td>\n",
       "      <td>2-6 Yrs</td>\n",
       "      <td>Bangalore/Bengaluru</td>\n",
       "    </tr>\n",
       "    <tr>\n",
       "      <th>5</th>\n",
       "      <td>Data Scientist - Enterprise Platforms</td>\n",
       "      <td>Kyndryl</td>\n",
       "      <td>2-7 Yrs</td>\n",
       "      <td>Bangalore/Bengaluru</td>\n",
       "    </tr>\n",
       "    <tr>\n",
       "      <th>6</th>\n",
       "      <td>Senior Data Scientist</td>\n",
       "      <td>SIBIA Analytics and Consulting Services Pvt Ltd</td>\n",
       "      <td>2-6 Yrs</td>\n",
       "      <td>Kolkata, Bangalore/Bengaluru, Mumbai (All Area...</td>\n",
       "    </tr>\n",
       "    <tr>\n",
       "      <th>7</th>\n",
       "      <td>Openings For Jr/mid/Sr level data Scientists</td>\n",
       "      <td>Pluto seven business solutions (p) limited</td>\n",
       "      <td>2-6 Yrs</td>\n",
       "      <td>Kolkata, Hyderabad/Secunderabad, Pune, Ahmedab...</td>\n",
       "    </tr>\n",
       "    <tr>\n",
       "      <th>8</th>\n",
       "      <td>Data Scientist</td>\n",
       "      <td>RPA Labs</td>\n",
       "      <td>7-12 Yrs</td>\n",
       "      <td>Bangalore/Bengaluru</td>\n",
       "    </tr>\n",
       "    <tr>\n",
       "      <th>9</th>\n",
       "      <td>Senior Data Scientist</td>\n",
       "      <td>Eclinicalworks India Pvt Ltd</td>\n",
       "      <td>2-6 Yrs</td>\n",
       "      <td>Bangalore/Bengaluru(Mahadevpura)</td>\n",
       "    </tr>\n",
       "    <tr>\n",
       "      <th>10</th>\n",
       "      <td>Data Scientist II</td>\n",
       "      <td>Groupon Shared Services</td>\n",
       "      <td>2-6 Yrs</td>\n",
       "      <td>Bangalore/Bengaluru</td>\n",
       "    </tr>\n",
       "    <tr>\n",
       "      <th>11</th>\n",
       "      <td>Data Scientist and Machine Learning Expert</td>\n",
       "      <td>Genpact</td>\n",
       "      <td>2-6 Yrs</td>\n",
       "      <td>Bangalore/Bengaluru</td>\n",
       "    </tr>\n",
       "    <tr>\n",
       "      <th>12</th>\n",
       "      <td>Data Scientist role</td>\n",
       "      <td>Mount Talent Consulting Private Limited</td>\n",
       "      <td>3-6 Yrs</td>\n",
       "      <td>Noida, Hyderabad/Secunderabad, Pune, Gurgaon/G...</td>\n",
       "    </tr>\n",
       "    <tr>\n",
       "      <th>13</th>\n",
       "      <td>Data Scientist role</td>\n",
       "      <td>Mount Talent Consulting Private Limited</td>\n",
       "      <td>1-6 Yrs</td>\n",
       "      <td>Noida, Hyderabad/Secunderabad, Pune, Gurgaon/G...</td>\n",
       "    </tr>\n",
       "    <tr>\n",
       "      <th>14</th>\n",
       "      <td>Urgent Hiring For Data Scientist</td>\n",
       "      <td>Mount Talent Consulting Private Limited</td>\n",
       "      <td>0-2 Yrs</td>\n",
       "      <td>Gurgaon/Gurugram, Bangalore/Bengaluru</td>\n",
       "    </tr>\n",
       "    <tr>\n",
       "      <th>15</th>\n",
       "      <td>Urgent Hiring For Data Scientist</td>\n",
       "      <td>Mount Talent Consulting Private Limited</td>\n",
       "      <td>4-6 Yrs</td>\n",
       "      <td>Gurgaon/Gurugram, Bangalore/Bengaluru</td>\n",
       "    </tr>\n",
       "    <tr>\n",
       "      <th>16</th>\n",
       "      <td>Junior Data Scientist</td>\n",
       "      <td>HAPPYMONK AI LABS PRIVATE LIMITED</td>\n",
       "      <td>1-2 Yrs</td>\n",
       "      <td>Bangalore/Bengaluru</td>\n",
       "    </tr>\n",
       "    <tr>\n",
       "      <th>17</th>\n",
       "      <td>Data Scientist</td>\n",
       "      <td>Mobiotics IT Solution Pvt Ltd</td>\n",
       "      <td>1-2 Yrs</td>\n",
       "      <td>Bangalore/Bengaluru(HSR Layout)</td>\n",
       "    </tr>\n",
       "    <tr>\n",
       "      <th>18</th>\n",
       "      <td>Data Scientist - Machine Learning and NLP with...</td>\n",
       "      <td>OpsMx</td>\n",
       "      <td>1-6 Yrs</td>\n",
       "      <td>Hyderabad/Secunderabad, Bangalore/Bengaluru\\n(...</td>\n",
       "    </tr>\n",
       "    <tr>\n",
       "      <th>19</th>\n",
       "      <td>Data scientist (WFH)</td>\n",
       "      <td>SPM HR SOLUTIONS</td>\n",
       "      <td>1-6 Yrs</td>\n",
       "      <td>Bangalore/Bengaluru</td>\n",
       "    </tr>\n",
       "  </tbody>\n",
       "</table>\n",
       "</div>"
      ],
      "text/plain": [
       "                                            Job Title  \\\n",
       "0   Global Tax Automation & Operations | Data Scie...   \n",
       "1           Job opening with Wipro For Data Scientist   \n",
       "2                             Azure ML Data Scientist   \n",
       "3                               Senior Data Scientist   \n",
       "4                          Senior Risk Data Scientist   \n",
       "5               Data Scientist - Enterprise Platforms   \n",
       "6                               Senior Data Scientist   \n",
       "7        Openings For Jr/mid/Sr level data Scientists   \n",
       "8                                      Data Scientist   \n",
       "9                               Senior Data Scientist   \n",
       "10                                  Data Scientist II   \n",
       "11         Data Scientist and Machine Learning Expert   \n",
       "12                                Data Scientist role   \n",
       "13                                Data Scientist role   \n",
       "14                   Urgent Hiring For Data Scientist   \n",
       "15                   Urgent Hiring For Data Scientist   \n",
       "16                              Junior Data Scientist   \n",
       "17                                     Data Scientist   \n",
       "18  Data Scientist - Machine Learning and NLP with...   \n",
       "19                               Data scientist (WFH)   \n",
       "\n",
       "                                            Company experiance  \\\n",
       "0                                              Dell    3-8 Yrs   \n",
       "1                                             Wipro  12-14 Yrs   \n",
       "2                                               TCS   7-12 Yrs   \n",
       "3                    Greenizon Agritech Consultancy    5-7 Yrs   \n",
       "4                                         GSK India    2-6 Yrs   \n",
       "5                                           Kyndryl    2-7 Yrs   \n",
       "6   SIBIA Analytics and Consulting Services Pvt Ltd    2-6 Yrs   \n",
       "7        Pluto seven business solutions (p) limited    2-6 Yrs   \n",
       "8                                          RPA Labs   7-12 Yrs   \n",
       "9                      Eclinicalworks India Pvt Ltd    2-6 Yrs   \n",
       "10                          Groupon Shared Services    2-6 Yrs   \n",
       "11                                          Genpact    2-6 Yrs   \n",
       "12          Mount Talent Consulting Private Limited    3-6 Yrs   \n",
       "13          Mount Talent Consulting Private Limited    1-6 Yrs   \n",
       "14          Mount Talent Consulting Private Limited    0-2 Yrs   \n",
       "15          Mount Talent Consulting Private Limited    4-6 Yrs   \n",
       "16                HAPPYMONK AI LABS PRIVATE LIMITED    1-2 Yrs   \n",
       "17                    Mobiotics IT Solution Pvt Ltd    1-2 Yrs   \n",
       "18                                            OpsMx    1-6 Yrs   \n",
       "19                                 SPM HR SOLUTIONS    1-6 Yrs   \n",
       "\n",
       "                                             Location  \n",
       "0                                 Bangalore/Bengaluru  \n",
       "1   Hyderabad/Secunderabad, Pune, Chennai, Bangalo...  \n",
       "2         Hyderabad/Secunderabad, Bangalore/Bengaluru  \n",
       "3                                 Bangalore/Bengaluru  \n",
       "4                                 Bangalore/Bengaluru  \n",
       "5                                 Bangalore/Bengaluru  \n",
       "6   Kolkata, Bangalore/Bengaluru, Mumbai (All Area...  \n",
       "7   Kolkata, Hyderabad/Secunderabad, Pune, Ahmedab...  \n",
       "8                                 Bangalore/Bengaluru  \n",
       "9                    Bangalore/Bengaluru(Mahadevpura)  \n",
       "10                                Bangalore/Bengaluru  \n",
       "11                                Bangalore/Bengaluru  \n",
       "12  Noida, Hyderabad/Secunderabad, Pune, Gurgaon/G...  \n",
       "13  Noida, Hyderabad/Secunderabad, Pune, Gurgaon/G...  \n",
       "14              Gurgaon/Gurugram, Bangalore/Bengaluru  \n",
       "15              Gurgaon/Gurugram, Bangalore/Bengaluru  \n",
       "16                                Bangalore/Bengaluru  \n",
       "17                    Bangalore/Bengaluru(HSR Layout)  \n",
       "18  Hyderabad/Secunderabad, Bangalore/Bengaluru\\n(...  \n",
       "19                                Bangalore/Bengaluru  "
      ]
     },
     "execution_count": 112,
     "metadata": {},
     "output_type": "execute_result"
    }
   ],
   "source": [
    "# Making Data Frame\n",
    "\n",
    "jobs = pd.DataFrame()\n",
    "jobs['Job Title'] = job_titles\n",
    "jobs['Company'] = company_names\n",
    "jobs['experiance'] = experiance\n",
    "jobs['Location'] = location\n",
    "jobs\n"
   ]
  },
  {
   "cell_type": "markdown",
   "id": "59608ed0",
   "metadata": {},
   "source": [
    "# Question3"
   ]
  },
  {
   "cell_type": "code",
   "execution_count": 113,
   "id": "ece74bf8",
   "metadata": {},
   "outputs": [],
   "source": [
    "# scrape data for “Data Scientist” Job position in “Bangalore” location Using Filters"
   ]
  },
  {
   "cell_type": "code",
   "execution_count": 115,
   "id": "60c2b2d6",
   "metadata": {},
   "outputs": [],
   "source": [
    "import selenium\n",
    "from selenium import webdriver\n",
    "import pandas as pd\n",
    "import warnings\n",
    "warnings.filterwarnings(\"ignore\")"
   ]
  },
  {
   "cell_type": "code",
   "execution_count": 121,
   "id": "4c15d083",
   "metadata": {},
   "outputs": [],
   "source": [
    "# Let's first connect to webdriver\n",
    "driver = webdriver.Chrome(r'C:\\Users\\K K SHARMA\\Downloads\\Chromedriver_win32\\Chromedriver')"
   ]
  },
  {
   "cell_type": "code",
   "execution_count": 122,
   "id": "737abeae",
   "metadata": {},
   "outputs": [],
   "source": [
    "url ='https://www.naukri.com/'\n",
    "driver.get(url)"
   ]
  },
  {
   "cell_type": "code",
   "execution_count": 123,
   "id": "b54ecabf",
   "metadata": {},
   "outputs": [
    {
     "data": {
      "text/plain": [
       "<selenium.webdriver.remote.webelement.WebElement (session=\"078fed005ef71ff28c96ce28172a3639\", element=\"f6d8cca4-78b9-43c8-8611-b8ce4e6e4d4e\")>"
      ]
     },
     "execution_count": 123,
     "metadata": {},
     "output_type": "execute_result"
    }
   ],
   "source": [
    "# Finding web element for search job bar using id\n",
    "search_job = driver.find_element_by_id(\"qsb-keyword-sugg\")\n",
    "search_job"
   ]
  },
  {
   "cell_type": "code",
   "execution_count": 124,
   "id": "618afe06",
   "metadata": {},
   "outputs": [],
   "source": [
    "# write on Search bar\n",
    "search_job.send_keys(\"Data Scientist\")"
   ]
  },
  {
   "cell_type": "code",
   "execution_count": 125,
   "id": "fd527ea3",
   "metadata": {},
   "outputs": [
    {
     "data": {
      "text/plain": [
       "<selenium.webdriver.remote.webelement.WebElement (session=\"078fed005ef71ff28c96ce28172a3639\", element=\"f60d8be6-0d28-4bd0-bc27-b3a0798b28c3\")>"
      ]
     },
     "execution_count": 125,
     "metadata": {},
     "output_type": "execute_result"
    }
   ],
   "source": [
    "# Finding Web Element for search locn bar using Absolute X Path\n",
    "search_locn = driver.find_element_by_xpath('/html/body/div[1]/div[3]/div[2]/section/div/form/div[2]/div/div/div/div[1]/div[2]/input')\n",
    "search_locn"
   ]
  },
  {
   "cell_type": "code",
   "execution_count": 126,
   "id": "b0ad288d",
   "metadata": {},
   "outputs": [],
   "source": [
    "# find web element for job location bar\n",
    "search_locn.send_keys(\"Delhi/NCR\")"
   ]
  },
  {
   "cell_type": "code",
   "execution_count": 127,
   "id": "2e527ee2",
   "metadata": {},
   "outputs": [
    {
     "data": {
      "text/plain": [
       "<selenium.webdriver.remote.webelement.WebElement (session=\"078fed005ef71ff28c96ce28172a3639\", element=\"cf07e04f-766f-45d4-86fe-95d156085030\")>"
      ]
     },
     "execution_count": 127,
     "metadata": {},
     "output_type": "execute_result"
    }
   ],
   "source": [
    "# Clicking using absolute X Path function \n",
    "search_btn = driver.find_element_by_xpath('/html/body/div[1]/div[3]/div[2]/section/div/form/div[3]/button')\n",
    "search_btn"
   ]
  },
  {
   "cell_type": "code",
   "execution_count": 128,
   "id": "aef6965a",
   "metadata": {},
   "outputs": [],
   "source": [
    "search_btn.click()"
   ]
  },
  {
   "cell_type": "code",
   "execution_count": 165,
   "id": "8d7a7c7e",
   "metadata": {},
   "outputs": [],
   "source": [
    "salary_check = driver.find_element_by_xpath('/html/body/div[1]/div[3]/div[2]/section[2]/div[2]/article[1]/div[1]/div[1]/ul/li[2]')\n",
    "salary_check.click()"
   ]
  },
  {
   "cell_type": "code",
   "execution_count": 131,
   "id": "13e77e9a",
   "metadata": {},
   "outputs": [
    {
     "data": {
      "text/plain": [
       "[<selenium.webdriver.remote.webelement.WebElement (session=\"078fed005ef71ff28c96ce28172a3639\", element=\"c595c1f6-9762-4014-a258-b8b6d85caf47\")>,\n",
       " <selenium.webdriver.remote.webelement.WebElement (session=\"078fed005ef71ff28c96ce28172a3639\", element=\"0a59eb0b-caa2-4fb7-b2f7-06a6280ee755\")>,\n",
       " <selenium.webdriver.remote.webelement.WebElement (session=\"078fed005ef71ff28c96ce28172a3639\", element=\"43bb61d4-c90c-42e5-b082-f118fea85d7a\")>,\n",
       " <selenium.webdriver.remote.webelement.WebElement (session=\"078fed005ef71ff28c96ce28172a3639\", element=\"3b168f5b-9929-4583-a0ef-23d4280af7d8\")>,\n",
       " <selenium.webdriver.remote.webelement.WebElement (session=\"078fed005ef71ff28c96ce28172a3639\", element=\"b9978694-9a8b-4bc6-b05b-0c13ab131f25\")>,\n",
       " <selenium.webdriver.remote.webelement.WebElement (session=\"078fed005ef71ff28c96ce28172a3639\", element=\"73cd4172-3fca-4433-ae44-21356a323a86\")>,\n",
       " <selenium.webdriver.remote.webelement.WebElement (session=\"078fed005ef71ff28c96ce28172a3639\", element=\"56affe1a-f1bf-4c0f-b8c2-ce05f99fb99e\")>,\n",
       " <selenium.webdriver.remote.webelement.WebElement (session=\"078fed005ef71ff28c96ce28172a3639\", element=\"37056dde-4a6d-4d2e-ad61-a6fd0ecf27d4\")>,\n",
       " <selenium.webdriver.remote.webelement.WebElement (session=\"078fed005ef71ff28c96ce28172a3639\", element=\"0c51cb78-d995-479a-8d1f-62ece2e92326\")>,\n",
       " <selenium.webdriver.remote.webelement.WebElement (session=\"078fed005ef71ff28c96ce28172a3639\", element=\"5bd4dfe7-2998-4e2a-b1dd-7aa62c6356f1\")>]"
      ]
     },
     "execution_count": 131,
     "metadata": {},
     "output_type": "execute_result"
    }
   ],
   "source": [
    "# SCRAPING JOB TITLES\n",
    "\n",
    "title_tags = driver.find_elements_by_xpath('//a[@class=\"title fw500 ellipsis\"]')\n",
    "len(title_tags)\n",
    "title_tags[0:10]"
   ]
  },
  {
   "cell_type": "code",
   "execution_count": 132,
   "id": "83aacf74",
   "metadata": {},
   "outputs": [
    {
     "data": {
      "text/plain": [
       "['Senior Data Scientist I',\n",
       " 'Openings For Jr/mid/Sr level data Scientists',\n",
       " 'Data Scientist role',\n",
       " 'Data Scientist role',\n",
       " 'Urgent Hiring For Data Scientist',\n",
       " 'Urgent Hiring For Data Scientist',\n",
       " 'Data Scientist',\n",
       " 'Data Analyst / Data Scientist / Business Analytics / Fresher - MNC',\n",
       " 'Data Scientist Internship',\n",
       " 'Data Scientist']"
      ]
     },
     "execution_count": 132,
     "metadata": {},
     "output_type": "execute_result"
    }
   ],
   "source": [
    "job_titles = []\n",
    "\n",
    "for i in title_tags:\n",
    "    job_titles.append(i.text)\n",
    "len(job_titles)\n",
    "job_titles[0:10]"
   ]
  },
  {
   "cell_type": "code",
   "execution_count": 155,
   "id": "ffc28628",
   "metadata": {},
   "outputs": [
    {
     "data": {
      "text/plain": [
       "20"
      ]
     },
     "execution_count": 155,
     "metadata": {},
     "output_type": "execute_result"
    }
   ],
   "source": [
    "# Extracting Company Names\n",
    "\n",
    "company_tags = driver.find_elements_by_xpath('//a[@class=\"subTitle ellipsis fleft\"]')\n",
    "len(company_tags)"
   ]
  },
  {
   "cell_type": "code",
   "execution_count": 156,
   "id": "89b55cd3",
   "metadata": {},
   "outputs": [
    {
     "data": {
      "text/plain": [
       "20"
      ]
     },
     "execution_count": 156,
     "metadata": {},
     "output_type": "execute_result"
    }
   ],
   "source": [
    "company_names = []\n",
    "\n",
    "for i in company_tags:\n",
    "    company_names.append(i.text)\n",
    "len(company_names)"
   ]
  },
  {
   "cell_type": "code",
   "execution_count": 157,
   "id": "ddcc3706",
   "metadata": {},
   "outputs": [
    {
     "data": {
      "text/plain": [
       "['Delhivery',\n",
       " 'Pluto seven business solutions (p) limited',\n",
       " 'Mount Talent Consulting Private Limited',\n",
       " 'Mount Talent Consulting Private Limited',\n",
       " 'Mount Talent Consulting Private Limited',\n",
       " 'Mount Talent Consulting Private Limited',\n",
       " 'Teleperformance',\n",
       " 'GABA Consultancy services',\n",
       " 'iHackers Inc',\n",
       " 'LG']"
      ]
     },
     "execution_count": 157,
     "metadata": {},
     "output_type": "execute_result"
    }
   ],
   "source": [
    "company_names[0:10]"
   ]
  },
  {
   "cell_type": "code",
   "execution_count": 158,
   "id": "e7a468b5",
   "metadata": {},
   "outputs": [
    {
     "data": {
      "text/plain": [
       "20"
      ]
     },
     "execution_count": 158,
     "metadata": {},
     "output_type": "execute_result"
    }
   ],
   "source": [
    "# Extracting Experiance\n",
    "\n",
    "exp_tags = driver.find_elements_by_xpath('//li[@class=\"fleft grey-text br2 placeHolderLi experience\"]')\n",
    "len(exp_tags)"
   ]
  },
  {
   "cell_type": "code",
   "execution_count": 159,
   "id": "2c36e230",
   "metadata": {},
   "outputs": [
    {
     "data": {
      "text/plain": [
       "['3-7 Yrs',\n",
       " '2-6 Yrs',\n",
       " '1-3 Yrs',\n",
       " '1-3 Yrs',\n",
       " '1-6 Yrs',\n",
       " '1-6 Yrs',\n",
       " '4-9 Yrs',\n",
       " '0-0 Yrs',\n",
       " '0-1 Yrs',\n",
       " '0-2 Yrs']"
      ]
     },
     "execution_count": 159,
     "metadata": {},
     "output_type": "execute_result"
    }
   ],
   "source": [
    "experiance = []\n",
    "\n",
    "for i in exp_tags:\n",
    "    experiance.append(i.text)\n",
    "experiance[0:10]"
   ]
  },
  {
   "cell_type": "code",
   "execution_count": 161,
   "id": "5e57feeb",
   "metadata": {},
   "outputs": [
    {
     "data": {
      "text/plain": [
       "20"
      ]
     },
     "execution_count": 161,
     "metadata": {},
     "output_type": "execute_result"
    }
   ],
   "source": [
    "# Extracting Location\n",
    "\n",
    "locn_tags = driver.find_elements_by_xpath('//li[@class=\"fleft grey-text br2 placeHolderLi location\"]')\n",
    "len(locn_tags)"
   ]
  },
  {
   "cell_type": "code",
   "execution_count": 162,
   "id": "07e22d4c",
   "metadata": {},
   "outputs": [
    {
     "data": {
      "text/plain": [
       "20"
      ]
     },
     "execution_count": 162,
     "metadata": {},
     "output_type": "execute_result"
    }
   ],
   "source": [
    "location = []\n",
    "\n",
    "for i in locn_tags:\n",
    "    location.append(i.text)\n",
    "len(location)"
   ]
  },
  {
   "cell_type": "code",
   "execution_count": 163,
   "id": "6c67ff28",
   "metadata": {},
   "outputs": [
    {
     "data": {
      "text/plain": [
       "(20, 20, 20, 20)"
      ]
     },
     "execution_count": 163,
     "metadata": {},
     "output_type": "execute_result"
    }
   ],
   "source": [
    "len(job_titles), len(company_names), len(experiance), len(location)"
   ]
  },
  {
   "cell_type": "code",
   "execution_count": 164,
   "id": "1d902ce3",
   "metadata": {},
   "outputs": [
    {
     "data": {
      "text/html": [
       "<div>\n",
       "<style scoped>\n",
       "    .dataframe tbody tr th:only-of-type {\n",
       "        vertical-align: middle;\n",
       "    }\n",
       "\n",
       "    .dataframe tbody tr th {\n",
       "        vertical-align: top;\n",
       "    }\n",
       "\n",
       "    .dataframe thead th {\n",
       "        text-align: right;\n",
       "    }\n",
       "</style>\n",
       "<table border=\"1\" class=\"dataframe\">\n",
       "  <thead>\n",
       "    <tr style=\"text-align: right;\">\n",
       "      <th></th>\n",
       "      <th>Job Title</th>\n",
       "      <th>Company</th>\n",
       "      <th>experiance</th>\n",
       "      <th>Location</th>\n",
       "    </tr>\n",
       "  </thead>\n",
       "  <tbody>\n",
       "    <tr>\n",
       "      <th>0</th>\n",
       "      <td>Senior Data Scientist I</td>\n",
       "      <td>Delhivery</td>\n",
       "      <td>3-7 Yrs</td>\n",
       "      <td>Gurgaon/Gurugram</td>\n",
       "    </tr>\n",
       "    <tr>\n",
       "      <th>1</th>\n",
       "      <td>Openings For Jr/mid/Sr level data Scientists</td>\n",
       "      <td>Pluto seven business solutions (p) limited</td>\n",
       "      <td>2-6 Yrs</td>\n",
       "      <td>Kolkata, Hyderabad/Secunderabad, Pune, Ahmedab...</td>\n",
       "    </tr>\n",
       "    <tr>\n",
       "      <th>2</th>\n",
       "      <td>Data Scientist role</td>\n",
       "      <td>Mount Talent Consulting Private Limited</td>\n",
       "      <td>1-3 Yrs</td>\n",
       "      <td>Noida, Hyderabad/Secunderabad, Pune, Gurgaon/G...</td>\n",
       "    </tr>\n",
       "    <tr>\n",
       "      <th>3</th>\n",
       "      <td>Data Scientist role</td>\n",
       "      <td>Mount Talent Consulting Private Limited</td>\n",
       "      <td>1-3 Yrs</td>\n",
       "      <td>Noida, Hyderabad/Secunderabad, Pune, Gurgaon/G...</td>\n",
       "    </tr>\n",
       "    <tr>\n",
       "      <th>4</th>\n",
       "      <td>Urgent Hiring For Data Scientist</td>\n",
       "      <td>Mount Talent Consulting Private Limited</td>\n",
       "      <td>1-6 Yrs</td>\n",
       "      <td>Gurgaon/Gurugram, Bangalore/Bengaluru</td>\n",
       "    </tr>\n",
       "    <tr>\n",
       "      <th>5</th>\n",
       "      <td>Urgent Hiring For Data Scientist</td>\n",
       "      <td>Mount Talent Consulting Private Limited</td>\n",
       "      <td>1-6 Yrs</td>\n",
       "      <td>Gurgaon/Gurugram, Bangalore/Bengaluru</td>\n",
       "    </tr>\n",
       "    <tr>\n",
       "      <th>6</th>\n",
       "      <td>Data Scientist</td>\n",
       "      <td>Teleperformance</td>\n",
       "      <td>4-9 Yrs</td>\n",
       "      <td>Gurgaon/Gurugram, Chennai</td>\n",
       "    </tr>\n",
       "    <tr>\n",
       "      <th>7</th>\n",
       "      <td>Data Analyst / Data Scientist / Business Analy...</td>\n",
       "      <td>GABA Consultancy services</td>\n",
       "      <td>0-0 Yrs</td>\n",
       "      <td>Noida, New Delhi, Delhi / NCR</td>\n",
       "    </tr>\n",
       "    <tr>\n",
       "      <th>8</th>\n",
       "      <td>Data Scientist Internship</td>\n",
       "      <td>iHackers Inc</td>\n",
       "      <td>0-1 Yrs</td>\n",
       "      <td>New Delhi</td>\n",
       "    </tr>\n",
       "    <tr>\n",
       "      <th>9</th>\n",
       "      <td>Data Scientist</td>\n",
       "      <td>LG</td>\n",
       "      <td>0-2 Yrs</td>\n",
       "      <td>Noida, New Delhi, Faridabad, Gurgaon/Gurugram,...</td>\n",
       "    </tr>\n",
       "    <tr>\n",
       "      <th>10</th>\n",
       "      <td>Senior Data Scientist</td>\n",
       "      <td>iNICU</td>\n",
       "      <td>1-5 Yrs</td>\n",
       "      <td>Delhi</td>\n",
       "    </tr>\n",
       "    <tr>\n",
       "      <th>11</th>\n",
       "      <td>Data Scientist</td>\n",
       "      <td>Boston Consulting Group</td>\n",
       "      <td>2-5 Yrs</td>\n",
       "      <td>New Delhi</td>\n",
       "    </tr>\n",
       "    <tr>\n",
       "      <th>12</th>\n",
       "      <td>Data Scientist</td>\n",
       "      <td>BlackBuck</td>\n",
       "      <td>3-7 Yrs</td>\n",
       "      <td>Gurgaon, Bengaluru</td>\n",
       "    </tr>\n",
       "    <tr>\n",
       "      <th>13</th>\n",
       "      <td>Data Scientist</td>\n",
       "      <td>Country Veggie</td>\n",
       "      <td>1-3 Yrs</td>\n",
       "      <td>Bharuch, Jaipur, Bhopal, Mumbai, Jhansi, Nagpu...</td>\n",
       "    </tr>\n",
       "    <tr>\n",
       "      <th>14</th>\n",
       "      <td>Data Scientist</td>\n",
       "      <td>Sentieo</td>\n",
       "      <td>2-7 Yrs</td>\n",
       "      <td>Delhi</td>\n",
       "    </tr>\n",
       "    <tr>\n",
       "      <th>15</th>\n",
       "      <td>Data Scientist</td>\n",
       "      <td>Mahajan Imaging</td>\n",
       "      <td>2-6 Yrs</td>\n",
       "      <td>Delhi</td>\n",
       "    </tr>\n",
       "    <tr>\n",
       "      <th>16</th>\n",
       "      <td>Data Scientist</td>\n",
       "      <td>Mahajan Imaging</td>\n",
       "      <td>2-6 Yrs</td>\n",
       "      <td>Delhi</td>\n",
       "    </tr>\n",
       "    <tr>\n",
       "      <th>17</th>\n",
       "      <td>Associate Data Scientist</td>\n",
       "      <td>Right Step Consulting</td>\n",
       "      <td>3-6 Yrs</td>\n",
       "      <td>Noida</td>\n",
       "    </tr>\n",
       "    <tr>\n",
       "      <th>18</th>\n",
       "      <td>Associate Data Scientist</td>\n",
       "      <td>Blow Trumpet Solutions</td>\n",
       "      <td>1-5 Yrs</td>\n",
       "      <td>Delhi</td>\n",
       "    </tr>\n",
       "    <tr>\n",
       "      <th>19</th>\n",
       "      <td>Data Scientist</td>\n",
       "      <td>ApplyBoard</td>\n",
       "      <td>3-7 Yrs</td>\n",
       "      <td>Gurgaon/Gurugram</td>\n",
       "    </tr>\n",
       "  </tbody>\n",
       "</table>\n",
       "</div>"
      ],
      "text/plain": [
       "                                            Job Title  \\\n",
       "0                             Senior Data Scientist I   \n",
       "1        Openings For Jr/mid/Sr level data Scientists   \n",
       "2                                 Data Scientist role   \n",
       "3                                 Data Scientist role   \n",
       "4                    Urgent Hiring For Data Scientist   \n",
       "5                    Urgent Hiring For Data Scientist   \n",
       "6                                      Data Scientist   \n",
       "7   Data Analyst / Data Scientist / Business Analy...   \n",
       "8                           Data Scientist Internship   \n",
       "9                                      Data Scientist   \n",
       "10                              Senior Data Scientist   \n",
       "11                                     Data Scientist   \n",
       "12                                     Data Scientist   \n",
       "13                                     Data Scientist   \n",
       "14                                     Data Scientist   \n",
       "15                                     Data Scientist   \n",
       "16                                     Data Scientist   \n",
       "17                           Associate Data Scientist   \n",
       "18                           Associate Data Scientist   \n",
       "19                                     Data Scientist   \n",
       "\n",
       "                                       Company experiance  \\\n",
       "0                                    Delhivery    3-7 Yrs   \n",
       "1   Pluto seven business solutions (p) limited    2-6 Yrs   \n",
       "2      Mount Talent Consulting Private Limited    1-3 Yrs   \n",
       "3      Mount Talent Consulting Private Limited    1-3 Yrs   \n",
       "4      Mount Talent Consulting Private Limited    1-6 Yrs   \n",
       "5      Mount Talent Consulting Private Limited    1-6 Yrs   \n",
       "6                              Teleperformance    4-9 Yrs   \n",
       "7                    GABA Consultancy services    0-0 Yrs   \n",
       "8                                 iHackers Inc    0-1 Yrs   \n",
       "9                                           LG    0-2 Yrs   \n",
       "10                                       iNICU    1-5 Yrs   \n",
       "11                     Boston Consulting Group    2-5 Yrs   \n",
       "12                                   BlackBuck    3-7 Yrs   \n",
       "13                              Country Veggie    1-3 Yrs   \n",
       "14                                     Sentieo    2-7 Yrs   \n",
       "15                             Mahajan Imaging    2-6 Yrs   \n",
       "16                             Mahajan Imaging    2-6 Yrs   \n",
       "17                       Right Step Consulting    3-6 Yrs   \n",
       "18                      Blow Trumpet Solutions    1-5 Yrs   \n",
       "19                                  ApplyBoard    3-7 Yrs   \n",
       "\n",
       "                                             Location  \n",
       "0                                    Gurgaon/Gurugram  \n",
       "1   Kolkata, Hyderabad/Secunderabad, Pune, Ahmedab...  \n",
       "2   Noida, Hyderabad/Secunderabad, Pune, Gurgaon/G...  \n",
       "3   Noida, Hyderabad/Secunderabad, Pune, Gurgaon/G...  \n",
       "4               Gurgaon/Gurugram, Bangalore/Bengaluru  \n",
       "5               Gurgaon/Gurugram, Bangalore/Bengaluru  \n",
       "6                           Gurgaon/Gurugram, Chennai  \n",
       "7                       Noida, New Delhi, Delhi / NCR  \n",
       "8                                           New Delhi  \n",
       "9   Noida, New Delhi, Faridabad, Gurgaon/Gurugram,...  \n",
       "10                                              Delhi  \n",
       "11                                          New Delhi  \n",
       "12                                 Gurgaon, Bengaluru  \n",
       "13  Bharuch, Jaipur, Bhopal, Mumbai, Jhansi, Nagpu...  \n",
       "14                                              Delhi  \n",
       "15                                              Delhi  \n",
       "16                                              Delhi  \n",
       "17                                              Noida  \n",
       "18                                              Delhi  \n",
       "19                                   Gurgaon/Gurugram  "
      ]
     },
     "execution_count": 164,
     "metadata": {},
     "output_type": "execute_result"
    }
   ],
   "source": [
    "# Making DataFrame\n",
    "\n",
    "jobs = pd.DataFrame()\n",
    "jobs['Job Title'] = job_titles\n",
    "jobs['Company'] = company_names\n",
    "jobs['experiance'] = experiance\n",
    "jobs['Location'] = location\n",
    "jobs\n"
   ]
  },
  {
   "cell_type": "markdown",
   "id": "56f9b551",
   "metadata": {},
   "source": [
    "# Question4"
   ]
  },
  {
   "cell_type": "code",
   "execution_count": 166,
   "id": "8e046a46",
   "metadata": {},
   "outputs": [],
   "source": [
    "# Scrape data of first 100 sunglasses listings on flipkart.com"
   ]
  },
  {
   "cell_type": "code",
   "execution_count": 3,
   "id": "f4d372d8",
   "metadata": {},
   "outputs": [],
   "source": [
    "import selenium\n",
    "from selenium import webdriver\n",
    "import pandas as pd\n",
    "import warnings\n",
    "warnings.filterwarnings(\"ignore\")"
   ]
  },
  {
   "cell_type": "code",
   "execution_count": 4,
   "id": "63b41ecb",
   "metadata": {},
   "outputs": [],
   "source": [
    "# Let's first connect to webdriver\n",
    "driver = webdriver.Chrome(r'C:\\Users\\K K SHARMA\\Downloads\\Chromedriver_win32\\Chromedriver')"
   ]
  },
  {
   "cell_type": "code",
   "execution_count": 6,
   "id": "892be3ae",
   "metadata": {},
   "outputs": [],
   "source": [
    "url ='https://www.flipkart.com/'\n",
    "driver.get(url)"
   ]
  },
  {
   "cell_type": "code",
   "execution_count": 8,
   "id": "0a974073",
   "metadata": {},
   "outputs": [
    {
     "data": {
      "text/plain": [
       "<selenium.webdriver.remote.webelement.WebElement (session=\"bfc622ced81d12874c7dd00f5bccdf9a\", element=\"406a7bce-5b4a-4751-95bc-5403310b24a1\")>"
      ]
     },
     "execution_count": 8,
     "metadata": {},
     "output_type": "execute_result"
    }
   ],
   "source": [
    "# Finding web element for search sunglasses bar using id\n",
    "search_sunglasses = driver.find_element_by_class_name(\"_3704LK\")\n",
    "search_sunglasses"
   ]
  },
  {
   "cell_type": "code",
   "execution_count": 9,
   "id": "96f63731",
   "metadata": {},
   "outputs": [],
   "source": [
    "# write on Search bar\n",
    "search_sunglasses.send_keys(\"Sunglasses\")"
   ]
  },
  {
   "cell_type": "code",
   "execution_count": 13,
   "id": "a358a398",
   "metadata": {},
   "outputs": [
    {
     "data": {
      "text/plain": [
       "<selenium.webdriver.remote.webelement.WebElement (session=\"bfc622ced81d12874c7dd00f5bccdf9a\", element=\"64a607c9-2c7c-47c1-a2af-3b5f9bc2d58f\")>"
      ]
     },
     "execution_count": 13,
     "metadata": {},
     "output_type": "execute_result"
    }
   ],
   "source": [
    "# Clicking using absolute X Path function \n",
    "search_btn = driver.find_element_by_xpath('/html/body/div[1]/div/div[1]/div[1]/div[2]/div[2]/form/div/button')\n",
    "search_btn"
   ]
  },
  {
   "cell_type": "code",
   "execution_count": 14,
   "id": "aaf93902",
   "metadata": {},
   "outputs": [],
   "source": [
    "search_btn.click()"
   ]
  },
  {
   "cell_type": "code",
   "execution_count": 33,
   "id": "4ee96e7d",
   "metadata": {},
   "outputs": [
    {
     "data": {
      "text/plain": [
       "40"
      ]
     },
     "execution_count": 33,
     "metadata": {},
     "output_type": "execute_result"
    }
   ],
   "source": [
    "# Extracting Brand Name\n",
    "brand_tags = driver.find_elements_by_xpath('//div[@class=\"_2WkVRV\"]')\n",
    "len(brand_tags)"
   ]
  },
  {
   "cell_type": "code",
   "execution_count": 34,
   "id": "54a41188",
   "metadata": {},
   "outputs": [
    {
     "data": {
      "text/plain": [
       "40"
      ]
     },
     "execution_count": 34,
     "metadata": {},
     "output_type": "execute_result"
    }
   ],
   "source": [
    "brand_names = []\n",
    "\n",
    "for i in brand_tags:\n",
    "    brand_names.append(i.text)\n",
    "len(brand_names)"
   ]
  },
  {
   "cell_type": "code",
   "execution_count": 35,
   "id": "f013fdd8",
   "metadata": {},
   "outputs": [
    {
     "data": {
      "text/plain": [
       "['hipe',\n",
       " 'PIRASO',\n",
       " 'SRPM',\n",
       " 'Elligator',\n",
       " 'kingsunglasses',\n",
       " 'PIRASO',\n",
       " 'SHAAH COLLECTIONS',\n",
       " 'PIRASO',\n",
       " 'New Specs',\n",
       " 'Fastrack',\n",
       " 'kingsunglasses',\n",
       " 'PIRASO',\n",
       " 'Johaena',\n",
       " 'PIRASO',\n",
       " 'ROZZETTA CRAFT',\n",
       " 'hipe',\n",
       " 'PIRASO',\n",
       " 'ROZZETTA CRAFT',\n",
       " 'SUNBEE',\n",
       " 'PIRASO',\n",
       " 'New Specs',\n",
       " 'ROYAL SON',\n",
       " 'Rich Club',\n",
       " 'PIRASO',\n",
       " 'Lee Topper',\n",
       " 'PHENOMENAL',\n",
       " 'PHENOMENAL',\n",
       " 'PIRASO',\n",
       " 'PIRASO',\n",
       " 'SHAAH COLLECTIONS',\n",
       " 'kingsunglasses',\n",
       " 'PIRASO',\n",
       " 'agera',\n",
       " 'ROYAL SON',\n",
       " 'Fastrack',\n",
       " 'AISLIN',\n",
       " 'ROZZETTA CRAFT',\n",
       " 'kingsunglasses',\n",
       " 'Elligator',\n",
       " 'PIRASO']"
      ]
     },
     "execution_count": 35,
     "metadata": {},
     "output_type": "execute_result"
    }
   ],
   "source": [
    "brand_names[0:100]"
   ]
  },
  {
   "cell_type": "code",
   "execution_count": 42,
   "id": "05e0ca33",
   "metadata": {},
   "outputs": [
    {
     "data": {
      "text/plain": [
       "40"
      ]
     },
     "execution_count": 42,
     "metadata": {},
     "output_type": "execute_result"
    }
   ],
   "source": [
    "# Extracting Product Description\n",
    "\n",
    "description_tags = driver.find_elements_by_xpath('//a[@class=\"IRpwTa\"]')\n",
    "len(description_tags)"
   ]
  },
  {
   "cell_type": "code",
   "execution_count": 43,
   "id": "7a9e997a",
   "metadata": {},
   "outputs": [
    {
     "data": {
      "text/plain": [
       "40"
      ]
     },
     "execution_count": 43,
     "metadata": {},
     "output_type": "execute_result"
    }
   ],
   "source": [
    "description_prd = []\n",
    "\n",
    "for i in description_tags:\n",
    "    description_prd.append(i.text)\n",
    "len(description_prd)"
   ]
  },
  {
   "cell_type": "code",
   "execution_count": 45,
   "id": "a5d00afc",
   "metadata": {},
   "outputs": [
    {
     "data": {
      "text/plain": [
       "['Mirrored, UV Protection, Gradient Round Sunglasses (55)',\n",
       " 'UV Protection Aviator Sunglasses (55)',\n",
       " 'UV Protection Wayfarer Sunglasses (56)',\n",
       " 'UV Protection Round Sunglasses (54)',\n",
       " 'UV Protection Round Sunglasses (54)',\n",
       " 'UV Protection Aviator Sunglasses (54)',\n",
       " 'UV Protection, Polarized, Mirrored Rectangular Sunglass...',\n",
       " 'UV Protection Aviator Sunglasses (Free Size)',\n",
       " 'UV Protection Rectangular Sunglasses (Free Size)',\n",
       " 'UV Protection Wayfarer Sunglasses (Free Size)',\n",
       " 'Mirrored, UV Protection Wayfarer Sunglasses (53)',\n",
       " 'UV Protection Aviator Sunglasses (58)',\n",
       " 'Riding Glasses, UV Protection Oval Sunglasses (48)',\n",
       " 'UV Protection Wayfarer Sunglasses (32)',\n",
       " 'UV Protection Retro Square Sunglasses (Free Size)',\n",
       " 'UV Protection Sports Sunglasses (Free Size)',\n",
       " 'UV Protection Aviator Sunglasses (54)',\n",
       " 'UV Protection, Gradient Rectangular Sunglasses (Free Si...',\n",
       " 'UV Protection, Polarized, Mirrored Round Sunglasses (Fr...',\n",
       " 'Mirrored Aviator Sunglasses (32)',\n",
       " 'Mirrored, UV Protection, Riding Glasses, Others Round S...',\n",
       " 'Mirrored Aviator Sunglasses (55)',\n",
       " 'Polarized Round Sunglasses (48)',\n",
       " 'UV Protection Aviator Sunglasses (54)',\n",
       " 'Riding Glasses, Night Vision Wrap-around Sunglasses (Fr...',\n",
       " 'UV Protection Retro Square Sunglasses (Free Size)',\n",
       " 'UV Protection, Mirrored Retro Square Sunglasses (53)',\n",
       " 'UV Protection Rectangular, Over-sized Sunglasses (Free ...',\n",
       " 'UV Protection Aviator Sunglasses (54)',\n",
       " 'UV Protection, Polarized, Mirrored Rectangular Sunglass...',\n",
       " 'UV Protection, Night Vision Wayfarer Sunglasses (Free S...',\n",
       " 'UV Protection Aviator Sunglasses (Free Size)',\n",
       " 'Gradient Aviator Sunglasses (55)',\n",
       " 'Mirrored Aviator Sunglasses (55)',\n",
       " 'UV Protection Shield Sunglasses (Free Size)',\n",
       " 'UV Protection, Gradient Butterfly, Wayfarer Sunglasses ...',\n",
       " 'UV Protection, Gradient Round Sunglasses (Free Size)',\n",
       " 'UV Protection Round Sunglasses (Free Size)',\n",
       " 'UV Protection Round Sunglasses (54)',\n",
       " 'UV Protection Aviator Sunglasses (58)']"
      ]
     },
     "execution_count": 45,
     "metadata": {},
     "output_type": "execute_result"
    }
   ],
   "source": [
    "description_prd[0:100]"
   ]
  },
  {
   "cell_type": "code",
   "execution_count": 50,
   "id": "db898982",
   "metadata": {},
   "outputs": [
    {
     "data": {
      "text/plain": [
       "40"
      ]
     },
     "execution_count": 50,
     "metadata": {},
     "output_type": "execute_result"
    }
   ],
   "source": [
    "# Extracting Price\n",
    "\n",
    "price_tags = driver.find_elements_by_xpath('//div[@class=\"_3I9_wc\"]')\n",
    "len(price_tags)"
   ]
  },
  {
   "cell_type": "code",
   "execution_count": 51,
   "id": "7e72c1f1",
   "metadata": {},
   "outputs": [
    {
     "data": {
      "text/plain": [
       "40"
      ]
     },
     "execution_count": 51,
     "metadata": {},
     "output_type": "execute_result"
    }
   ],
   "source": [
    "brand_price = []\n",
    "\n",
    "for i in price_tags:\n",
    "    brand_price.append(i.text)\n",
    "len(brand_price)"
   ]
  },
  {
   "cell_type": "code",
   "execution_count": 52,
   "id": "2d1a0645",
   "metadata": {},
   "outputs": [
    {
     "data": {
      "text/plain": [
       "['₹1,466',\n",
       " '₹1,599',\n",
       " '₹1,299',\n",
       " '₹2,495',\n",
       " '₹999',\n",
       " '₹1,599',\n",
       " '₹1,699',\n",
       " '₹1,599',\n",
       " '₹1,999',\n",
       " '₹899',\n",
       " '₹1,999',\n",
       " '₹2,599',\n",
       " '₹1,199',\n",
       " '₹1,599',\n",
       " '₹2,225',\n",
       " '₹1,899',\n",
       " '₹1,599',\n",
       " '₹1,999',\n",
       " '₹1,699',\n",
       " '₹1,599',\n",
       " '₹1,599',\n",
       " '₹1,499',\n",
       " '₹499',\n",
       " '₹1,599',\n",
       " '₹2,499',\n",
       " '₹1,999',\n",
       " '₹1,999',\n",
       " '₹2,999',\n",
       " '₹1,599',\n",
       " '₹999',\n",
       " '₹1,699',\n",
       " '₹1,599',\n",
       " '₹1,149',\n",
       " '₹1,499',\n",
       " '₹899',\n",
       " '₹1,525',\n",
       " '₹1,999',\n",
       " '₹1,599',\n",
       " '₹1,299',\n",
       " '₹2,599']"
      ]
     },
     "execution_count": 52,
     "metadata": {},
     "output_type": "execute_result"
    }
   ],
   "source": [
    "brand_price[0:100]"
   ]
  },
  {
   "cell_type": "code",
   "execution_count": 53,
   "id": "58c8a5b3",
   "metadata": {},
   "outputs": [
    {
     "data": {
      "text/plain": [
       "(40, 40, 40)"
      ]
     },
     "execution_count": 53,
     "metadata": {},
     "output_type": "execute_result"
    }
   ],
   "source": [
    "len(brand_names), len(description_prd), len(brand_price)"
   ]
  },
  {
   "cell_type": "code",
   "execution_count": 54,
   "id": "803b8825",
   "metadata": {},
   "outputs": [
    {
     "data": {
      "text/html": [
       "<div>\n",
       "<style scoped>\n",
       "    .dataframe tbody tr th:only-of-type {\n",
       "        vertical-align: middle;\n",
       "    }\n",
       "\n",
       "    .dataframe tbody tr th {\n",
       "        vertical-align: top;\n",
       "    }\n",
       "\n",
       "    .dataframe thead th {\n",
       "        text-align: right;\n",
       "    }\n",
       "</style>\n",
       "<table border=\"1\" class=\"dataframe\">\n",
       "  <thead>\n",
       "    <tr style=\"text-align: right;\">\n",
       "      <th></th>\n",
       "      <th>Brand Name</th>\n",
       "      <th>Description</th>\n",
       "      <th>Price</th>\n",
       "    </tr>\n",
       "  </thead>\n",
       "  <tbody>\n",
       "    <tr>\n",
       "      <th>0</th>\n",
       "      <td>hipe</td>\n",
       "      <td>Mirrored, UV Protection, Gradient Round Sungla...</td>\n",
       "      <td>₹1,466</td>\n",
       "    </tr>\n",
       "    <tr>\n",
       "      <th>1</th>\n",
       "      <td>PIRASO</td>\n",
       "      <td>UV Protection Aviator Sunglasses (55)</td>\n",
       "      <td>₹1,599</td>\n",
       "    </tr>\n",
       "    <tr>\n",
       "      <th>2</th>\n",
       "      <td>SRPM</td>\n",
       "      <td>UV Protection Wayfarer Sunglasses (56)</td>\n",
       "      <td>₹1,299</td>\n",
       "    </tr>\n",
       "    <tr>\n",
       "      <th>3</th>\n",
       "      <td>Elligator</td>\n",
       "      <td>UV Protection Round Sunglasses (54)</td>\n",
       "      <td>₹2,495</td>\n",
       "    </tr>\n",
       "    <tr>\n",
       "      <th>4</th>\n",
       "      <td>kingsunglasses</td>\n",
       "      <td>UV Protection Round Sunglasses (54)</td>\n",
       "      <td>₹999</td>\n",
       "    </tr>\n",
       "    <tr>\n",
       "      <th>5</th>\n",
       "      <td>PIRASO</td>\n",
       "      <td>UV Protection Aviator Sunglasses (54)</td>\n",
       "      <td>₹1,599</td>\n",
       "    </tr>\n",
       "    <tr>\n",
       "      <th>6</th>\n",
       "      <td>SHAAH COLLECTIONS</td>\n",
       "      <td>UV Protection, Polarized, Mirrored Rectangular...</td>\n",
       "      <td>₹1,699</td>\n",
       "    </tr>\n",
       "    <tr>\n",
       "      <th>7</th>\n",
       "      <td>PIRASO</td>\n",
       "      <td>UV Protection Aviator Sunglasses (Free Size)</td>\n",
       "      <td>₹1,599</td>\n",
       "    </tr>\n",
       "    <tr>\n",
       "      <th>8</th>\n",
       "      <td>New Specs</td>\n",
       "      <td>UV Protection Rectangular Sunglasses (Free Size)</td>\n",
       "      <td>₹1,999</td>\n",
       "    </tr>\n",
       "    <tr>\n",
       "      <th>9</th>\n",
       "      <td>Fastrack</td>\n",
       "      <td>UV Protection Wayfarer Sunglasses (Free Size)</td>\n",
       "      <td>₹899</td>\n",
       "    </tr>\n",
       "    <tr>\n",
       "      <th>10</th>\n",
       "      <td>kingsunglasses</td>\n",
       "      <td>Mirrored, UV Protection Wayfarer Sunglasses (53)</td>\n",
       "      <td>₹1,999</td>\n",
       "    </tr>\n",
       "    <tr>\n",
       "      <th>11</th>\n",
       "      <td>PIRASO</td>\n",
       "      <td>UV Protection Aviator Sunglasses (58)</td>\n",
       "      <td>₹2,599</td>\n",
       "    </tr>\n",
       "    <tr>\n",
       "      <th>12</th>\n",
       "      <td>Johaena</td>\n",
       "      <td>Riding Glasses, UV Protection Oval Sunglasses ...</td>\n",
       "      <td>₹1,199</td>\n",
       "    </tr>\n",
       "    <tr>\n",
       "      <th>13</th>\n",
       "      <td>PIRASO</td>\n",
       "      <td>UV Protection Wayfarer Sunglasses (32)</td>\n",
       "      <td>₹1,599</td>\n",
       "    </tr>\n",
       "    <tr>\n",
       "      <th>14</th>\n",
       "      <td>ROZZETTA CRAFT</td>\n",
       "      <td>UV Protection Retro Square Sunglasses (Free Size)</td>\n",
       "      <td>₹2,225</td>\n",
       "    </tr>\n",
       "    <tr>\n",
       "      <th>15</th>\n",
       "      <td>hipe</td>\n",
       "      <td>UV Protection Sports Sunglasses (Free Size)</td>\n",
       "      <td>₹1,899</td>\n",
       "    </tr>\n",
       "    <tr>\n",
       "      <th>16</th>\n",
       "      <td>PIRASO</td>\n",
       "      <td>UV Protection Aviator Sunglasses (54)</td>\n",
       "      <td>₹1,599</td>\n",
       "    </tr>\n",
       "    <tr>\n",
       "      <th>17</th>\n",
       "      <td>ROZZETTA CRAFT</td>\n",
       "      <td>UV Protection, Gradient Rectangular Sunglasses...</td>\n",
       "      <td>₹1,999</td>\n",
       "    </tr>\n",
       "    <tr>\n",
       "      <th>18</th>\n",
       "      <td>SUNBEE</td>\n",
       "      <td>UV Protection, Polarized, Mirrored Round Sungl...</td>\n",
       "      <td>₹1,699</td>\n",
       "    </tr>\n",
       "    <tr>\n",
       "      <th>19</th>\n",
       "      <td>PIRASO</td>\n",
       "      <td>Mirrored Aviator Sunglasses (32)</td>\n",
       "      <td>₹1,599</td>\n",
       "    </tr>\n",
       "    <tr>\n",
       "      <th>20</th>\n",
       "      <td>New Specs</td>\n",
       "      <td>Mirrored, UV Protection, Riding Glasses, Other...</td>\n",
       "      <td>₹1,599</td>\n",
       "    </tr>\n",
       "    <tr>\n",
       "      <th>21</th>\n",
       "      <td>ROYAL SON</td>\n",
       "      <td>Mirrored Aviator Sunglasses (55)</td>\n",
       "      <td>₹1,499</td>\n",
       "    </tr>\n",
       "    <tr>\n",
       "      <th>22</th>\n",
       "      <td>Rich Club</td>\n",
       "      <td>Polarized Round Sunglasses (48)</td>\n",
       "      <td>₹499</td>\n",
       "    </tr>\n",
       "    <tr>\n",
       "      <th>23</th>\n",
       "      <td>PIRASO</td>\n",
       "      <td>UV Protection Aviator Sunglasses (54)</td>\n",
       "      <td>₹1,599</td>\n",
       "    </tr>\n",
       "    <tr>\n",
       "      <th>24</th>\n",
       "      <td>Lee Topper</td>\n",
       "      <td>Riding Glasses, Night Vision Wrap-around Sungl...</td>\n",
       "      <td>₹2,499</td>\n",
       "    </tr>\n",
       "    <tr>\n",
       "      <th>25</th>\n",
       "      <td>PHENOMENAL</td>\n",
       "      <td>UV Protection Retro Square Sunglasses (Free Size)</td>\n",
       "      <td>₹1,999</td>\n",
       "    </tr>\n",
       "    <tr>\n",
       "      <th>26</th>\n",
       "      <td>PHENOMENAL</td>\n",
       "      <td>UV Protection, Mirrored Retro Square Sunglasse...</td>\n",
       "      <td>₹1,999</td>\n",
       "    </tr>\n",
       "    <tr>\n",
       "      <th>27</th>\n",
       "      <td>PIRASO</td>\n",
       "      <td>UV Protection Rectangular, Over-sized Sunglass...</td>\n",
       "      <td>₹2,999</td>\n",
       "    </tr>\n",
       "    <tr>\n",
       "      <th>28</th>\n",
       "      <td>PIRASO</td>\n",
       "      <td>UV Protection Aviator Sunglasses (54)</td>\n",
       "      <td>₹1,599</td>\n",
       "    </tr>\n",
       "    <tr>\n",
       "      <th>29</th>\n",
       "      <td>SHAAH COLLECTIONS</td>\n",
       "      <td>UV Protection, Polarized, Mirrored Rectangular...</td>\n",
       "      <td>₹999</td>\n",
       "    </tr>\n",
       "    <tr>\n",
       "      <th>30</th>\n",
       "      <td>kingsunglasses</td>\n",
       "      <td>UV Protection, Night Vision Wayfarer Sunglasse...</td>\n",
       "      <td>₹1,699</td>\n",
       "    </tr>\n",
       "    <tr>\n",
       "      <th>31</th>\n",
       "      <td>PIRASO</td>\n",
       "      <td>UV Protection Aviator Sunglasses (Free Size)</td>\n",
       "      <td>₹1,599</td>\n",
       "    </tr>\n",
       "    <tr>\n",
       "      <th>32</th>\n",
       "      <td>agera</td>\n",
       "      <td>Gradient Aviator Sunglasses (55)</td>\n",
       "      <td>₹1,149</td>\n",
       "    </tr>\n",
       "    <tr>\n",
       "      <th>33</th>\n",
       "      <td>ROYAL SON</td>\n",
       "      <td>Mirrored Aviator Sunglasses (55)</td>\n",
       "      <td>₹1,499</td>\n",
       "    </tr>\n",
       "    <tr>\n",
       "      <th>34</th>\n",
       "      <td>Fastrack</td>\n",
       "      <td>UV Protection Shield Sunglasses (Free Size)</td>\n",
       "      <td>₹899</td>\n",
       "    </tr>\n",
       "    <tr>\n",
       "      <th>35</th>\n",
       "      <td>AISLIN</td>\n",
       "      <td>UV Protection, Gradient Butterfly, Wayfarer Su...</td>\n",
       "      <td>₹1,525</td>\n",
       "    </tr>\n",
       "    <tr>\n",
       "      <th>36</th>\n",
       "      <td>ROZZETTA CRAFT</td>\n",
       "      <td>UV Protection, Gradient Round Sunglasses (Free...</td>\n",
       "      <td>₹1,999</td>\n",
       "    </tr>\n",
       "    <tr>\n",
       "      <th>37</th>\n",
       "      <td>kingsunglasses</td>\n",
       "      <td>UV Protection Round Sunglasses (Free Size)</td>\n",
       "      <td>₹1,599</td>\n",
       "    </tr>\n",
       "    <tr>\n",
       "      <th>38</th>\n",
       "      <td>Elligator</td>\n",
       "      <td>UV Protection Round Sunglasses (54)</td>\n",
       "      <td>₹1,299</td>\n",
       "    </tr>\n",
       "    <tr>\n",
       "      <th>39</th>\n",
       "      <td>PIRASO</td>\n",
       "      <td>UV Protection Aviator Sunglasses (58)</td>\n",
       "      <td>₹2,599</td>\n",
       "    </tr>\n",
       "  </tbody>\n",
       "</table>\n",
       "</div>"
      ],
      "text/plain": [
       "           Brand Name                                        Description  \\\n",
       "0                hipe  Mirrored, UV Protection, Gradient Round Sungla...   \n",
       "1              PIRASO              UV Protection Aviator Sunglasses (55)   \n",
       "2                SRPM             UV Protection Wayfarer Sunglasses (56)   \n",
       "3           Elligator                UV Protection Round Sunglasses (54)   \n",
       "4      kingsunglasses                UV Protection Round Sunglasses (54)   \n",
       "5              PIRASO              UV Protection Aviator Sunglasses (54)   \n",
       "6   SHAAH COLLECTIONS  UV Protection, Polarized, Mirrored Rectangular...   \n",
       "7              PIRASO       UV Protection Aviator Sunglasses (Free Size)   \n",
       "8           New Specs   UV Protection Rectangular Sunglasses (Free Size)   \n",
       "9            Fastrack      UV Protection Wayfarer Sunglasses (Free Size)   \n",
       "10     kingsunglasses   Mirrored, UV Protection Wayfarer Sunglasses (53)   \n",
       "11             PIRASO              UV Protection Aviator Sunglasses (58)   \n",
       "12            Johaena  Riding Glasses, UV Protection Oval Sunglasses ...   \n",
       "13             PIRASO             UV Protection Wayfarer Sunglasses (32)   \n",
       "14     ROZZETTA CRAFT  UV Protection Retro Square Sunglasses (Free Size)   \n",
       "15               hipe        UV Protection Sports Sunglasses (Free Size)   \n",
       "16             PIRASO              UV Protection Aviator Sunglasses (54)   \n",
       "17     ROZZETTA CRAFT  UV Protection, Gradient Rectangular Sunglasses...   \n",
       "18             SUNBEE  UV Protection, Polarized, Mirrored Round Sungl...   \n",
       "19             PIRASO                   Mirrored Aviator Sunglasses (32)   \n",
       "20          New Specs  Mirrored, UV Protection, Riding Glasses, Other...   \n",
       "21          ROYAL SON                   Mirrored Aviator Sunglasses (55)   \n",
       "22          Rich Club                    Polarized Round Sunglasses (48)   \n",
       "23             PIRASO              UV Protection Aviator Sunglasses (54)   \n",
       "24         Lee Topper  Riding Glasses, Night Vision Wrap-around Sungl...   \n",
       "25         PHENOMENAL  UV Protection Retro Square Sunglasses (Free Size)   \n",
       "26         PHENOMENAL  UV Protection, Mirrored Retro Square Sunglasse...   \n",
       "27             PIRASO  UV Protection Rectangular, Over-sized Sunglass...   \n",
       "28             PIRASO              UV Protection Aviator Sunglasses (54)   \n",
       "29  SHAAH COLLECTIONS  UV Protection, Polarized, Mirrored Rectangular...   \n",
       "30     kingsunglasses  UV Protection, Night Vision Wayfarer Sunglasse...   \n",
       "31             PIRASO       UV Protection Aviator Sunglasses (Free Size)   \n",
       "32              agera                   Gradient Aviator Sunglasses (55)   \n",
       "33          ROYAL SON                   Mirrored Aviator Sunglasses (55)   \n",
       "34           Fastrack        UV Protection Shield Sunglasses (Free Size)   \n",
       "35             AISLIN  UV Protection, Gradient Butterfly, Wayfarer Su...   \n",
       "36     ROZZETTA CRAFT  UV Protection, Gradient Round Sunglasses (Free...   \n",
       "37     kingsunglasses         UV Protection Round Sunglasses (Free Size)   \n",
       "38          Elligator                UV Protection Round Sunglasses (54)   \n",
       "39             PIRASO              UV Protection Aviator Sunglasses (58)   \n",
       "\n",
       "     Price  \n",
       "0   ₹1,466  \n",
       "1   ₹1,599  \n",
       "2   ₹1,299  \n",
       "3   ₹2,495  \n",
       "4     ₹999  \n",
       "5   ₹1,599  \n",
       "6   ₹1,699  \n",
       "7   ₹1,599  \n",
       "8   ₹1,999  \n",
       "9     ₹899  \n",
       "10  ₹1,999  \n",
       "11  ₹2,599  \n",
       "12  ₹1,199  \n",
       "13  ₹1,599  \n",
       "14  ₹2,225  \n",
       "15  ₹1,899  \n",
       "16  ₹1,599  \n",
       "17  ₹1,999  \n",
       "18  ₹1,699  \n",
       "19  ₹1,599  \n",
       "20  ₹1,599  \n",
       "21  ₹1,499  \n",
       "22    ₹499  \n",
       "23  ₹1,599  \n",
       "24  ₹2,499  \n",
       "25  ₹1,999  \n",
       "26  ₹1,999  \n",
       "27  ₹2,999  \n",
       "28  ₹1,599  \n",
       "29    ₹999  \n",
       "30  ₹1,699  \n",
       "31  ₹1,599  \n",
       "32  ₹1,149  \n",
       "33  ₹1,499  \n",
       "34    ₹899  \n",
       "35  ₹1,525  \n",
       "36  ₹1,999  \n",
       "37  ₹1,599  \n",
       "38  ₹1,299  \n",
       "39  ₹2,599  "
      ]
     },
     "execution_count": 54,
     "metadata": {},
     "output_type": "execute_result"
    }
   ],
   "source": [
    "# Making DataFrame\n",
    "\n",
    "sunglasses = pd.DataFrame()\n",
    "sunglasses['Brand Name'] = brand_names\n",
    "sunglasses['Description'] = description_prd\n",
    "sunglasses['Price'] = brand_price\n",
    "sunglasses"
   ]
  },
  {
   "cell_type": "markdown",
   "id": "0757ea8b",
   "metadata": {},
   "source": [
    "# Question5"
   ]
  },
  {
   "cell_type": "code",
   "execution_count": 55,
   "id": "8e7e149f",
   "metadata": {},
   "outputs": [],
   "source": [
    "# Scrape 100 reviews data from flipkart.com for iphone11 phone"
   ]
  },
  {
   "cell_type": "code",
   "execution_count": 56,
   "id": "4ab96c97",
   "metadata": {},
   "outputs": [],
   "source": [
    "import selenium\n",
    "from selenium import webdriver\n",
    "import pandas as pd\n",
    "import warnings\n",
    "warnings.filterwarnings(\"ignore\")"
   ]
  },
  {
   "cell_type": "code",
   "execution_count": 57,
   "id": "7009fb11",
   "metadata": {},
   "outputs": [],
   "source": [
    "# Let's first connect to webdriver\n",
    "driver = webdriver.Chrome(r'C:\\Users\\K K SHARMA\\Downloads\\Chromedriver_win32\\Chromedriver')"
   ]
  },
  {
   "cell_type": "code",
   "execution_count": 184,
   "id": "0ab9e62d",
   "metadata": {},
   "outputs": [],
   "source": [
    "url ='https://www.flipkart.com/apple-iphone-11-pro-max-space-grey-64-gb/p/itme0101031155f8?pid=MOBFKCTSKDMKCGQS&lid=LSTMOBFKCTSKDMKCGQSD5DKJQ&marketplace=FLIPKART&q=i+phone11iphone11&store=search.flipkart.com&srno=s_1_1&otracker=search&otracker1=search&fm=organic&iid=7a78430f-f4f3-4693-bd45-e6aecc1bf002.MOBFKCTSKDMKCGQS.SEARCH&ppt=sp&ppn=sp&ssid=v4k53vm8680000001641627731199&qH=1499addbaad36642'\n",
    "driver.get(url)"
   ]
  },
  {
   "cell_type": "code",
   "execution_count": 185,
   "id": "9155372d",
   "metadata": {},
   "outputs": [
    {
     "data": {
      "text/plain": [
       "<selenium.webdriver.remote.webelement.WebElement (session=\"1344352cee3c84cc93e69b34890fe366\", element=\"7fa5a41d-d1a1-4a2d-a9ea-902cafda24db\")>"
      ]
     },
     "execution_count": 185,
     "metadata": {},
     "output_type": "execute_result"
    }
   ],
   "source": [
    "# Finding web element for search iphone11 bar using id\n",
    "search_phone = driver.find_element_by_xpath('//a[@class=\"s1Q9rs\"]')\n",
    "search_phone"
   ]
  },
  {
   "cell_type": "code",
   "execution_count": 186,
   "id": "ebe10745",
   "metadata": {},
   "outputs": [],
   "source": [
    "# write on Search bar\n",
    "search_phone.send_keys(\"iphone11\")"
   ]
  },
  {
   "cell_type": "code",
   "execution_count": 187,
   "id": "3a8a813e",
   "metadata": {},
   "outputs": [
    {
     "data": {
      "text/plain": [
       "<selenium.webdriver.remote.webelement.WebElement (session=\"1344352cee3c84cc93e69b34890fe366\", element=\"d0dc1160-cfd7-4b43-a618-eccf79a5c512\")>"
      ]
     },
     "execution_count": 187,
     "metadata": {},
     "output_type": "execute_result"
    }
   ],
   "source": [
    "# Clicking using absolute X Path function \n",
    "search_btn = driver.find_element_by_xpath('//button[@class=\"L0Z3Pu\"]')\n",
    "search_btn"
   ]
  },
  {
   "cell_type": "code",
   "execution_count": 188,
   "id": "8cffca3c",
   "metadata": {},
   "outputs": [],
   "source": [
    "search_btn.click()"
   ]
  },
  {
   "cell_type": "code",
   "execution_count": 193,
   "id": "d583facd",
   "metadata": {},
   "outputs": [
    {
     "data": {
      "text/plain": [
       "1"
      ]
     },
     "execution_count": 193,
     "metadata": {},
     "output_type": "execute_result"
    }
   ],
   "source": [
    "# Extracting Product Name\n",
    "\n",
    "brand_tags = driver.find_elements_by_xpath('/html/body/div[1]/div/div[3]/div[1]/div[2]/div[2]/div/div[1]/h1/span')\n",
    "len(brand_tags)\n"
   ]
  },
  {
   "cell_type": "code",
   "execution_count": 194,
   "id": "eb347f35",
   "metadata": {},
   "outputs": [
    {
     "data": {
      "text/plain": [
       "[<selenium.webdriver.remote.webelement.WebElement (session=\"1344352cee3c84cc93e69b34890fe366\", element=\"73e09ceb-f57a-4ebd-8f4d-23df670f038f\")>]"
      ]
     },
     "execution_count": 194,
     "metadata": {},
     "output_type": "execute_result"
    }
   ],
   "source": [
    "brand_tags[0:1]"
   ]
  },
  {
   "cell_type": "code",
   "execution_count": 195,
   "id": "d8e6214f",
   "metadata": {},
   "outputs": [
    {
     "data": {
      "text/plain": [
       "1"
      ]
     },
     "execution_count": 195,
     "metadata": {},
     "output_type": "execute_result"
    }
   ],
   "source": [
    "brand_names = []\n",
    "\n",
    "for i in brand_tags:\n",
    "    brand_names.append(i.text)\n",
    "len(brand_names)"
   ]
  },
  {
   "cell_type": "code",
   "execution_count": 196,
   "id": "2d21870b",
   "metadata": {},
   "outputs": [
    {
     "data": {
      "text/plain": [
       "['APPLE iPhone 11 Pro Max (Space Grey, 64 GB)']"
      ]
     },
     "execution_count": 196,
     "metadata": {},
     "output_type": "execute_result"
    }
   ],
   "source": [
    "brand_names[0:1]"
   ]
  },
  {
   "cell_type": "code",
   "execution_count": 198,
   "id": "c9816154",
   "metadata": {},
   "outputs": [
    {
     "data": {
      "text/plain": [
       "10"
      ]
     },
     "execution_count": 198,
     "metadata": {},
     "output_type": "execute_result"
    }
   ],
   "source": [
    "# Extracting Product Review\n",
    "\n",
    "prd_review = driver.find_elements_by_xpath('//div[@class=\"t-ZTKy\"]')\n",
    "len(prd_review)"
   ]
  },
  {
   "cell_type": "code",
   "execution_count": 199,
   "id": "51155ca5",
   "metadata": {},
   "outputs": [
    {
     "data": {
      "text/plain": [
       "10"
      ]
     },
     "execution_count": 199,
     "metadata": {},
     "output_type": "execute_result"
    }
   ],
   "source": [
    "brand_review = []\n",
    "\n",
    "for i in prd_review:\n",
    "    brand_review.append(i.text)\n",
    "len(brand_review)"
   ]
  },
  {
   "cell_type": "code",
   "execution_count": 200,
   "id": "62e1cccb",
   "metadata": {},
   "outputs": [
    {
     "data": {
      "text/plain": [
       "[\"impressively Nice......\\nOne of the greatest iPhone i ever used ....\\nAll was like Never before ...\\nit's just Amazing ...\\nBattery Life is too good ...2 Days with hevy used\\nCamera also like Apple Quality best ever\",\n",
       " 'Great purchase, happily upgraded to iPhone 11 pro max and I’m quite satisfied with the performance of the phone :))',\n",
       " 'Superb Apple IPhones 11 pro max i love it. Faster performance, awesome camera. Battery life good.\\nApple for life',\n",
       " '',\n",
       " '',\n",
       " '',\n",
       " '',\n",
       " '',\n",
       " '',\n",
       " '']"
      ]
     },
     "execution_count": 200,
     "metadata": {},
     "output_type": "execute_result"
    }
   ],
   "source": [
    "brand_review[0:10]"
   ]
  },
  {
   "cell_type": "code",
   "execution_count": 201,
   "id": "14192607",
   "metadata": {},
   "outputs": [
    {
     "data": {
      "text/plain": [
       "(1, 10)"
      ]
     },
     "execution_count": 201,
     "metadata": {},
     "output_type": "execute_result"
    }
   ],
   "source": [
    "len(brand_names), len(brand_review)\n",
    "\n"
   ]
  },
  {
   "cell_type": "code",
   "execution_count": 205,
   "id": "98f719fe",
   "metadata": {},
   "outputs": [
    {
     "data": {
      "text/plain": [
       "10"
      ]
     },
     "execution_count": 205,
     "metadata": {},
     "output_type": "execute_result"
    }
   ],
   "source": [
    "# Extracting Ratings\n",
    "prd_ratings = driver.find_elements_by_xpath('//div[@class=\"_3LWZlK _1BLPMq\"]')\n",
    "len(prd_ratings)"
   ]
  },
  {
   "cell_type": "code",
   "execution_count": 206,
   "id": "ed94df6d",
   "metadata": {},
   "outputs": [
    {
     "data": {
      "text/plain": [
       "10"
      ]
     },
     "execution_count": 206,
     "metadata": {},
     "output_type": "execute_result"
    }
   ],
   "source": [
    "brand_ratings = []\n",
    "\n",
    "for i in prd_ratings:\n",
    "    brand_ratings.append(i.text)\n",
    "len(brand_ratings)"
   ]
  },
  {
   "cell_type": "code",
   "execution_count": 207,
   "id": "a2ecf59b",
   "metadata": {},
   "outputs": [
    {
     "data": {
      "text/plain": [
       "['4']"
      ]
     },
     "execution_count": 207,
     "metadata": {},
     "output_type": "execute_result"
    }
   ],
   "source": [
    "brand_ratings[0:1]"
   ]
  },
  {
   "cell_type": "code",
   "execution_count": 208,
   "id": "968318d7",
   "metadata": {},
   "outputs": [
    {
     "data": {
      "text/html": [
       "<div>\n",
       "<style scoped>\n",
       "    .dataframe tbody tr th:only-of-type {\n",
       "        vertical-align: middle;\n",
       "    }\n",
       "\n",
       "    .dataframe tbody tr th {\n",
       "        vertical-align: top;\n",
       "    }\n",
       "\n",
       "    .dataframe thead th {\n",
       "        text-align: right;\n",
       "    }\n",
       "</style>\n",
       "<table border=\"1\" class=\"dataframe\">\n",
       "  <thead>\n",
       "    <tr style=\"text-align: right;\">\n",
       "      <th></th>\n",
       "      <th>Brand Review</th>\n",
       "      <th>Brand Ratings</th>\n",
       "    </tr>\n",
       "  </thead>\n",
       "  <tbody>\n",
       "    <tr>\n",
       "      <th>0</th>\n",
       "      <td>impressively Nice......\\nOne of the greatest i...</td>\n",
       "      <td>4</td>\n",
       "    </tr>\n",
       "    <tr>\n",
       "      <th>1</th>\n",
       "      <td>Great purchase, happily upgraded to iPhone 11 ...</td>\n",
       "      <td>5</td>\n",
       "    </tr>\n",
       "    <tr>\n",
       "      <th>2</th>\n",
       "      <td>Superb Apple IPhones 11 pro max i love it. Fas...</td>\n",
       "      <td>5</td>\n",
       "    </tr>\n",
       "    <tr>\n",
       "      <th>3</th>\n",
       "      <td></td>\n",
       "      <td></td>\n",
       "    </tr>\n",
       "    <tr>\n",
       "      <th>4</th>\n",
       "      <td></td>\n",
       "      <td></td>\n",
       "    </tr>\n",
       "    <tr>\n",
       "      <th>5</th>\n",
       "      <td></td>\n",
       "      <td></td>\n",
       "    </tr>\n",
       "    <tr>\n",
       "      <th>6</th>\n",
       "      <td></td>\n",
       "      <td></td>\n",
       "    </tr>\n",
       "    <tr>\n",
       "      <th>7</th>\n",
       "      <td></td>\n",
       "      <td></td>\n",
       "    </tr>\n",
       "    <tr>\n",
       "      <th>8</th>\n",
       "      <td></td>\n",
       "      <td></td>\n",
       "    </tr>\n",
       "    <tr>\n",
       "      <th>9</th>\n",
       "      <td></td>\n",
       "      <td></td>\n",
       "    </tr>\n",
       "  </tbody>\n",
       "</table>\n",
       "</div>"
      ],
      "text/plain": [
       "                                        Brand Review Brand Ratings\n",
       "0  impressively Nice......\\nOne of the greatest i...             4\n",
       "1  Great purchase, happily upgraded to iPhone 11 ...             5\n",
       "2  Superb Apple IPhones 11 pro max i love it. Fas...             5\n",
       "3                                                                 \n",
       "4                                                                 \n",
       "5                                                                 \n",
       "6                                                                 \n",
       "7                                                                 \n",
       "8                                                                 \n",
       "9                                                                 "
      ]
     },
     "execution_count": 208,
     "metadata": {},
     "output_type": "execute_result"
    }
   ],
   "source": [
    "# Makings DataFrame\n",
    "\n",
    "iphone11 = pd.DataFrame()\n",
    "iphone11['Brand Review'] = brand_review\n",
    "iphone11['Brand Ratings'] = brand_ratings\n",
    "iphone11"
   ]
  },
  {
   "cell_type": "markdown",
   "id": "8e4c6c3d",
   "metadata": {},
   "source": [
    "# Question6"
   ]
  },
  {
   "cell_type": "code",
   "execution_count": 209,
   "id": "b717ad48",
   "metadata": {},
   "outputs": [],
   "source": [
    "# Scrape data for first 100 sneakers you find when you visit flipkart.com"
   ]
  },
  {
   "cell_type": "code",
   "execution_count": 6,
   "id": "925142f1",
   "metadata": {},
   "outputs": [],
   "source": [
    "import selenium\n",
    "from selenium import webdriver\n",
    "import pandas as pd\n",
    "import warnings\n",
    "warnings.filterwarnings(\"ignore\")"
   ]
  },
  {
   "cell_type": "code",
   "execution_count": 7,
   "id": "bf03d36b",
   "metadata": {},
   "outputs": [],
   "source": [
    "# Let's first connect to webdriver\n",
    "driver = webdriver.Chrome(r'C:\\Users\\K K SHARMA\\Downloads\\Chromedriver_win32\\Chromedriver')"
   ]
  },
  {
   "cell_type": "code",
   "execution_count": 8,
   "id": "52c255c8",
   "metadata": {},
   "outputs": [],
   "source": [
    "url ='https://www.flipkart.com/'\n",
    "driver.get(url)"
   ]
  },
  {
   "cell_type": "code",
   "execution_count": 12,
   "id": "974a2d24",
   "metadata": {},
   "outputs": [
    {
     "data": {
      "text/plain": [
       "<selenium.webdriver.remote.webelement.WebElement (session=\"fd355e051b7fbfcab9263d15e74e1266\", element=\"181316f7-2dad-4ce1-983a-c055bcf93512\")>"
      ]
     },
     "execution_count": 12,
     "metadata": {},
     "output_type": "execute_result"
    }
   ],
   "source": [
    "# Finding web element for search Sneakers bar using id\n",
    "search_phone = driver.find_element_by_class_name(\"_3704LK\")\n",
    "search_phone"
   ]
  },
  {
   "cell_type": "code",
   "execution_count": 13,
   "id": "c7f981f1",
   "metadata": {},
   "outputs": [],
   "source": [
    "# write on Search bar\n",
    "search_phone.send_keys(\"sneakers\")"
   ]
  },
  {
   "cell_type": "code",
   "execution_count": 15,
   "id": "d93778a1",
   "metadata": {},
   "outputs": [
    {
     "data": {
      "text/plain": [
       "<selenium.webdriver.remote.webelement.WebElement (session=\"fd355e051b7fbfcab9263d15e74e1266\", element=\"98f2bb0f-86fc-41fa-91d7-4987b6d70289\")>"
      ]
     },
     "execution_count": 15,
     "metadata": {},
     "output_type": "execute_result"
    }
   ],
   "source": [
    "# Clicking using absolute X Path function \n",
    "search_btn = driver.find_element_by_xpath('//button[@class=\"L0Z3Pu\"]')\n",
    "search_btn"
   ]
  },
  {
   "cell_type": "code",
   "execution_count": 16,
   "id": "fab8f678",
   "metadata": {},
   "outputs": [],
   "source": [
    "search_btn.click()"
   ]
  },
  {
   "cell_type": "code",
   "execution_count": 17,
   "id": "83c65dc6",
   "metadata": {},
   "outputs": [],
   "source": [
    "#creating the empty list\n",
    "brand=[]\n",
    "description=[]\n",
    "price=[]\n",
    "\n",
    "start=0\n",
    "end=4\n",
    "for page in range(start,end):#for loop for scrapping 4 page\n",
    "    brands=driver.find_elements_by_class_name('_2WkVRV')#scraping brands name by class name='_2WkVRV'\n",
    "    for i in brands:\n",
    "        brand.append(i.text)#appending the text in Brand list\n",
    "    prices=driver.find_elements_by_xpath(\"//div[@class='_30jeq3']\")# scraping the price from the xpath\n",
    "    for i in prices:\n",
    "        price.append(i.text)\n",
    "    desc=driver.find_elements_by_xpath('//a[@class=\"IRpwTa\"]')#scraping description from the xpath\n",
    "    for i in desc:\n",
    "        description.append(i.text)\n",
    "        \n",
    "    nxt_button=driver.find_elements_by_xpath(\"//a[@class='_1LKTO3']\")#scraping the list of buttons from the page\n",
    "    try:\n",
    "        driver.get(nxt_button[1].get_attribute('href'))#getting the link from the list for next page\n",
    "    except:\n",
    "        driver.get(nxt_button[0].get_attribute('href'))"
   ]
  },
  {
   "cell_type": "code",
   "execution_count": 18,
   "id": "130523e2",
   "metadata": {},
   "outputs": [
    {
     "data": {
      "text/html": [
       "<div>\n",
       "<style scoped>\n",
       "    .dataframe tbody tr th:only-of-type {\n",
       "        vertical-align: middle;\n",
       "    }\n",
       "\n",
       "    .dataframe tbody tr th {\n",
       "        vertical-align: top;\n",
       "    }\n",
       "\n",
       "    .dataframe thead th {\n",
       "        text-align: right;\n",
       "    }\n",
       "</style>\n",
       "<table border=\"1\" class=\"dataframe\">\n",
       "  <thead>\n",
       "    <tr style=\"text-align: right;\">\n",
       "      <th></th>\n",
       "      <th>Brand</th>\n",
       "      <th>Description</th>\n",
       "      <th>Price</th>\n",
       "    </tr>\n",
       "  </thead>\n",
       "  <tbody>\n",
       "    <tr>\n",
       "      <th>0</th>\n",
       "      <td>Echor</td>\n",
       "      <td>Echor Men's Sneakers Fashion Lightweight Runni...</td>\n",
       "      <td>₹569</td>\n",
       "    </tr>\n",
       "    <tr>\n",
       "      <th>1</th>\n",
       "      <td>Echor</td>\n",
       "      <td>Men's Sneakers Fashion Lightweight Running Sho...</td>\n",
       "      <td>₹569</td>\n",
       "    </tr>\n",
       "    <tr>\n",
       "      <th>2</th>\n",
       "      <td>luxury fashion</td>\n",
       "      <td>Luxury Fashionable casual sneaker shoes Sneake...</td>\n",
       "      <td>₹449</td>\n",
       "    </tr>\n",
       "    <tr>\n",
       "      <th>3</th>\n",
       "      <td>URBANBOX</td>\n",
       "      <td>Modern &amp; Trendy Collection Combo Pack of 02 Sh...</td>\n",
       "      <td>₹247</td>\n",
       "    </tr>\n",
       "    <tr>\n",
       "      <th>4</th>\n",
       "      <td>BRUTON</td>\n",
       "      <td>Sneakers For Men</td>\n",
       "      <td>₹447</td>\n",
       "    </tr>\n",
       "    <tr>\n",
       "      <th>...</th>\n",
       "      <td>...</td>\n",
       "      <td>...</td>\n",
       "      <td>...</td>\n",
       "    </tr>\n",
       "    <tr>\n",
       "      <th>95</th>\n",
       "      <td>Brothers Gift</td>\n",
       "      <td>Softride Enzo NXT Sneakers For Men</td>\n",
       "      <td>₹449</td>\n",
       "    </tr>\n",
       "    <tr>\n",
       "      <th>96</th>\n",
       "      <td>BIRDE</td>\n",
       "      <td>Men's Canvas Low Top Sneakers Lace-up Classic ...</td>\n",
       "      <td>₹892</td>\n",
       "    </tr>\n",
       "    <tr>\n",
       "      <th>97</th>\n",
       "      <td>World Wear Footwear</td>\n",
       "      <td>casual for men Sneakers For Men</td>\n",
       "      <td>₹259</td>\n",
       "    </tr>\n",
       "    <tr>\n",
       "      <th>98</th>\n",
       "      <td>BIRDE</td>\n",
       "      <td>Sneakers For Men</td>\n",
       "      <td>₹525</td>\n",
       "    </tr>\n",
       "    <tr>\n",
       "      <th>99</th>\n",
       "      <td>Brothers Gift</td>\n",
       "      <td>Casual shoes Sneakers For Men</td>\n",
       "      <td>₹449</td>\n",
       "    </tr>\n",
       "  </tbody>\n",
       "</table>\n",
       "<p>100 rows × 3 columns</p>\n",
       "</div>"
      ],
      "text/plain": [
       "                  Brand                                        Description  \\\n",
       "0                 Echor  Echor Men's Sneakers Fashion Lightweight Runni...   \n",
       "1                 Echor  Men's Sneakers Fashion Lightweight Running Sho...   \n",
       "2        luxury fashion  Luxury Fashionable casual sneaker shoes Sneake...   \n",
       "3              URBANBOX  Modern & Trendy Collection Combo Pack of 02 Sh...   \n",
       "4                BRUTON                                   Sneakers For Men   \n",
       "..                  ...                                                ...   \n",
       "95        Brothers Gift                 Softride Enzo NXT Sneakers For Men   \n",
       "96                BIRDE  Men's Canvas Low Top Sneakers Lace-up Classic ...   \n",
       "97  World Wear Footwear                    casual for men Sneakers For Men   \n",
       "98                BIRDE                                   Sneakers For Men   \n",
       "99        Brothers Gift                      Casual shoes Sneakers For Men   \n",
       "\n",
       "   Price  \n",
       "0   ₹569  \n",
       "1   ₹569  \n",
       "2   ₹449  \n",
       "3   ₹247  \n",
       "4   ₹447  \n",
       "..   ...  \n",
       "95  ₹449  \n",
       "96  ₹892  \n",
       "97  ₹259  \n",
       "98  ₹525  \n",
       "99  ₹449  \n",
       "\n",
       "[100 rows x 3 columns]"
      ]
     },
     "execution_count": 18,
     "metadata": {},
     "output_type": "execute_result"
    }
   ],
   "source": [
    "#creating a dataframe\n",
    "import pandas as pd \n",
    "df=pd.DataFrame({'Brand':brand[:100],\n",
    "                'Description':description[:100],\n",
    "                'Price':price[:100]})\n",
    "#printing dataframe\n",
    "df"
   ]
  },
  {
   "cell_type": "markdown",
   "id": "a16b596e",
   "metadata": {
    "collapsed": true
   },
   "source": [
    "# Question7"
   ]
  },
  {
   "cell_type": "code",
   "execution_count": 19,
   "id": "f1e89d39",
   "metadata": {},
   "outputs": [],
   "source": [
    "# scrape First 100 shoes data from - https://www.myntra.com/shoes"
   ]
  },
  {
   "cell_type": "code",
   "execution_count": 20,
   "id": "025062e2",
   "metadata": {},
   "outputs": [],
   "source": [
    "# Let's first connect to webdriver\n",
    "driver = webdriver.Chrome(r'C:\\Users\\K K SHARMA\\Downloads\\Chromedriver_win32\\Chromedriver')"
   ]
  },
  {
   "cell_type": "code",
   "execution_count": 21,
   "id": "a3ada0a0",
   "metadata": {},
   "outputs": [],
   "source": [
    "url ='https://www.myntra.com/shoes'\n",
    "driver.get(url)"
   ]
  },
  {
   "cell_type": "code",
   "execution_count": 22,
   "id": "b33e8304",
   "metadata": {},
   "outputs": [
    {
     "data": {
      "text/plain": [
       "<selenium.webdriver.remote.webelement.WebElement (session=\"98516485b1f1fdd40ee3df35e2a6a239\", element=\"5f20e858-cdc2-4314-b6db-8e902c6fa6b3\")>"
      ]
     },
     "execution_count": 22,
     "metadata": {},
     "output_type": "execute_result"
    }
   ],
   "source": [
    "# Finding web element for search sunglasses bar using id\n",
    "search_shoes = driver.find_element_by_class_name(\"desktop-searchBar\")\n",
    "search_shoes"
   ]
  },
  {
   "cell_type": "code",
   "execution_count": 23,
   "id": "9424ac45",
   "metadata": {},
   "outputs": [],
   "source": [
    "# write on Search bar\n",
    "search_shoes.send_keys(\"shoes\")"
   ]
  },
  {
   "cell_type": "code",
   "execution_count": 24,
   "id": "e2e9b90d",
   "metadata": {},
   "outputs": [
    {
     "data": {
      "text/plain": [
       "<selenium.webdriver.remote.webelement.WebElement (session=\"98516485b1f1fdd40ee3df35e2a6a239\", element=\"b078d666-b554-4d7d-98dc-26e49a2a3c29\")>"
      ]
     },
     "execution_count": 24,
     "metadata": {},
     "output_type": "execute_result"
    }
   ],
   "source": [
    "# Clicking using absolute X Path function \n",
    "search_btn = driver.find_element_by_xpath('/html/body/div[1]/div/div/header/div[2]/div[3]/a/span')\n",
    "search_btn"
   ]
  },
  {
   "cell_type": "code",
   "execution_count": 25,
   "id": "1d581532",
   "metadata": {},
   "outputs": [],
   "source": [
    "search_btn.click()"
   ]
  },
  {
   "cell_type": "code",
   "execution_count": 26,
   "id": "97a2a8e0",
   "metadata": {},
   "outputs": [
    {
     "data": {
      "text/plain": [
       "50"
      ]
     },
     "execution_count": 26,
     "metadata": {},
     "output_type": "execute_result"
    }
   ],
   "source": [
    "# Extracting Brand Name\n",
    "brand_tags = driver.find_elements_by_xpath('//h3[@class=\"product-brand\"]')\n",
    "len(brand_tags)"
   ]
  },
  {
   "cell_type": "code",
   "execution_count": 27,
   "id": "0eae8caa",
   "metadata": {},
   "outputs": [
    {
     "data": {
      "text/plain": [
       "50"
      ]
     },
     "execution_count": 27,
     "metadata": {},
     "output_type": "execute_result"
    }
   ],
   "source": [
    "brand_names = []\n",
    "\n",
    "for i in brand_tags:\n",
    "    brand_names.append(i.text)\n",
    "len(brand_names)"
   ]
  },
  {
   "cell_type": "code",
   "execution_count": 29,
   "id": "8d566fa5",
   "metadata": {},
   "outputs": [
    {
     "data": {
      "text/plain": [
       "50"
      ]
     },
     "execution_count": 29,
     "metadata": {},
     "output_type": "execute_result"
    }
   ],
   "source": [
    "# Extracting Product Description\n",
    "\n",
    "description_tags = driver.find_elements_by_xpath('//h4[@class=\"product-product\"]')\n",
    "len(description_tags)"
   ]
  },
  {
   "cell_type": "code",
   "execution_count": 30,
   "id": "95a01f10",
   "metadata": {},
   "outputs": [
    {
     "data": {
      "text/plain": [
       "50"
      ]
     },
     "execution_count": 30,
     "metadata": {},
     "output_type": "execute_result"
    }
   ],
   "source": [
    "description_prd = []\n",
    "\n",
    "for i in description_tags:\n",
    "    description_prd.append(i.text)\n",
    "len(description_prd)"
   ]
  },
  {
   "cell_type": "code",
   "execution_count": 31,
   "id": "5f602087",
   "metadata": {},
   "outputs": [
    {
     "data": {
      "text/plain": [
       "['Men Running Shoes',\n",
       " 'Men Magnify Nitro Running',\n",
       " 'Men Mid-Top Chelsea Boots',\n",
       " 'Men Leather Flat Boots',\n",
       " 'Women Leather Heeled Boots',\n",
       " 'Men Colourblocked PU Sneakers',\n",
       " 'Men Textured Leather High-Top Flat Boots',\n",
       " 'Men Running Shoes',\n",
       " 'High-Top Block Heeled Boots',\n",
       " 'Women Charged Impulse Shft',\n",
       " 'Men Solid Leather Formal Derbys',\n",
       " 'Suede High-Top Flatform Heeled Boots',\n",
       " 'Men Leather Flat Boots',\n",
       " 'Women Charged Breathe CLR SFT',\n",
       " 'Men Textured Leather Loafers',\n",
       " 'Men Leather Chelsea Boots',\n",
       " 'Women Leather High-Top Flat Boots',\n",
       " 'Men Formal Leather Derby',\n",
       " 'Leather Platform Heeled Boots',\n",
       " 'Women Leather Pumps',\n",
       " 'Women Velocity NITRO Runners',\n",
       " 'Women Magnify Nitro Shoes',\n",
       " 'PEAKFREAK OUTDRY Trekking Shoe',\n",
       " 'Men GENERATION ZEROGRAND STITCHLITE',\n",
       " 'Men Textured Leather Loafers',\n",
       " 'Men Running Shoes',\n",
       " 'Men Black Leather Loafers',\n",
       " 'Men Leather Loafers',\n",
       " 'Women Solid Leather Pumps',\n",
       " 'Women Solid Leather Pumps',\n",
       " 'Ustraa black',\n",
       " 'Men Formal Leather Slip-Ons',\n",
       " 'Men Leather Driving Shoes',\n",
       " 'Men Textured Leather Loafers',\n",
       " 'Men Textured Formal Leather Loafers',\n",
       " 'Men Textured Formal Leather Loafers',\n",
       " 'Women Open Toe Flats',\n",
       " 'Women Solid Leather Ballerinas',\n",
       " 'Women Solid Leather Ballerinas',\n",
       " 'Men Leather Formal Derbys',\n",
       " 'Men Solid Leather Formal Loafers',\n",
       " 'Leather Wedge Heeled Boots with Buckles',\n",
       " 'Leather Block Heeled Boots',\n",
       " 'Leather Kitten Heeled Boots',\n",
       " 'Leather Block Heeled Boots with Bows',\n",
       " 'Suede Party High-Top Block Heeled Boots',\n",
       " 'Textured Leather Party Kitten Heeled Boots',\n",
       " 'Leather Boots with Buckles',\n",
       " 'Woman Black Leather Boots',\n",
       " 'Embellished Leather Block Heeled Boots']"
      ]
     },
     "execution_count": 31,
     "metadata": {},
     "output_type": "execute_result"
    }
   ],
   "source": [
    "description_prd[0:100]"
   ]
  },
  {
   "cell_type": "code",
   "execution_count": 52,
   "id": "edc2ec28",
   "metadata": {},
   "outputs": [
    {
     "data": {
      "text/plain": [
       "24"
      ]
     },
     "execution_count": 52,
     "metadata": {},
     "output_type": "execute_result"
    }
   ],
   "source": [
    "# Extracting Price\n",
    "\n",
    "price_tags = driver.find_elements_by_xpath('//span[@class=\"product-discountedPrice\"]')\n",
    "len(price_tags)"
   ]
  },
  {
   "cell_type": "code",
   "execution_count": 47,
   "id": "6d17824a",
   "metadata": {},
   "outputs": [
    {
     "data": {
      "text/plain": [
       "24"
      ]
     },
     "execution_count": 47,
     "metadata": {},
     "output_type": "execute_result"
    }
   ],
   "source": [
    "brand_price = []\n",
    "\n",
    "for i in price_tags:\n",
    "    brand_price.append(i.text)\n",
    "len(brand_price)"
   ]
  },
  {
   "cell_type": "code",
   "execution_count": 48,
   "id": "c372f32a",
   "metadata": {},
   "outputs": [
    {
     "data": {
      "text/plain": [
       "['Rs. 12999',\n",
       " 'Rs. 12999',\n",
       " 'Rs. 10900',\n",
       " 'Rs. 9999',\n",
       " 'Rs. 14900',\n",
       " 'Rs. 11999',\n",
       " 'Rs. 9999',\n",
       " 'Rs. 13500',\n",
       " 'Rs. 11999',\n",
       " 'Rs. 11900',\n",
       " 'Rs. 14999',\n",
       " 'Rs. 10900',\n",
       " 'Rs. 10999',\n",
       " 'Rs. 12999',\n",
       " 'Rs. 11999',\n",
       " 'Rs. 14900',\n",
       " 'Rs. 9500',\n",
       " 'Rs. 9900',\n",
       " 'Rs. 13900',\n",
       " 'Rs. 10500',\n",
       " 'Rs. 13900',\n",
       " 'Rs. 10500',\n",
       " 'Rs. 12500',\n",
       " 'Rs. 12900']"
      ]
     },
     "execution_count": 48,
     "metadata": {},
     "output_type": "execute_result"
    }
   ],
   "source": [
    "brand_price[0:100]"
   ]
  },
  {
   "cell_type": "code",
   "execution_count": 62,
   "id": "93195e6b",
   "metadata": {},
   "outputs": [
    {
     "data": {
      "text/plain": [
       "(50, 50)"
      ]
     },
     "execution_count": 62,
     "metadata": {},
     "output_type": "execute_result"
    }
   ],
   "source": [
    "len(brand_names), len(description_prd)"
   ]
  },
  {
   "cell_type": "code",
   "execution_count": 63,
   "id": "c2796425",
   "metadata": {},
   "outputs": [
    {
     "data": {
      "text/html": [
       "<div>\n",
       "<style scoped>\n",
       "    .dataframe tbody tr th:only-of-type {\n",
       "        vertical-align: middle;\n",
       "    }\n",
       "\n",
       "    .dataframe tbody tr th {\n",
       "        vertical-align: top;\n",
       "    }\n",
       "\n",
       "    .dataframe thead th {\n",
       "        text-align: right;\n",
       "    }\n",
       "</style>\n",
       "<table border=\"1\" class=\"dataframe\">\n",
       "  <thead>\n",
       "    <tr style=\"text-align: right;\">\n",
       "      <th></th>\n",
       "      <th>Brand Name</th>\n",
       "      <th>Description</th>\n",
       "    </tr>\n",
       "  </thead>\n",
       "  <tbody>\n",
       "    <tr>\n",
       "      <th>0</th>\n",
       "      <td>Puma</td>\n",
       "      <td>Men Running Shoes</td>\n",
       "    </tr>\n",
       "    <tr>\n",
       "      <th>1</th>\n",
       "      <td>Puma</td>\n",
       "      <td>Men Magnify Nitro Running</td>\n",
       "    </tr>\n",
       "    <tr>\n",
       "      <th>2</th>\n",
       "      <td>Saint G</td>\n",
       "      <td>Men Mid-Top Chelsea Boots</td>\n",
       "    </tr>\n",
       "    <tr>\n",
       "      <th>3</th>\n",
       "      <td>RARE RABBIT</td>\n",
       "      <td>Men Leather Flat Boots</td>\n",
       "    </tr>\n",
       "    <tr>\n",
       "      <th>4</th>\n",
       "      <td>Saint G</td>\n",
       "      <td>Women Leather Heeled Boots</td>\n",
       "    </tr>\n",
       "    <tr>\n",
       "      <th>5</th>\n",
       "      <td>ASICS</td>\n",
       "      <td>Men Colourblocked PU Sneakers</td>\n",
       "    </tr>\n",
       "    <tr>\n",
       "      <th>6</th>\n",
       "      <td>Bugatti</td>\n",
       "      <td>Men Textured Leather High-Top Flat Boots</td>\n",
       "    </tr>\n",
       "    <tr>\n",
       "      <th>7</th>\n",
       "      <td>Bugatti</td>\n",
       "      <td>Men Running Shoes</td>\n",
       "    </tr>\n",
       "    <tr>\n",
       "      <th>8</th>\n",
       "      <td>Nautica</td>\n",
       "      <td>High-Top Block Heeled Boots</td>\n",
       "    </tr>\n",
       "    <tr>\n",
       "      <th>9</th>\n",
       "      <td>UNDER ARMOUR</td>\n",
       "      <td>Women Charged Impulse Shft</td>\n",
       "    </tr>\n",
       "    <tr>\n",
       "      <th>10</th>\n",
       "      <td>DAVINCHI</td>\n",
       "      <td>Men Solid Leather Formal Derbys</td>\n",
       "    </tr>\n",
       "    <tr>\n",
       "      <th>11</th>\n",
       "      <td>Saint G</td>\n",
       "      <td>Suede High-Top Flatform Heeled Boots</td>\n",
       "    </tr>\n",
       "    <tr>\n",
       "      <th>12</th>\n",
       "      <td>Geox</td>\n",
       "      <td>Men Leather Flat Boots</td>\n",
       "    </tr>\n",
       "    <tr>\n",
       "      <th>13</th>\n",
       "      <td>UNDER ARMOUR</td>\n",
       "      <td>Women Charged Breathe CLR SFT</td>\n",
       "    </tr>\n",
       "    <tr>\n",
       "      <th>14</th>\n",
       "      <td>J.FONTINI</td>\n",
       "      <td>Men Textured Leather Loafers</td>\n",
       "    </tr>\n",
       "    <tr>\n",
       "      <th>15</th>\n",
       "      <td>Saint G</td>\n",
       "      <td>Men Leather Chelsea Boots</td>\n",
       "    </tr>\n",
       "    <tr>\n",
       "      <th>16</th>\n",
       "      <td>Geox</td>\n",
       "      <td>Women Leather High-Top Flat Boots</td>\n",
       "    </tr>\n",
       "    <tr>\n",
       "      <th>17</th>\n",
       "      <td>Heel &amp; Buckle London</td>\n",
       "      <td>Men Formal Leather Derby</td>\n",
       "    </tr>\n",
       "    <tr>\n",
       "      <th>18</th>\n",
       "      <td>Saint G</td>\n",
       "      <td>Leather Platform Heeled Boots</td>\n",
       "    </tr>\n",
       "    <tr>\n",
       "      <th>19</th>\n",
       "      <td>Geox</td>\n",
       "      <td>Women Leather Pumps</td>\n",
       "    </tr>\n",
       "    <tr>\n",
       "      <th>20</th>\n",
       "      <td>Puma</td>\n",
       "      <td>Women Velocity NITRO Runners</td>\n",
       "    </tr>\n",
       "    <tr>\n",
       "      <th>21</th>\n",
       "      <td>Puma</td>\n",
       "      <td>Women Magnify Nitro Shoes</td>\n",
       "    </tr>\n",
       "    <tr>\n",
       "      <th>22</th>\n",
       "      <td>Columbia</td>\n",
       "      <td>PEAKFREAK OUTDRY Trekking Shoe</td>\n",
       "    </tr>\n",
       "    <tr>\n",
       "      <th>23</th>\n",
       "      <td>Cole Haan</td>\n",
       "      <td>Men GENERATION ZEROGRAND STITCHLITE</td>\n",
       "    </tr>\n",
       "    <tr>\n",
       "      <th>24</th>\n",
       "      <td>J.FONTINI</td>\n",
       "      <td>Men Textured Leather Loafers</td>\n",
       "    </tr>\n",
       "    <tr>\n",
       "      <th>25</th>\n",
       "      <td>Xtep</td>\n",
       "      <td>Men Running Shoes</td>\n",
       "    </tr>\n",
       "    <tr>\n",
       "      <th>26</th>\n",
       "      <td>J.FONTINI</td>\n",
       "      <td>Men Black Leather Loafers</td>\n",
       "    </tr>\n",
       "    <tr>\n",
       "      <th>27</th>\n",
       "      <td>Geox</td>\n",
       "      <td>Men Leather Loafers</td>\n",
       "    </tr>\n",
       "    <tr>\n",
       "      <th>28</th>\n",
       "      <td>Geox</td>\n",
       "      <td>Women Solid Leather Pumps</td>\n",
       "    </tr>\n",
       "    <tr>\n",
       "      <th>29</th>\n",
       "      <td>Geox</td>\n",
       "      <td>Women Solid Leather Pumps</td>\n",
       "    </tr>\n",
       "    <tr>\n",
       "      <th>30</th>\n",
       "      <td>DAVINCHI</td>\n",
       "      <td>Ustraa black</td>\n",
       "    </tr>\n",
       "    <tr>\n",
       "      <th>31</th>\n",
       "      <td>DAVINCHI</td>\n",
       "      <td>Men Formal Leather Slip-Ons</td>\n",
       "    </tr>\n",
       "    <tr>\n",
       "      <th>32</th>\n",
       "      <td>Pavers England</td>\n",
       "      <td>Men Leather Driving Shoes</td>\n",
       "    </tr>\n",
       "    <tr>\n",
       "      <th>33</th>\n",
       "      <td>Pavers England</td>\n",
       "      <td>Men Textured Leather Loafers</td>\n",
       "    </tr>\n",
       "    <tr>\n",
       "      <th>34</th>\n",
       "      <td>DAVINCHI</td>\n",
       "      <td>Men Textured Formal Leather Loafers</td>\n",
       "    </tr>\n",
       "    <tr>\n",
       "      <th>35</th>\n",
       "      <td>DAVINCHI</td>\n",
       "      <td>Men Textured Formal Leather Loafers</td>\n",
       "    </tr>\n",
       "    <tr>\n",
       "      <th>36</th>\n",
       "      <td>Cole Haan</td>\n",
       "      <td>Women Open Toe Flats</td>\n",
       "    </tr>\n",
       "    <tr>\n",
       "      <th>37</th>\n",
       "      <td>Geox</td>\n",
       "      <td>Women Solid Leather Ballerinas</td>\n",
       "    </tr>\n",
       "    <tr>\n",
       "      <th>38</th>\n",
       "      <td>Cole Haan</td>\n",
       "      <td>Women Solid Leather Ballerinas</td>\n",
       "    </tr>\n",
       "    <tr>\n",
       "      <th>39</th>\n",
       "      <td>Geox</td>\n",
       "      <td>Men Leather Formal Derbys</td>\n",
       "    </tr>\n",
       "    <tr>\n",
       "      <th>40</th>\n",
       "      <td>Clarks</td>\n",
       "      <td>Men Solid Leather Formal Loafers</td>\n",
       "    </tr>\n",
       "    <tr>\n",
       "      <th>41</th>\n",
       "      <td>Saint G</td>\n",
       "      <td>Leather Wedge Heeled Boots with Buckles</td>\n",
       "    </tr>\n",
       "    <tr>\n",
       "      <th>42</th>\n",
       "      <td>Saint G</td>\n",
       "      <td>Leather Block Heeled Boots</td>\n",
       "    </tr>\n",
       "    <tr>\n",
       "      <th>43</th>\n",
       "      <td>Saint G</td>\n",
       "      <td>Leather Kitten Heeled Boots</td>\n",
       "    </tr>\n",
       "    <tr>\n",
       "      <th>44</th>\n",
       "      <td>Saint G</td>\n",
       "      <td>Leather Block Heeled Boots with Bows</td>\n",
       "    </tr>\n",
       "    <tr>\n",
       "      <th>45</th>\n",
       "      <td>Saint G</td>\n",
       "      <td>Suede Party High-Top Block Heeled Boots</td>\n",
       "    </tr>\n",
       "    <tr>\n",
       "      <th>46</th>\n",
       "      <td>Saint G</td>\n",
       "      <td>Textured Leather Party Kitten Heeled Boots</td>\n",
       "    </tr>\n",
       "    <tr>\n",
       "      <th>47</th>\n",
       "      <td>Saint G</td>\n",
       "      <td>Leather Boots with Buckles</td>\n",
       "    </tr>\n",
       "    <tr>\n",
       "      <th>48</th>\n",
       "      <td>Saint G</td>\n",
       "      <td>Woman Black Leather Boots</td>\n",
       "    </tr>\n",
       "    <tr>\n",
       "      <th>49</th>\n",
       "      <td>Saint G</td>\n",
       "      <td>Embellished Leather Block Heeled Boots</td>\n",
       "    </tr>\n",
       "  </tbody>\n",
       "</table>\n",
       "</div>"
      ],
      "text/plain": [
       "              Brand Name                                 Description\n",
       "0                   Puma                           Men Running Shoes\n",
       "1                   Puma                   Men Magnify Nitro Running\n",
       "2                Saint G                   Men Mid-Top Chelsea Boots\n",
       "3            RARE RABBIT                      Men Leather Flat Boots\n",
       "4                Saint G                  Women Leather Heeled Boots\n",
       "5                  ASICS               Men Colourblocked PU Sneakers\n",
       "6                Bugatti    Men Textured Leather High-Top Flat Boots\n",
       "7                Bugatti                           Men Running Shoes\n",
       "8                Nautica                 High-Top Block Heeled Boots\n",
       "9           UNDER ARMOUR                  Women Charged Impulse Shft\n",
       "10              DAVINCHI             Men Solid Leather Formal Derbys\n",
       "11               Saint G        Suede High-Top Flatform Heeled Boots\n",
       "12                  Geox                      Men Leather Flat Boots\n",
       "13          UNDER ARMOUR               Women Charged Breathe CLR SFT\n",
       "14             J.FONTINI                Men Textured Leather Loafers\n",
       "15               Saint G                   Men Leather Chelsea Boots\n",
       "16                  Geox           Women Leather High-Top Flat Boots\n",
       "17  Heel & Buckle London                    Men Formal Leather Derby\n",
       "18               Saint G               Leather Platform Heeled Boots\n",
       "19                  Geox                         Women Leather Pumps\n",
       "20                  Puma                Women Velocity NITRO Runners\n",
       "21                  Puma                   Women Magnify Nitro Shoes\n",
       "22              Columbia              PEAKFREAK OUTDRY Trekking Shoe\n",
       "23             Cole Haan         Men GENERATION ZEROGRAND STITCHLITE\n",
       "24             J.FONTINI                Men Textured Leather Loafers\n",
       "25                  Xtep                           Men Running Shoes\n",
       "26             J.FONTINI                   Men Black Leather Loafers\n",
       "27                  Geox                         Men Leather Loafers\n",
       "28                  Geox                   Women Solid Leather Pumps\n",
       "29                  Geox                   Women Solid Leather Pumps\n",
       "30              DAVINCHI                                Ustraa black\n",
       "31              DAVINCHI                 Men Formal Leather Slip-Ons\n",
       "32        Pavers England                   Men Leather Driving Shoes\n",
       "33        Pavers England                Men Textured Leather Loafers\n",
       "34              DAVINCHI         Men Textured Formal Leather Loafers\n",
       "35              DAVINCHI         Men Textured Formal Leather Loafers\n",
       "36             Cole Haan                        Women Open Toe Flats\n",
       "37                  Geox              Women Solid Leather Ballerinas\n",
       "38             Cole Haan              Women Solid Leather Ballerinas\n",
       "39                  Geox                   Men Leather Formal Derbys\n",
       "40                Clarks            Men Solid Leather Formal Loafers\n",
       "41               Saint G     Leather Wedge Heeled Boots with Buckles\n",
       "42               Saint G                  Leather Block Heeled Boots\n",
       "43               Saint G                 Leather Kitten Heeled Boots\n",
       "44               Saint G        Leather Block Heeled Boots with Bows\n",
       "45               Saint G     Suede Party High-Top Block Heeled Boots\n",
       "46               Saint G  Textured Leather Party Kitten Heeled Boots\n",
       "47               Saint G                  Leather Boots with Buckles\n",
       "48               Saint G                   Woman Black Leather Boots\n",
       "49               Saint G      Embellished Leather Block Heeled Boots"
      ]
     },
     "execution_count": 63,
     "metadata": {},
     "output_type": "execute_result"
    }
   ],
   "source": [
    "#creating a dataframe\n",
    " \n",
    "shoes = pd.DataFrame()\n",
    "shoes['Brand Name'] = brand_names\n",
    "shoes['Description'] = description_prd\n",
    "shoes"
   ]
  },
  {
   "cell_type": "markdown",
   "id": "68f08c7a",
   "metadata": {},
   "source": [
    "# Question8"
   ]
  },
  {
   "cell_type": "code",
   "execution_count": 64,
   "id": "74bb6600",
   "metadata": {},
   "outputs": [],
   "source": [
    "# scrape first 10 laptops data Using Filters"
   ]
  },
  {
   "cell_type": "code",
   "execution_count": 8,
   "id": "9f3792fb",
   "metadata": {},
   "outputs": [],
   "source": [
    "import selenium\n",
    "from selenium import webdriver\n",
    "import pandas as pd\n",
    "import warnings\n",
    "warnings.filterwarnings(\"ignore\")"
   ]
  },
  {
   "cell_type": "code",
   "execution_count": 9,
   "id": "766c51ae",
   "metadata": {},
   "outputs": [],
   "source": [
    "# Let's first connect to webdriver\n",
    "driver = webdriver.Chrome(r'C:\\Users\\K K SHARMA\\Downloads\\Chromedriver_win32\\Chromedriver')"
   ]
  },
  {
   "cell_type": "code",
   "execution_count": 10,
   "id": "20a16dbc",
   "metadata": {},
   "outputs": [],
   "source": [
    "url ='https://www.amazon.in/'\n",
    "driver.get(url)"
   ]
  },
  {
   "cell_type": "code",
   "execution_count": 11,
   "id": "6fc9c1ad",
   "metadata": {},
   "outputs": [
    {
     "data": {
      "text/plain": [
       "<selenium.webdriver.remote.webelement.WebElement (session=\"33ab5b36427a421b1a4d3c89d97ce29b\", element=\"58d9cda2-b4ce-4e8a-becc-3f136e745ce3\")>"
      ]
     },
     "execution_count": 11,
     "metadata": {},
     "output_type": "execute_result"
    }
   ],
   "source": [
    "# Finding web element for search product bar using id\n",
    "search_prd = driver.find_element_by_id(\"twotabsearchtextbox\")\n",
    "search_prd"
   ]
  },
  {
   "cell_type": "code",
   "execution_count": 12,
   "id": "eea21cd2",
   "metadata": {},
   "outputs": [],
   "source": [
    "# write on Search bar\n",
    "search_prd.send_keys(\"laptop\")"
   ]
  },
  {
   "cell_type": "code",
   "execution_count": 13,
   "id": "5432e901",
   "metadata": {},
   "outputs": [
    {
     "data": {
      "text/plain": [
       "<selenium.webdriver.remote.webelement.WebElement (session=\"33ab5b36427a421b1a4d3c89d97ce29b\", element=\"9c82d515-4ae1-4b77-a26a-05b71c8a1e7d\")>"
      ]
     },
     "execution_count": 13,
     "metadata": {},
     "output_type": "execute_result"
    }
   ],
   "source": [
    "# Clicking using absolute X Path function \n",
    "search_btn = driver.find_element_by_xpath('/html/body/div[1]/header/div/div[1]/div[2]/div/form/div[3]/div')\n",
    "search_btn"
   ]
  },
  {
   "cell_type": "code",
   "execution_count": 14,
   "id": "3a8972cd",
   "metadata": {},
   "outputs": [],
   "source": [
    "search_btn.click()"
   ]
  },
  {
   "cell_type": "code",
   "execution_count": 15,
   "id": "dbfcfe2b",
   "metadata": {},
   "outputs": [
    {
     "data": {
      "text/plain": [
       "25"
      ]
     },
     "execution_count": 15,
     "metadata": {},
     "output_type": "execute_result"
    }
   ],
   "source": [
    "# # SCRAPING PRODUCT TITLES\n",
    "\n",
    "title_tags = driver.find_elements_by_xpath('//h2[@class=\"a-size-mini a-spacing-none a-color-base s-line-clamp-2\"]')\n",
    "len(title_tags)"
   ]
  },
  {
   "cell_type": "code",
   "execution_count": 16,
   "id": "f723b350",
   "metadata": {},
   "outputs": [
    {
     "data": {
      "text/plain": [
       "[<selenium.webdriver.remote.webelement.WebElement (session=\"33ab5b36427a421b1a4d3c89d97ce29b\", element=\"cc7ce277-3ef6-401b-a144-63fdb1491f41\")>,\n",
       " <selenium.webdriver.remote.webelement.WebElement (session=\"33ab5b36427a421b1a4d3c89d97ce29b\", element=\"87f391d8-9dd3-48d0-8bed-cdaf0ada6f83\")>,\n",
       " <selenium.webdriver.remote.webelement.WebElement (session=\"33ab5b36427a421b1a4d3c89d97ce29b\", element=\"01ef1f29-5f61-4c63-adcd-d5b50ff816ae\")>,\n",
       " <selenium.webdriver.remote.webelement.WebElement (session=\"33ab5b36427a421b1a4d3c89d97ce29b\", element=\"bd224d9d-09b6-41dd-be44-a5985701669b\")>,\n",
       " <selenium.webdriver.remote.webelement.WebElement (session=\"33ab5b36427a421b1a4d3c89d97ce29b\", element=\"325251a8-7c0f-4919-848e-4f3e6ce9bb23\")>,\n",
       " <selenium.webdriver.remote.webelement.WebElement (session=\"33ab5b36427a421b1a4d3c89d97ce29b\", element=\"345d9c0d-163e-46e7-851f-ee2bd64d9700\")>,\n",
       " <selenium.webdriver.remote.webelement.WebElement (session=\"33ab5b36427a421b1a4d3c89d97ce29b\", element=\"70204449-5897-4843-8bf4-c3b2472876ed\")>,\n",
       " <selenium.webdriver.remote.webelement.WebElement (session=\"33ab5b36427a421b1a4d3c89d97ce29b\", element=\"e8f36fb1-c8d5-40a6-ba43-8b69975db7bc\")>,\n",
       " <selenium.webdriver.remote.webelement.WebElement (session=\"33ab5b36427a421b1a4d3c89d97ce29b\", element=\"e7a95dc2-e130-4b18-ae58-8b10e75855ee\")>,\n",
       " <selenium.webdriver.remote.webelement.WebElement (session=\"33ab5b36427a421b1a4d3c89d97ce29b\", element=\"f2f2bed9-037f-4f85-b489-34148e9df7c3\")>]"
      ]
     },
     "execution_count": 16,
     "metadata": {},
     "output_type": "execute_result"
    }
   ],
   "source": [
    "title_tags[0:10]"
   ]
  },
  {
   "cell_type": "code",
   "execution_count": 17,
   "id": "b03229bc",
   "metadata": {},
   "outputs": [
    {
     "data": {
      "text/plain": [
       "['Dell 14 (2021) i7-1195G7 2in1 Touch Screen Laptop, 16GB, 512GB SSD, Win 10 + MS Office, 14.0\" (35.56 cms) FHD Display, Backlit KB, FPR + Active Pen, Platinum Silver (Inspiron 5410, D560596WIN9S)',\n",
       " 'Acer Nitro 5 AN515-57 Gaming Laptop | Intel Core i7-11800H |NVIDIA GeForce RTX 3050 Ti Laptop Graphics |15.6\" FHD 144Hz IPS Display |16GB DDR4 |256GB SSD+1TB HDD |Killer Wi-Fi 6 |RGB Backlit Keyboard',\n",
       " 'ASUS VivoBook 14 (2021), 14-inch (35.56 cms) FHD, Intel Core i7-1065G7 10th Gen, Thin and Light Laptop (16GB/512GB SSD/Integrated Graphics/Office 2021/Windows 11/Silver/1.6 Kg), X415JA-EK701WS',\n",
       " 'ASUS TUF Gaming F15 (2021) 15.6-inch (39.62 cms) FHD 144Hz, Intel Core i7-11800H 11th Gen, RTX 3050 Ti 4GB Graphics, Gaming Laptop (16GB/1TB SSD/Windows 10/Gray/2.3 Kg), FX566HEB-HN248T',\n",
       " 'Lenovo ThinkBook 13s Intel 11th Gen Core i7 13.3\"(33.78 cm) WQXGA IPS 300 nits 100% sRGB Dolby Vision Thin and Light Laptop (16GB/512GB SSD/Windows 10/MS Office/FPR/Mineral Grey/1.26 Kg), 20V9A05FIH',\n",
       " 'ASUS TUF Dash F15 (2021), 15.6-inch (39.62 cms) FHD 144Hz, Intel Core i7-11370H 11th Gen, RTX 3050 4GB Graphics Gaming Laptop (16GB RAM/512GB SSD/Windows 10/Gray/2 kg), FX516PC-HN063T',\n",
       " 'HP Pavilion 14, Intel 11th Gen Core i7 16GB RAM/1TB SSD 14-inch Laptop, FHD Micro-Edge Anti-Glare Display/Iris Xᵉ Graphics/Backlit KB/B&O Audio/Fingerprint Reader/ Win 11 Ready/1.41kg, 14-dv0058TU',\n",
       " 'Dell 14 (2021) i7-1195G7 2in1 Touch Screen Laptop, 16GB, 512GB SSD, Win 10 + MS Office, 14.0\" (35.56 cms) FHD Display, Backlit KB, FPR + Active Pen, Platinum Silver (Inspiron 5410, D560596WIN9S)',\n",
       " 'ASUS TUF Dash F15 (2021), 15.6\" (39.62 cms) FHD 144Hz, Intel Core i7-11370H 11th Gen, RTX 3050 Ti 4GB Graphics, Gaming Laptop (16GB/1TB SSD/Office 2019/Windows 10/Eclipse Gray/2 kg), FX516PE-HN088TS',\n",
       " 'Mi Notebook Horizon Edition 14 Intel Core i7-10510U 10th Gen Thin and Light Laptop(8GB/512GB SSD/Windows 10/Nvidia MX350 2GB Graphics/Grey/1.35Kg)(Without Webcam) XMA1904-AF']"
      ]
     },
     "execution_count": 17,
     "metadata": {},
     "output_type": "execute_result"
    }
   ],
   "source": [
    "prd_titles = []\n",
    "\n",
    "for i in title_tags:\n",
    "    prd_titles.append(i.text)\n",
    "len(prd_titles)\n",
    "prd_titles[0:10]"
   ]
  },
  {
   "cell_type": "code",
   "execution_count": 18,
   "id": "90350e9b",
   "metadata": {},
   "outputs": [
    {
     "data": {
      "text/plain": [
       "13"
      ]
     },
     "execution_count": 18,
     "metadata": {},
     "output_type": "execute_result"
    }
   ],
   "source": [
    "# Extracting Product Ratings\n",
    "\n",
    "prd_ratings = driver.find_elements_by_xpath('//i[@class=\"a-icon a-icon-star-small a-star-small-4-5 aok-align-bottom\"]')\n",
    "len(prd_ratings)"
   ]
  },
  {
   "cell_type": "code",
   "execution_count": 19,
   "id": "99d6af02",
   "metadata": {},
   "outputs": [
    {
     "data": {
      "text/plain": [
       "13"
      ]
     },
     "execution_count": 19,
     "metadata": {},
     "output_type": "execute_result"
    }
   ],
   "source": [
    "ratings = []\n",
    "\n",
    "for i in prd_ratings:\n",
    "    ratings.append(i.text)\n",
    "len(ratings)"
   ]
  },
  {
   "cell_type": "code",
   "execution_count": 20,
   "id": "931d8322",
   "metadata": {},
   "outputs": [
    {
     "data": {
      "text/plain": [
       "['', '', '', '', '', '', '', '', '', '']"
      ]
     },
     "execution_count": 20,
     "metadata": {},
     "output_type": "execute_result"
    }
   ],
   "source": [
    "ratings[0:10]"
   ]
  },
  {
   "cell_type": "code",
   "execution_count": 21,
   "id": "2d3b5d22",
   "metadata": {},
   "outputs": [
    {
     "data": {
      "text/plain": [
       "23"
      ]
     },
     "execution_count": 21,
     "metadata": {},
     "output_type": "execute_result"
    }
   ],
   "source": [
    "# Extracting Price\n",
    "\n",
    "price_tags = driver.find_elements_by_xpath('//span[@class=\"a-price-whole\"]')\n",
    "len(price_tags)"
   ]
  },
  {
   "cell_type": "code",
   "execution_count": 22,
   "id": "62cfa9c2",
   "metadata": {},
   "outputs": [
    {
     "data": {
      "text/plain": [
       "23"
      ]
     },
     "execution_count": 22,
     "metadata": {},
     "output_type": "execute_result"
    }
   ],
   "source": [
    "brand_price = []\n",
    "\n",
    "for i in price_tags:\n",
    "    brand_price.append(i.text)\n",
    "len(brand_price)"
   ]
  },
  {
   "cell_type": "code",
   "execution_count": 23,
   "id": "9ab101c0",
   "metadata": {},
   "outputs": [
    {
     "data": {
      "text/plain": [
       "['94,719',\n",
       " '89,990',\n",
       " '59,990',\n",
       " '96,990',\n",
       " '79,990',\n",
       " '82,990',\n",
       " '94,719',\n",
       " '95,990',\n",
       " '57,990',\n",
       " '85,990']"
      ]
     },
     "execution_count": 23,
     "metadata": {},
     "output_type": "execute_result"
    }
   ],
   "source": [
    "brand_price[0:10]"
   ]
  },
  {
   "cell_type": "code",
   "execution_count": 24,
   "id": "3d249574",
   "metadata": {},
   "outputs": [
    {
     "data": {
      "text/plain": [
       "(25, 13, 23)"
      ]
     },
     "execution_count": 24,
     "metadata": {},
     "output_type": "execute_result"
    }
   ],
   "source": [
    "len(prd_titles), len(ratings), len(brand_price)"
   ]
  },
  {
   "cell_type": "code",
   "execution_count": 25,
   "id": "59989d11",
   "metadata": {},
   "outputs": [
    {
     "ename": "ValueError",
     "evalue": "Length of values (13) does not match length of index (25)",
     "output_type": "error",
     "traceback": [
      "\u001b[1;31m---------------------------------------------------------------------------\u001b[0m",
      "\u001b[1;31mValueError\u001b[0m                                Traceback (most recent call last)",
      "\u001b[1;32m<ipython-input-25-f8838a9461f1>\u001b[0m in \u001b[0;36m<module>\u001b[1;34m\u001b[0m\n\u001b[0;32m      3\u001b[0m \u001b[0mlaptop\u001b[0m \u001b[1;33m=\u001b[0m \u001b[0mpd\u001b[0m\u001b[1;33m.\u001b[0m\u001b[0mDataFrame\u001b[0m\u001b[1;33m(\u001b[0m\u001b[1;33m)\u001b[0m\u001b[1;33m\u001b[0m\u001b[1;33m\u001b[0m\u001b[0m\n\u001b[0;32m      4\u001b[0m \u001b[0mlaptop\u001b[0m\u001b[1;33m[\u001b[0m\u001b[1;34m'Product Titles'\u001b[0m\u001b[1;33m]\u001b[0m \u001b[1;33m=\u001b[0m \u001b[0mprd_titles\u001b[0m\u001b[1;33m\u001b[0m\u001b[1;33m\u001b[0m\u001b[0m\n\u001b[1;32m----> 5\u001b[1;33m \u001b[0mlaptop\u001b[0m\u001b[1;33m[\u001b[0m\u001b[1;34m'Ratings'\u001b[0m\u001b[1;33m]\u001b[0m \u001b[1;33m=\u001b[0m \u001b[0mratings\u001b[0m\u001b[1;33m\u001b[0m\u001b[1;33m\u001b[0m\u001b[0m\n\u001b[0m\u001b[0;32m      6\u001b[0m \u001b[0mlaptop\u001b[0m\u001b[1;33m[\u001b[0m\u001b[1;34m'Brand Price'\u001b[0m\u001b[1;33m]\u001b[0m \u001b[1;33m=\u001b[0m \u001b[0mbrand_price\u001b[0m\u001b[1;33m\u001b[0m\u001b[1;33m\u001b[0m\u001b[0m\n\u001b[0;32m      7\u001b[0m \u001b[0mlaptop\u001b[0m\u001b[1;33m\u001b[0m\u001b[1;33m\u001b[0m\u001b[0m\n",
      "\u001b[1;32m~\\anaconda3\\lib\\site-packages\\pandas\\core\\frame.py\u001b[0m in \u001b[0;36m__setitem__\u001b[1;34m(self, key, value)\u001b[0m\n\u001b[0;32m   3161\u001b[0m         \u001b[1;32melse\u001b[0m\u001b[1;33m:\u001b[0m\u001b[1;33m\u001b[0m\u001b[1;33m\u001b[0m\u001b[0m\n\u001b[0;32m   3162\u001b[0m             \u001b[1;31m# set column\u001b[0m\u001b[1;33m\u001b[0m\u001b[1;33m\u001b[0m\u001b[1;33m\u001b[0m\u001b[0m\n\u001b[1;32m-> 3163\u001b[1;33m             \u001b[0mself\u001b[0m\u001b[1;33m.\u001b[0m\u001b[0m_set_item\u001b[0m\u001b[1;33m(\u001b[0m\u001b[0mkey\u001b[0m\u001b[1;33m,\u001b[0m \u001b[0mvalue\u001b[0m\u001b[1;33m)\u001b[0m\u001b[1;33m\u001b[0m\u001b[1;33m\u001b[0m\u001b[0m\n\u001b[0m\u001b[0;32m   3164\u001b[0m \u001b[1;33m\u001b[0m\u001b[0m\n\u001b[0;32m   3165\u001b[0m     \u001b[1;32mdef\u001b[0m \u001b[0m_setitem_slice\u001b[0m\u001b[1;33m(\u001b[0m\u001b[0mself\u001b[0m\u001b[1;33m,\u001b[0m \u001b[0mkey\u001b[0m\u001b[1;33m:\u001b[0m \u001b[0mslice\u001b[0m\u001b[1;33m,\u001b[0m \u001b[0mvalue\u001b[0m\u001b[1;33m)\u001b[0m\u001b[1;33m:\u001b[0m\u001b[1;33m\u001b[0m\u001b[1;33m\u001b[0m\u001b[0m\n",
      "\u001b[1;32m~\\anaconda3\\lib\\site-packages\\pandas\\core\\frame.py\u001b[0m in \u001b[0;36m_set_item\u001b[1;34m(self, key, value)\u001b[0m\n\u001b[0;32m   3240\u001b[0m         \"\"\"\n\u001b[0;32m   3241\u001b[0m         \u001b[0mself\u001b[0m\u001b[1;33m.\u001b[0m\u001b[0m_ensure_valid_index\u001b[0m\u001b[1;33m(\u001b[0m\u001b[0mvalue\u001b[0m\u001b[1;33m)\u001b[0m\u001b[1;33m\u001b[0m\u001b[1;33m\u001b[0m\u001b[0m\n\u001b[1;32m-> 3242\u001b[1;33m         \u001b[0mvalue\u001b[0m \u001b[1;33m=\u001b[0m \u001b[0mself\u001b[0m\u001b[1;33m.\u001b[0m\u001b[0m_sanitize_column\u001b[0m\u001b[1;33m(\u001b[0m\u001b[0mkey\u001b[0m\u001b[1;33m,\u001b[0m \u001b[0mvalue\u001b[0m\u001b[1;33m)\u001b[0m\u001b[1;33m\u001b[0m\u001b[1;33m\u001b[0m\u001b[0m\n\u001b[0m\u001b[0;32m   3243\u001b[0m         \u001b[0mNDFrame\u001b[0m\u001b[1;33m.\u001b[0m\u001b[0m_set_item\u001b[0m\u001b[1;33m(\u001b[0m\u001b[0mself\u001b[0m\u001b[1;33m,\u001b[0m \u001b[0mkey\u001b[0m\u001b[1;33m,\u001b[0m \u001b[0mvalue\u001b[0m\u001b[1;33m)\u001b[0m\u001b[1;33m\u001b[0m\u001b[1;33m\u001b[0m\u001b[0m\n\u001b[0;32m   3244\u001b[0m \u001b[1;33m\u001b[0m\u001b[0m\n",
      "\u001b[1;32m~\\anaconda3\\lib\\site-packages\\pandas\\core\\frame.py\u001b[0m in \u001b[0;36m_sanitize_column\u001b[1;34m(self, key, value, broadcast)\u001b[0m\n\u001b[0;32m   3897\u001b[0m \u001b[1;33m\u001b[0m\u001b[0m\n\u001b[0;32m   3898\u001b[0m             \u001b[1;31m# turn me into an ndarray\u001b[0m\u001b[1;33m\u001b[0m\u001b[1;33m\u001b[0m\u001b[1;33m\u001b[0m\u001b[0m\n\u001b[1;32m-> 3899\u001b[1;33m             \u001b[0mvalue\u001b[0m \u001b[1;33m=\u001b[0m \u001b[0msanitize_index\u001b[0m\u001b[1;33m(\u001b[0m\u001b[0mvalue\u001b[0m\u001b[1;33m,\u001b[0m \u001b[0mself\u001b[0m\u001b[1;33m.\u001b[0m\u001b[0mindex\u001b[0m\u001b[1;33m)\u001b[0m\u001b[1;33m\u001b[0m\u001b[1;33m\u001b[0m\u001b[0m\n\u001b[0m\u001b[0;32m   3900\u001b[0m             \u001b[1;32mif\u001b[0m \u001b[1;32mnot\u001b[0m \u001b[0misinstance\u001b[0m\u001b[1;33m(\u001b[0m\u001b[0mvalue\u001b[0m\u001b[1;33m,\u001b[0m \u001b[1;33m(\u001b[0m\u001b[0mnp\u001b[0m\u001b[1;33m.\u001b[0m\u001b[0mndarray\u001b[0m\u001b[1;33m,\u001b[0m \u001b[0mIndex\u001b[0m\u001b[1;33m)\u001b[0m\u001b[1;33m)\u001b[0m\u001b[1;33m:\u001b[0m\u001b[1;33m\u001b[0m\u001b[1;33m\u001b[0m\u001b[0m\n\u001b[0;32m   3901\u001b[0m                 \u001b[1;32mif\u001b[0m \u001b[0misinstance\u001b[0m\u001b[1;33m(\u001b[0m\u001b[0mvalue\u001b[0m\u001b[1;33m,\u001b[0m \u001b[0mlist\u001b[0m\u001b[1;33m)\u001b[0m \u001b[1;32mand\u001b[0m \u001b[0mlen\u001b[0m\u001b[1;33m(\u001b[0m\u001b[0mvalue\u001b[0m\u001b[1;33m)\u001b[0m \u001b[1;33m>\u001b[0m \u001b[1;36m0\u001b[0m\u001b[1;33m:\u001b[0m\u001b[1;33m\u001b[0m\u001b[1;33m\u001b[0m\u001b[0m\n",
      "\u001b[1;32m~\\anaconda3\\lib\\site-packages\\pandas\\core\\internals\\construction.py\u001b[0m in \u001b[0;36msanitize_index\u001b[1;34m(data, index)\u001b[0m\n\u001b[0;32m    749\u001b[0m     \"\"\"\n\u001b[0;32m    750\u001b[0m     \u001b[1;32mif\u001b[0m \u001b[0mlen\u001b[0m\u001b[1;33m(\u001b[0m\u001b[0mdata\u001b[0m\u001b[1;33m)\u001b[0m \u001b[1;33m!=\u001b[0m \u001b[0mlen\u001b[0m\u001b[1;33m(\u001b[0m\u001b[0mindex\u001b[0m\u001b[1;33m)\u001b[0m\u001b[1;33m:\u001b[0m\u001b[1;33m\u001b[0m\u001b[1;33m\u001b[0m\u001b[0m\n\u001b[1;32m--> 751\u001b[1;33m         raise ValueError(\n\u001b[0m\u001b[0;32m    752\u001b[0m             \u001b[1;34m\"Length of values \"\u001b[0m\u001b[1;33m\u001b[0m\u001b[1;33m\u001b[0m\u001b[0m\n\u001b[0;32m    753\u001b[0m             \u001b[1;34mf\"({len(data)}) \"\u001b[0m\u001b[1;33m\u001b[0m\u001b[1;33m\u001b[0m\u001b[0m\n",
      "\u001b[1;31mValueError\u001b[0m: Length of values (13) does not match length of index (25)"
     ]
    }
   ],
   "source": [
    "#creating a dataframe\n",
    " \n",
    "laptop = pd.DataFrame()\n",
    "laptop['Product Titles'] = prd_titles\n",
    "laptop['Ratings'] = ratings\n",
    "laptop['Brand Price'] = brand_price\n",
    "laptop"
   ]
  },
  {
   "cell_type": "markdown",
   "id": "51c43978",
   "metadata": {},
   "source": [
    "# Question9 "
   ]
  },
  {
   "cell_type": "code",
   "execution_count": 26,
   "id": "b6fdbb34",
   "metadata": {},
   "outputs": [],
   "source": [
    "# python program to scrape data for first 10 job results for Data Scientist Designation in Noida location"
   ]
  },
  {
   "cell_type": "code",
   "execution_count": 27,
   "id": "7f16191d",
   "metadata": {},
   "outputs": [],
   "source": [
    "import selenium\n",
    "from selenium import webdriver\n",
    "import pandas as pd\n",
    "import warnings\n",
    "warnings.filterwarnings(\"ignore\")"
   ]
  },
  {
   "cell_type": "code",
   "execution_count": 28,
   "id": "5675c0b7",
   "metadata": {},
   "outputs": [],
   "source": [
    "# Let's first connect to webdriver\n",
    "driver = webdriver.Chrome(r'C:\\Users\\K K SHARMA\\Downloads\\Chromedriver_win32\\Chromedriver')"
   ]
  },
  {
   "cell_type": "code",
   "execution_count": 29,
   "id": "239f39ae",
   "metadata": {},
   "outputs": [],
   "source": [
    "url ='https://www.ambitionbox.com/'\n",
    "driver.get(url)"
   ]
  },
  {
   "cell_type": "code",
   "execution_count": 58,
   "id": "68542ca1",
   "metadata": {},
   "outputs": [
    {
     "data": {
      "text/plain": [
       "<selenium.webdriver.remote.webelement.WebElement (session=\"3f9ccc0d013a7ea0d18483a192ac4c63\", element=\"011f153b-f49f-4656-b7fb-c286833209da\")>"
      ]
     },
     "execution_count": 58,
     "metadata": {},
     "output_type": "execute_result"
    }
   ],
   "source": [
    "# Finding web element for search Job bar using id\n",
    "search_job = driver.find_element_by_name(\"ab_jobsSearch\")\n",
    "search_job"
   ]
  },
  {
   "cell_type": "code",
   "execution_count": 59,
   "id": "eb537819",
   "metadata": {},
   "outputs": [],
   "source": [
    "# write on Search bar\n",
    "search_job.send_keys(\"Data Scientists\")"
   ]
  },
  {
   "cell_type": "code",
   "execution_count": 60,
   "id": "603b0dc2",
   "metadata": {},
   "outputs": [
    {
     "data": {
      "text/plain": [
       "<selenium.webdriver.remote.webelement.WebElement (session=\"3f9ccc0d013a7ea0d18483a192ac4c63\", element=\"2ddeae8b-01e7-4cbc-97d0-597d8d6765b4\")>"
      ]
     },
     "execution_count": 60,
     "metadata": {},
     "output_type": "execute_result"
    }
   ],
   "source": [
    "# Clicking using absolute X Path function \n",
    "search_btn = driver.find_element_by_xpath('/html/body/div/div/div/div[2]/div[1]/div/div/div/button')\n",
    "search_btn"
   ]
  },
  {
   "cell_type": "code",
   "execution_count": 61,
   "id": "80818699",
   "metadata": {},
   "outputs": [],
   "source": [
    "search_btn.click()"
   ]
  },
  {
   "cell_type": "code",
   "execution_count": 62,
   "id": "87e0f5da",
   "metadata": {},
   "outputs": [
    {
     "data": {
      "text/plain": [
       "<selenium.webdriver.remote.webelement.WebElement (session=\"3f9ccc0d013a7ea0d18483a192ac4c63\", element=\"f3199c99-5e71-41da-a9c6-ac2c751db626\")>"
      ]
     },
     "execution_count": 62,
     "metadata": {},
     "output_type": "execute_result"
    }
   ],
   "source": [
    "# Finding Web Element for search locn bar using Absolute X Path\n",
    "search_locn = driver.find_element_by_xpath('/html/body/div/div/div/div[2]/div[2]/div[1]/div/div/div/div[2]/div[2]/div/div[2]/input')\n",
    "search_locn"
   ]
  },
  {
   "cell_type": "code",
   "execution_count": 63,
   "id": "33efcbbc",
   "metadata": {},
   "outputs": [],
   "source": [
    "# find web element for job location bar\n",
    "search_locn.send_keys(\"Noida\")"
   ]
  },
  {
   "cell_type": "code",
   "execution_count": 64,
   "id": "22663fea",
   "metadata": {},
   "outputs": [
    {
     "data": {
      "text/plain": [
       "<selenium.webdriver.remote.webelement.WebElement (session=\"3f9ccc0d013a7ea0d18483a192ac4c63\", element=\"d5c7be01-9bdc-47b5-b243-56dbb13d003b\")>"
      ]
     },
     "execution_count": 64,
     "metadata": {},
     "output_type": "execute_result"
    }
   ],
   "source": [
    "# Clicking using absolute X Path function \n",
    "search_btn = driver.find_element_by_xpath('/html/body/div/div/div/div[2]/div[2]/div[1]/div/div/div/div[2]/div[2]/div/div[3]/div[1]/div/div/label')\n",
    "search_btn"
   ]
  },
  {
   "cell_type": "code",
   "execution_count": 65,
   "id": "e14664b0",
   "metadata": {},
   "outputs": [],
   "source": [
    "search_btn.click()"
   ]
  },
  {
   "cell_type": "code",
   "execution_count": 70,
   "id": "f9681248",
   "metadata": {},
   "outputs": [
    {
     "data": {
      "text/plain": [
       "1"
      ]
     },
     "execution_count": 70,
     "metadata": {},
     "output_type": "execute_result"
    }
   ],
   "source": [
    "# SCRAPING JOB TITLES\n",
    "\n",
    "title_tags = driver.find_elements_by_xpath('//h2[@class=\"desig bold-title\"]')\n",
    "len(title_tags)"
   ]
  },
  {
   "cell_type": "code",
   "execution_count": 71,
   "id": "ccfcdf0d",
   "metadata": {},
   "outputs": [
    {
     "data": {
      "text/plain": [
       "[<selenium.webdriver.remote.webelement.WebElement (session=\"3f9ccc0d013a7ea0d18483a192ac4c63\", element=\"3b05111b-36a1-45c9-9048-cd6e320b8ac2\")>]"
      ]
     },
     "execution_count": 71,
     "metadata": {},
     "output_type": "execute_result"
    }
   ],
   "source": [
    "title_tags[0:10]"
   ]
  },
  {
   "cell_type": "code",
   "execution_count": 72,
   "id": "9131c719",
   "metadata": {},
   "outputs": [
    {
     "data": {
      "text/plain": [
       "['Developers, Data Scientists, Web Designers, Android Developers']"
      ]
     },
     "execution_count": 72,
     "metadata": {},
     "output_type": "execute_result"
    }
   ],
   "source": [
    "job_titles = []\n",
    "\n",
    "for i in title_tags:\n",
    "    job_titles.append(i.text)\n",
    "len(job_titles)\n",
    "job_titles[0:10]"
   ]
  },
  {
   "cell_type": "code",
   "execution_count": 73,
   "id": "83c434af",
   "metadata": {},
   "outputs": [
    {
     "data": {
      "text/plain": [
       "1"
      ]
     },
     "execution_count": 73,
     "metadata": {},
     "output_type": "execute_result"
    }
   ],
   "source": [
    "# Extracting Company Names\n",
    "\n",
    "company_tags = driver.find_elements_by_xpath('//h3[@class=\"company-wrap\"]')\n",
    "len(company_tags)"
   ]
  },
  {
   "cell_type": "code",
   "execution_count": 74,
   "id": "a349291e",
   "metadata": {},
   "outputs": [
    {
     "data": {
      "text/plain": [
       "[<selenium.webdriver.remote.webelement.WebElement (session=\"3f9ccc0d013a7ea0d18483a192ac4c63\", element=\"bea87431-514b-477f-9501-a89406389207\")>]"
      ]
     },
     "execution_count": 74,
     "metadata": {},
     "output_type": "execute_result"
    }
   ],
   "source": [
    "company_tags[0:10]"
   ]
  },
  {
   "cell_type": "code",
   "execution_count": 75,
   "id": "8ca88c5c",
   "metadata": {},
   "outputs": [
    {
     "data": {
      "text/plain": [
       "1"
      ]
     },
     "execution_count": 75,
     "metadata": {},
     "output_type": "execute_result"
    }
   ],
   "source": [
    "company_names = []\n",
    "\n",
    "for i in company_tags:\n",
    "    company_names.append(i.text)\n",
    "len(company_names)"
   ]
  },
  {
   "cell_type": "code",
   "execution_count": 76,
   "id": "c2029b90",
   "metadata": {},
   "outputs": [
    {
     "data": {
      "text/plain": [
       "['Cogmac Technologies']"
      ]
     },
     "execution_count": 76,
     "metadata": {},
     "output_type": "execute_result"
    }
   ],
   "source": [
    "company_names[0:10]"
   ]
  },
  {
   "cell_type": "code",
   "execution_count": 77,
   "id": "5fd3b20d",
   "metadata": {},
   "outputs": [
    {
     "data": {
      "text/plain": [
       "(1, 1)"
      ]
     },
     "execution_count": 77,
     "metadata": {},
     "output_type": "execute_result"
    }
   ],
   "source": [
    "len(job_titles), len(company_names)"
   ]
  },
  {
   "cell_type": "code",
   "execution_count": 78,
   "id": "454e7f46",
   "metadata": {},
   "outputs": [
    {
     "data": {
      "text/html": [
       "<div>\n",
       "<style scoped>\n",
       "    .dataframe tbody tr th:only-of-type {\n",
       "        vertical-align: middle;\n",
       "    }\n",
       "\n",
       "    .dataframe tbody tr th {\n",
       "        vertical-align: top;\n",
       "    }\n",
       "\n",
       "    .dataframe thead th {\n",
       "        text-align: right;\n",
       "    }\n",
       "</style>\n",
       "<table border=\"1\" class=\"dataframe\">\n",
       "  <thead>\n",
       "    <tr style=\"text-align: right;\">\n",
       "      <th></th>\n",
       "      <th>Job Title</th>\n",
       "      <th>Company</th>\n",
       "    </tr>\n",
       "  </thead>\n",
       "  <tbody>\n",
       "    <tr>\n",
       "      <th>0</th>\n",
       "      <td>Developers, Data Scientists, Web Designers, An...</td>\n",
       "      <td>Cogmac Technologies</td>\n",
       "    </tr>\n",
       "  </tbody>\n",
       "</table>\n",
       "</div>"
      ],
      "text/plain": [
       "                                           Job Title              Company\n",
       "0  Developers, Data Scientists, Web Designers, An...  Cogmac Technologies"
      ]
     },
     "execution_count": 78,
     "metadata": {},
     "output_type": "execute_result"
    }
   ],
   "source": [
    "# Making DataFrame\n",
    "\n",
    "jobs = pd.DataFrame()\n",
    "jobs['Job Title'] = job_titles\n",
    "jobs['Company'] = company_names\n",
    "jobs"
   ]
  },
  {
   "cell_type": "markdown",
   "id": "f88d466f",
   "metadata": {},
   "source": [
    "# Question10"
   ]
  },
  {
   "cell_type": "code",
   "execution_count": 79,
   "id": "2c45dd3e",
   "metadata": {},
   "outputs": [],
   "source": [
    "# Python program to scrape the salary data for Data Scientist designation"
   ]
  },
  {
   "cell_type": "code",
   "execution_count": 114,
   "id": "dc570ad8",
   "metadata": {},
   "outputs": [],
   "source": [
    "import selenium\n",
    "from selenium import webdriver\n",
    "import pandas as pd\n",
    "import warnings\n",
    "warnings.filterwarnings(\"ignore\")"
   ]
  },
  {
   "cell_type": "code",
   "execution_count": 115,
   "id": "823e8942",
   "metadata": {},
   "outputs": [],
   "source": [
    "# Let's first connect to webdriver\n",
    "driver = webdriver.Chrome(r'C:\\Users\\K K SHARMA\\Downloads\\Chromedriver_win32\\Chromedriver')"
   ]
  },
  {
   "cell_type": "code",
   "execution_count": 116,
   "id": "04f32e66",
   "metadata": {},
   "outputs": [],
   "source": [
    "url ='https://www.ambitionbox.com/'\n",
    "driver.get(url)"
   ]
  },
  {
   "cell_type": "code",
   "execution_count": 123,
   "id": "284dbd40",
   "metadata": {},
   "outputs": [
    {
     "data": {
      "text/plain": [
       "<selenium.webdriver.remote.webelement.WebElement (session=\"6390b02962812a19e75726fbf041238c\", element=\"6c1f9e2e-9d26-4dd2-83b1-980d6c7d2855\")>"
      ]
     },
     "execution_count": 123,
     "metadata": {},
     "output_type": "execute_result"
    }
   ],
   "source": [
    "# Finding web element for search Job bar using id\n",
    "search_job = driver.find_element_by_id(\"jobProfileSearchbox\")\n",
    "search_job"
   ]
  },
  {
   "cell_type": "code",
   "execution_count": 124,
   "id": "63648bca",
   "metadata": {},
   "outputs": [],
   "source": [
    "# write on Search bar\n",
    "search_job.send_keys(\"Data Scientist\")"
   ]
  },
  {
   "cell_type": "code",
   "execution_count": 125,
   "id": "11b6b308",
   "metadata": {},
   "outputs": [
    {
     "data": {
      "text/plain": [
       "<selenium.webdriver.remote.webelement.WebElement (session=\"6390b02962812a19e75726fbf041238c\", element=\"ffaa1acb-e8d3-4240-b34c-90c00c1b59a1\")>"
      ]
     },
     "execution_count": 125,
     "metadata": {},
     "output_type": "execute_result"
    }
   ],
   "source": [
    "# Clicking using absolute X Path function \n",
    "search_btn = driver.find_element_by_xpath('/html/body/div/div/div/main/section[1]/div[2]/div[1]/i[1]')\n",
    "search_btn"
   ]
  },
  {
   "cell_type": "code",
   "execution_count": 127,
   "id": "70375866",
   "metadata": {},
   "outputs": [],
   "source": [
    "search_btn.click()"
   ]
  },
  {
   "cell_type": "code",
   "execution_count": 133,
   "id": "cc6cc4bd",
   "metadata": {},
   "outputs": [
    {
     "data": {
      "text/plain": [
       "1"
      ]
     },
     "execution_count": 133,
     "metadata": {},
     "output_type": "execute_result"
    }
   ],
   "source": [
    "# Extracting Company Names\n",
    "\n",
    "company_name = driver.find_elements_by_xpath(\"//div[@class='name']/a\")\n",
    "len(company_tags)"
   ]
  },
  {
   "cell_type": "code",
   "execution_count": null,
   "id": "3dbe7fe0",
   "metadata": {},
   "outputs": [],
   "source": []
  }
 ],
 "metadata": {
  "kernelspec": {
   "display_name": "Python 3",
   "language": "python",
   "name": "python3"
  },
  "language_info": {
   "codemirror_mode": {
    "name": "ipython",
    "version": 3
   },
   "file_extension": ".py",
   "mimetype": "text/x-python",
   "name": "python",
   "nbconvert_exporter": "python",
   "pygments_lexer": "ipython3",
   "version": "3.8.8"
  }
 },
 "nbformat": 4,
 "nbformat_minor": 5
}
